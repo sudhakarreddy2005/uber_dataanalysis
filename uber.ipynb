{
 "cells": [
  {
   "cell_type": "markdown",
   "id": "7879152f-99b4-4905-8f6d-b6c8ca0fb071",
   "metadata": {},
   "source": [
    "## 🚗 Uber Ride Analytics Dataset 2024\n",
    "This comprehensive dataset contains detailed ride-sharing data from Uber operations for the year 2024, providing rich insights into booking patterns, vehicle performance, revenue streams, cancellation behaviors, and customer satisfaction metrics.\n",
    "\n"
   ]
  },
  {
   "cell_type": "code",
   "execution_count": 80,
   "id": "06bc8d60-a92f-4ec8-a6d0-e57c7918edee",
   "metadata": {},
   "outputs": [],
   "source": [
    "import numpy as np\n",
    "import pandas as pd\n",
    "import matplotlib.pyplot as plt\n",
    "import seaborn as sns\n"
   ]
  },
  {
   "cell_type": "code",
   "execution_count": 81,
   "id": "25b36d21-92c9-4d5b-ad4a-54d5939b8c3c",
   "metadata": {},
   "outputs": [],
   "source": [
    "sns.set_style('whitegrid')"
   ]
  },
  {
   "cell_type": "code",
   "execution_count": 82,
   "id": "20426fb5-f773-4514-a642-03a63f3a3bd3",
   "metadata": {},
   "outputs": [],
   "source": [
    "df_uber = pd.read_csv('uber_ride_bookings.csv')"
   ]
  },
  {
   "cell_type": "code",
   "execution_count": 83,
   "id": "25dd1fbc-7a17-4ec6-8c32-9a2fdb6645d1",
   "metadata": {},
   "outputs": [
    {
     "data": {
      "text/html": [
       "<div>\n",
       "<style scoped>\n",
       "    .dataframe tbody tr th:only-of-type {\n",
       "        vertical-align: middle;\n",
       "    }\n",
       "\n",
       "    .dataframe tbody tr th {\n",
       "        vertical-align: top;\n",
       "    }\n",
       "\n",
       "    .dataframe thead th {\n",
       "        text-align: right;\n",
       "    }\n",
       "</style>\n",
       "<table border=\"1\" class=\"dataframe\">\n",
       "  <thead>\n",
       "    <tr style=\"text-align: right;\">\n",
       "      <th></th>\n",
       "      <th>Date</th>\n",
       "      <th>Time</th>\n",
       "      <th>Booking ID</th>\n",
       "      <th>Booking Status</th>\n",
       "      <th>Customer ID</th>\n",
       "      <th>Vehicle Type</th>\n",
       "      <th>Pickup Location</th>\n",
       "      <th>Drop Location</th>\n",
       "      <th>Avg VTAT</th>\n",
       "      <th>Avg CTAT</th>\n",
       "      <th>...</th>\n",
       "      <th>Reason for cancelling by Customer</th>\n",
       "      <th>Cancelled Rides by Driver</th>\n",
       "      <th>Driver Cancellation Reason</th>\n",
       "      <th>Incomplete Rides</th>\n",
       "      <th>Incomplete Rides Reason</th>\n",
       "      <th>Booking Value</th>\n",
       "      <th>Ride Distance</th>\n",
       "      <th>Driver Ratings</th>\n",
       "      <th>Customer Rating</th>\n",
       "      <th>Payment Method</th>\n",
       "    </tr>\n",
       "  </thead>\n",
       "  <tbody>\n",
       "    <tr>\n",
       "      <th>0</th>\n",
       "      <td>2024-03-23</td>\n",
       "      <td>12:29:38</td>\n",
       "      <td>\"CNR5884300\"</td>\n",
       "      <td>No Driver Found</td>\n",
       "      <td>\"CID1982111\"</td>\n",
       "      <td>eBike</td>\n",
       "      <td>Palam Vihar</td>\n",
       "      <td>Jhilmil</td>\n",
       "      <td>NaN</td>\n",
       "      <td>NaN</td>\n",
       "      <td>...</td>\n",
       "      <td>NaN</td>\n",
       "      <td>NaN</td>\n",
       "      <td>NaN</td>\n",
       "      <td>NaN</td>\n",
       "      <td>NaN</td>\n",
       "      <td>NaN</td>\n",
       "      <td>NaN</td>\n",
       "      <td>NaN</td>\n",
       "      <td>NaN</td>\n",
       "      <td>NaN</td>\n",
       "    </tr>\n",
       "    <tr>\n",
       "      <th>1</th>\n",
       "      <td>2024-11-29</td>\n",
       "      <td>18:01:39</td>\n",
       "      <td>\"CNR1326809\"</td>\n",
       "      <td>Incomplete</td>\n",
       "      <td>\"CID4604802\"</td>\n",
       "      <td>Go Sedan</td>\n",
       "      <td>Shastri Nagar</td>\n",
       "      <td>Gurgaon Sector 56</td>\n",
       "      <td>4.9</td>\n",
       "      <td>14.0</td>\n",
       "      <td>...</td>\n",
       "      <td>NaN</td>\n",
       "      <td>NaN</td>\n",
       "      <td>NaN</td>\n",
       "      <td>1.0</td>\n",
       "      <td>Vehicle Breakdown</td>\n",
       "      <td>237.0</td>\n",
       "      <td>5.73</td>\n",
       "      <td>NaN</td>\n",
       "      <td>NaN</td>\n",
       "      <td>UPI</td>\n",
       "    </tr>\n",
       "    <tr>\n",
       "      <th>2</th>\n",
       "      <td>2024-08-23</td>\n",
       "      <td>08:56:10</td>\n",
       "      <td>\"CNR8494506\"</td>\n",
       "      <td>Completed</td>\n",
       "      <td>\"CID9202816\"</td>\n",
       "      <td>Auto</td>\n",
       "      <td>Khandsa</td>\n",
       "      <td>Malviya Nagar</td>\n",
       "      <td>13.4</td>\n",
       "      <td>25.8</td>\n",
       "      <td>...</td>\n",
       "      <td>NaN</td>\n",
       "      <td>NaN</td>\n",
       "      <td>NaN</td>\n",
       "      <td>NaN</td>\n",
       "      <td>NaN</td>\n",
       "      <td>627.0</td>\n",
       "      <td>13.58</td>\n",
       "      <td>4.9</td>\n",
       "      <td>4.9</td>\n",
       "      <td>Debit Card</td>\n",
       "    </tr>\n",
       "    <tr>\n",
       "      <th>3</th>\n",
       "      <td>2024-10-21</td>\n",
       "      <td>17:17:25</td>\n",
       "      <td>\"CNR8906825\"</td>\n",
       "      <td>Completed</td>\n",
       "      <td>\"CID2610914\"</td>\n",
       "      <td>Premier Sedan</td>\n",
       "      <td>Central Secretariat</td>\n",
       "      <td>Inderlok</td>\n",
       "      <td>13.1</td>\n",
       "      <td>28.5</td>\n",
       "      <td>...</td>\n",
       "      <td>NaN</td>\n",
       "      <td>NaN</td>\n",
       "      <td>NaN</td>\n",
       "      <td>NaN</td>\n",
       "      <td>NaN</td>\n",
       "      <td>416.0</td>\n",
       "      <td>34.02</td>\n",
       "      <td>4.6</td>\n",
       "      <td>5.0</td>\n",
       "      <td>UPI</td>\n",
       "    </tr>\n",
       "    <tr>\n",
       "      <th>4</th>\n",
       "      <td>2024-09-16</td>\n",
       "      <td>22:08:00</td>\n",
       "      <td>\"CNR1950162\"</td>\n",
       "      <td>Completed</td>\n",
       "      <td>\"CID9933542\"</td>\n",
       "      <td>Bike</td>\n",
       "      <td>Ghitorni Village</td>\n",
       "      <td>Khan Market</td>\n",
       "      <td>5.3</td>\n",
       "      <td>19.6</td>\n",
       "      <td>...</td>\n",
       "      <td>NaN</td>\n",
       "      <td>NaN</td>\n",
       "      <td>NaN</td>\n",
       "      <td>NaN</td>\n",
       "      <td>NaN</td>\n",
       "      <td>737.0</td>\n",
       "      <td>48.21</td>\n",
       "      <td>4.1</td>\n",
       "      <td>4.3</td>\n",
       "      <td>UPI</td>\n",
       "    </tr>\n",
       "    <tr>\n",
       "      <th>...</th>\n",
       "      <td>...</td>\n",
       "      <td>...</td>\n",
       "      <td>...</td>\n",
       "      <td>...</td>\n",
       "      <td>...</td>\n",
       "      <td>...</td>\n",
       "      <td>...</td>\n",
       "      <td>...</td>\n",
       "      <td>...</td>\n",
       "      <td>...</td>\n",
       "      <td>...</td>\n",
       "      <td>...</td>\n",
       "      <td>...</td>\n",
       "      <td>...</td>\n",
       "      <td>...</td>\n",
       "      <td>...</td>\n",
       "      <td>...</td>\n",
       "      <td>...</td>\n",
       "      <td>...</td>\n",
       "      <td>...</td>\n",
       "      <td>...</td>\n",
       "    </tr>\n",
       "    <tr>\n",
       "      <th>149995</th>\n",
       "      <td>2024-11-11</td>\n",
       "      <td>19:34:01</td>\n",
       "      <td>\"CNR6500631\"</td>\n",
       "      <td>Completed</td>\n",
       "      <td>\"CID4337371\"</td>\n",
       "      <td>Go Mini</td>\n",
       "      <td>MG Road</td>\n",
       "      <td>Ghitorni</td>\n",
       "      <td>10.2</td>\n",
       "      <td>44.4</td>\n",
       "      <td>...</td>\n",
       "      <td>NaN</td>\n",
       "      <td>NaN</td>\n",
       "      <td>NaN</td>\n",
       "      <td>NaN</td>\n",
       "      <td>NaN</td>\n",
       "      <td>475.0</td>\n",
       "      <td>40.08</td>\n",
       "      <td>3.7</td>\n",
       "      <td>4.1</td>\n",
       "      <td>Uber Wallet</td>\n",
       "    </tr>\n",
       "    <tr>\n",
       "      <th>149996</th>\n",
       "      <td>2024-11-24</td>\n",
       "      <td>15:55:09</td>\n",
       "      <td>\"CNR2468611\"</td>\n",
       "      <td>Completed</td>\n",
       "      <td>\"CID2325623\"</td>\n",
       "      <td>Go Mini</td>\n",
       "      <td>Golf Course Road</td>\n",
       "      <td>Akshardham</td>\n",
       "      <td>5.1</td>\n",
       "      <td>30.8</td>\n",
       "      <td>...</td>\n",
       "      <td>NaN</td>\n",
       "      <td>NaN</td>\n",
       "      <td>NaN</td>\n",
       "      <td>NaN</td>\n",
       "      <td>NaN</td>\n",
       "      <td>1093.0</td>\n",
       "      <td>21.31</td>\n",
       "      <td>4.8</td>\n",
       "      <td>5.0</td>\n",
       "      <td>UPI</td>\n",
       "    </tr>\n",
       "    <tr>\n",
       "      <th>149997</th>\n",
       "      <td>2024-09-18</td>\n",
       "      <td>10:55:15</td>\n",
       "      <td>\"CNR6358306\"</td>\n",
       "      <td>Completed</td>\n",
       "      <td>\"CID9925486\"</td>\n",
       "      <td>Go Sedan</td>\n",
       "      <td>Satguru Ram Singh Marg</td>\n",
       "      <td>Jor Bagh</td>\n",
       "      <td>2.7</td>\n",
       "      <td>23.4</td>\n",
       "      <td>...</td>\n",
       "      <td>NaN</td>\n",
       "      <td>NaN</td>\n",
       "      <td>NaN</td>\n",
       "      <td>NaN</td>\n",
       "      <td>NaN</td>\n",
       "      <td>852.0</td>\n",
       "      <td>15.93</td>\n",
       "      <td>3.9</td>\n",
       "      <td>4.4</td>\n",
       "      <td>Cash</td>\n",
       "    </tr>\n",
       "    <tr>\n",
       "      <th>149998</th>\n",
       "      <td>2024-10-05</td>\n",
       "      <td>07:53:34</td>\n",
       "      <td>\"CNR3030099\"</td>\n",
       "      <td>Completed</td>\n",
       "      <td>\"CID9415487\"</td>\n",
       "      <td>Auto</td>\n",
       "      <td>Ghaziabad</td>\n",
       "      <td>Saidulajab</td>\n",
       "      <td>6.9</td>\n",
       "      <td>39.6</td>\n",
       "      <td>...</td>\n",
       "      <td>NaN</td>\n",
       "      <td>NaN</td>\n",
       "      <td>NaN</td>\n",
       "      <td>NaN</td>\n",
       "      <td>NaN</td>\n",
       "      <td>333.0</td>\n",
       "      <td>45.54</td>\n",
       "      <td>4.1</td>\n",
       "      <td>3.7</td>\n",
       "      <td>UPI</td>\n",
       "    </tr>\n",
       "    <tr>\n",
       "      <th>149999</th>\n",
       "      <td>2024-03-10</td>\n",
       "      <td>15:38:03</td>\n",
       "      <td>\"CNR3447390\"</td>\n",
       "      <td>Completed</td>\n",
       "      <td>\"CID4108667\"</td>\n",
       "      <td>Premier Sedan</td>\n",
       "      <td>Ashok Park Main</td>\n",
       "      <td>Gurgaon Sector 29</td>\n",
       "      <td>3.5</td>\n",
       "      <td>33.7</td>\n",
       "      <td>...</td>\n",
       "      <td>NaN</td>\n",
       "      <td>NaN</td>\n",
       "      <td>NaN</td>\n",
       "      <td>NaN</td>\n",
       "      <td>NaN</td>\n",
       "      <td>806.0</td>\n",
       "      <td>21.19</td>\n",
       "      <td>4.6</td>\n",
       "      <td>4.9</td>\n",
       "      <td>Credit Card</td>\n",
       "    </tr>\n",
       "  </tbody>\n",
       "</table>\n",
       "<p>150000 rows × 21 columns</p>\n",
       "</div>"
      ],
      "text/plain": [
       "              Date      Time    Booking ID   Booking Status   Customer ID  \\\n",
       "0       2024-03-23  12:29:38  \"CNR5884300\"  No Driver Found  \"CID1982111\"   \n",
       "1       2024-11-29  18:01:39  \"CNR1326809\"       Incomplete  \"CID4604802\"   \n",
       "2       2024-08-23  08:56:10  \"CNR8494506\"        Completed  \"CID9202816\"   \n",
       "3       2024-10-21  17:17:25  \"CNR8906825\"        Completed  \"CID2610914\"   \n",
       "4       2024-09-16  22:08:00  \"CNR1950162\"        Completed  \"CID9933542\"   \n",
       "...            ...       ...           ...              ...           ...   \n",
       "149995  2024-11-11  19:34:01  \"CNR6500631\"        Completed  \"CID4337371\"   \n",
       "149996  2024-11-24  15:55:09  \"CNR2468611\"        Completed  \"CID2325623\"   \n",
       "149997  2024-09-18  10:55:15  \"CNR6358306\"        Completed  \"CID9925486\"   \n",
       "149998  2024-10-05  07:53:34  \"CNR3030099\"        Completed  \"CID9415487\"   \n",
       "149999  2024-03-10  15:38:03  \"CNR3447390\"        Completed  \"CID4108667\"   \n",
       "\n",
       "         Vehicle Type         Pickup Location      Drop Location  Avg VTAT  \\\n",
       "0               eBike             Palam Vihar            Jhilmil       NaN   \n",
       "1            Go Sedan           Shastri Nagar  Gurgaon Sector 56       4.9   \n",
       "2                Auto                 Khandsa      Malviya Nagar      13.4   \n",
       "3       Premier Sedan     Central Secretariat           Inderlok      13.1   \n",
       "4                Bike        Ghitorni Village        Khan Market       5.3   \n",
       "...               ...                     ...                ...       ...   \n",
       "149995        Go Mini                 MG Road           Ghitorni      10.2   \n",
       "149996        Go Mini        Golf Course Road         Akshardham       5.1   \n",
       "149997       Go Sedan  Satguru Ram Singh Marg           Jor Bagh       2.7   \n",
       "149998           Auto               Ghaziabad         Saidulajab       6.9   \n",
       "149999  Premier Sedan         Ashok Park Main  Gurgaon Sector 29       3.5   \n",
       "\n",
       "        Avg CTAT  ...  Reason for cancelling by Customer  \\\n",
       "0            NaN  ...                                NaN   \n",
       "1           14.0  ...                                NaN   \n",
       "2           25.8  ...                                NaN   \n",
       "3           28.5  ...                                NaN   \n",
       "4           19.6  ...                                NaN   \n",
       "...          ...  ...                                ...   \n",
       "149995      44.4  ...                                NaN   \n",
       "149996      30.8  ...                                NaN   \n",
       "149997      23.4  ...                                NaN   \n",
       "149998      39.6  ...                                NaN   \n",
       "149999      33.7  ...                                NaN   \n",
       "\n",
       "       Cancelled Rides by Driver  Driver Cancellation Reason Incomplete Rides  \\\n",
       "0                            NaN                         NaN              NaN   \n",
       "1                            NaN                         NaN              1.0   \n",
       "2                            NaN                         NaN              NaN   \n",
       "3                            NaN                         NaN              NaN   \n",
       "4                            NaN                         NaN              NaN   \n",
       "...                          ...                         ...              ...   \n",
       "149995                       NaN                         NaN              NaN   \n",
       "149996                       NaN                         NaN              NaN   \n",
       "149997                       NaN                         NaN              NaN   \n",
       "149998                       NaN                         NaN              NaN   \n",
       "149999                       NaN                         NaN              NaN   \n",
       "\n",
       "        Incomplete Rides Reason Booking Value  Ride Distance  Driver Ratings  \\\n",
       "0                           NaN           NaN            NaN             NaN   \n",
       "1             Vehicle Breakdown         237.0           5.73             NaN   \n",
       "2                           NaN         627.0          13.58             4.9   \n",
       "3                           NaN         416.0          34.02             4.6   \n",
       "4                           NaN         737.0          48.21             4.1   \n",
       "...                         ...           ...            ...             ...   \n",
       "149995                      NaN         475.0          40.08             3.7   \n",
       "149996                      NaN        1093.0          21.31             4.8   \n",
       "149997                      NaN         852.0          15.93             3.9   \n",
       "149998                      NaN         333.0          45.54             4.1   \n",
       "149999                      NaN         806.0          21.19             4.6   \n",
       "\n",
       "        Customer Rating  Payment Method  \n",
       "0                   NaN             NaN  \n",
       "1                   NaN             UPI  \n",
       "2                   4.9      Debit Card  \n",
       "3                   5.0             UPI  \n",
       "4                   4.3             UPI  \n",
       "...                 ...             ...  \n",
       "149995              4.1     Uber Wallet  \n",
       "149996              5.0             UPI  \n",
       "149997              4.4            Cash  \n",
       "149998              3.7             UPI  \n",
       "149999              4.9     Credit Card  \n",
       "\n",
       "[150000 rows x 21 columns]"
      ]
     },
     "execution_count": 83,
     "metadata": {},
     "output_type": "execute_result"
    }
   ],
   "source": [
    "df_uber"
   ]
  },
  {
   "cell_type": "code",
   "execution_count": 84,
   "id": "d23f135c-9602-4faf-ad6f-9b99d814e1e6",
   "metadata": {},
   "outputs": [
    {
     "data": {
      "text/plain": [
       "(150000, 21)"
      ]
     },
     "execution_count": 84,
     "metadata": {},
     "output_type": "execute_result"
    }
   ],
   "source": [
    "df_uber.shape\n",
    "# 1.5 lak rows,21 columns"
   ]
  },
  {
   "cell_type": "code",
   "execution_count": 85,
   "id": "75339449-d87c-4127-b24a-41b939dec661",
   "metadata": {},
   "outputs": [
    {
     "data": {
      "text/plain": [
       "Incomplete Rides Reason              94.0\n",
       "Incomplete Rides                     94.0\n",
       "Reason for cancelling by Customer    93.0\n",
       "Cancelled Rides by Customer          93.0\n",
       "Cancelled Rides by Driver            82.0\n",
       "Driver Cancellation Reason           82.0\n",
       "Driver Ratings                       38.0\n",
       "Customer Rating                      38.0\n",
       "Avg CTAT                             32.0\n",
       "Ride Distance                        32.0\n",
       "Booking Value                        32.0\n",
       "Payment Method                       32.0\n",
       "Avg VTAT                              7.0\n",
       "Customer ID                           0.0\n",
       "Booking Status                        0.0\n",
       "Booking ID                            0.0\n",
       "Time                                  0.0\n",
       "Date                                  0.0\n",
       "Pickup Location                       0.0\n",
       "Drop Location                         0.0\n",
       "Vehicle Type                          0.0\n",
       "dtype: float64"
      ]
     },
     "execution_count": 85,
     "metadata": {},
     "output_type": "execute_result"
    }
   ],
   "source": [
    "(df_uber.isnull().mean()*100).sort_values(ascending=False)"
   ]
  },
  {
   "cell_type": "code",
   "execution_count": 86,
   "id": "cb9b231b-d7ae-436b-a126-00fd016f359c",
   "metadata": {},
   "outputs": [],
   "source": [
    "#clearly we can see columns like\n",
    "# Incomplete Rides Reason              94.0\n",
    "# Incomplete Rides                     94.0\n",
    "# Reason for cancelling by Customer    93.0\n",
    "# Cancelled Rides by Customer          93.0\n",
    "# Cancelled Rides by Driver            82.0\n",
    "# Driver Cancellation Reason           82.0\n",
    "# Driver Ratings                       38.0\n",
    "# Customer Rating                      38.0\n",
    "# Avg CTAT                             32.0\n",
    "# Ride Distance                        32.0\n",
    "# Booking Value                        32.0\n",
    "# Payment Method                       32.0"
   ]
  },
  {
   "cell_type": "code",
   "execution_count": 87,
   "id": "0219fcb8-7880-4456-ac6c-58d166d1ca3b",
   "metadata": {},
   "outputs": [
    {
     "data": {
      "text/plain": [
       "Incomplete Rides Reason\n",
       "Customer Demand      3040\n",
       "Vehicle Breakdown    3012\n",
       "Other Issue          2948\n",
       "Name: count, dtype: int64"
      ]
     },
     "execution_count": 87,
     "metadata": {},
     "output_type": "execute_result"
    }
   ],
   "source": [
    "df_uber['Incomplete Rides Reason'].value_counts()"
   ]
  },
  {
   "cell_type": "code",
   "execution_count": 88,
   "id": "925e30e3-bdc5-4a07-9988-c489a7f28f91",
   "metadata": {},
   "outputs": [
    {
     "data": {
      "text/plain": [
       "Incomplete Rides\n",
       "1.0    9000\n",
       "Name: count, dtype: int64"
      ]
     },
     "execution_count": 88,
     "metadata": {},
     "output_type": "execute_result"
    }
   ],
   "source": [
    "df_uber['Incomplete Rides'].value_counts()"
   ]
  },
  {
   "cell_type": "code",
   "execution_count": 89,
   "id": "9f9d2fd9-3ff4-4a10-a384-5a0674688ef8",
   "metadata": {},
   "outputs": [
    {
     "data": {
      "text/plain": [
       "Reason for cancelling by Customer\n",
       "Wrong Address                                   2362\n",
       "Change of plans                                 2353\n",
       "Driver is not moving towards pickup location    2335\n",
       "Driver asked to cancel                          2295\n",
       "AC is not working                               1155\n",
       "Name: count, dtype: int64"
      ]
     },
     "execution_count": 89,
     "metadata": {},
     "output_type": "execute_result"
    }
   ],
   "source": [
    "df_uber['Reason for cancelling by Customer'].value_counts()"
   ]
  },
  {
   "cell_type": "code",
   "execution_count": 90,
   "id": "cd641112-e732-4488-a401-2bffdcc635e7",
   "metadata": {},
   "outputs": [
    {
     "data": {
      "text/plain": [
       "Cancelled Rides by Customer\n",
       "1.0    10500\n",
       "Name: count, dtype: int64"
      ]
     },
     "execution_count": 90,
     "metadata": {},
     "output_type": "execute_result"
    }
   ],
   "source": [
    "df_uber['Cancelled Rides by Customer'].value_counts()"
   ]
  },
  {
   "cell_type": "code",
   "execution_count": 91,
   "id": "a5d31fc5-1eb2-4e7c-96b6-e977008f7387",
   "metadata": {},
   "outputs": [
    {
     "data": {
      "text/plain": [
       "Driver Cancellation Reason\n",
       "Customer related issue                 6837\n",
       "The customer was coughing/sick         6751\n",
       "Personal & Car related issues          6726\n",
       "More than permitted people in there    6686\n",
       "Name: count, dtype: int64"
      ]
     },
     "execution_count": 91,
     "metadata": {},
     "output_type": "execute_result"
    }
   ],
   "source": [
    "df_uber['Driver Cancellation Reason'].value_counts()"
   ]
  },
  {
   "cell_type": "code",
   "execution_count": 92,
   "id": "634cd86f-5499-473b-b73a-e20969f37623",
   "metadata": {},
   "outputs": [
    {
     "data": {
      "text/plain": [
       "Driver Ratings\n",
       "4.3    14081\n",
       "4.2    13841\n",
       "4.6     9368\n",
       "4.4     7018\n",
       "4.1     6966\n",
       "4.9     4705\n",
       "4.7     4678\n",
       "4.5     4634\n",
       "3.9     3915\n",
       "3.8     3848\n",
       "3.7     3790\n",
       "5.0     2365\n",
       "4.8     2328\n",
       "3.6     2026\n",
       "4.0     1995\n",
       "3.2     1538\n",
       "3.4     1491\n",
       "3.3     1461\n",
       "3.1     1459\n",
       "3.5      748\n",
       "3.0      745\n",
       "Name: count, dtype: int64"
      ]
     },
     "execution_count": 92,
     "metadata": {},
     "output_type": "execute_result"
    }
   ],
   "source": [
    "df_uber['Driver Ratings'].value_counts()"
   ]
  },
  {
   "cell_type": "code",
   "execution_count": 93,
   "id": "29451404-434b-4953-ad75-38926bd4bb2f",
   "metadata": {},
   "outputs": [
    {
     "data": {
      "text/plain": [
       "Avg CTAT\n",
       "24.8    401\n",
       "25.9    389\n",
       "28.1    388\n",
       "20.5    386\n",
       "25.3    383\n",
       "       ... \n",
       "11.6     34\n",
       "11.1     34\n",
       "14.5     32\n",
       "13.8     27\n",
       "10.0     23\n",
       "Name: count, Length: 351, dtype: int64"
      ]
     },
     "execution_count": 93,
     "metadata": {},
     "output_type": "execute_result"
    }
   ],
   "source": [
    "df_uber['Avg CTAT'].value_counts()"
   ]
  },
  {
   "cell_type": "code",
   "execution_count": 94,
   "id": "dc580c17-1985-4eda-950a-2f07e451f03a",
   "metadata": {},
   "outputs": [
    {
     "data": {
      "text/plain": [
       "Ride Distance\n",
       "9.61     43\n",
       "17.31    43\n",
       "14.47    42\n",
       "3.44     41\n",
       "12.87    41\n",
       "         ..\n",
       "1.20      1\n",
       "1.93      1\n",
       "1.08      1\n",
       "1.55      1\n",
       "1.56      1\n",
       "Name: count, Length: 4901, dtype: int64"
      ]
     },
     "execution_count": 94,
     "metadata": {},
     "output_type": "execute_result"
    }
   ],
   "source": [
    "df_uber['Ride Distance'].value_counts()"
   ]
  },
  {
   "cell_type": "code",
   "execution_count": 95,
   "id": "86a7f037-20c2-42de-ad12-3c4b59001abf",
   "metadata": {},
   "outputs": [
    {
     "data": {
      "text/plain": [
       "Booking Value\n",
       "176.0     177\n",
       "125.0     174\n",
       "200.0     170\n",
       "408.0     169\n",
       "186.0     168\n",
       "         ... \n",
       "3037.0      1\n",
       "2311.0      1\n",
       "2863.0      1\n",
       "2144.0      1\n",
       "1997.0      1\n",
       "Name: count, Length: 2566, dtype: int64"
      ]
     },
     "execution_count": 95,
     "metadata": {},
     "output_type": "execute_result"
    }
   ],
   "source": [
    "df_uber['Booking Value'].value_counts()"
   ]
  },
  {
   "cell_type": "code",
   "execution_count": 96,
   "id": "ffecfcfd-bf59-40e2-b53f-043577978f6c",
   "metadata": {},
   "outputs": [
    {
     "data": {
      "text/plain": [
       "Payment Method\n",
       "UPI            45909\n",
       "Cash           25367\n",
       "Uber Wallet    12276\n",
       "Credit Card    10209\n",
       "Debit Card      8239\n",
       "Name: count, dtype: int64"
      ]
     },
     "execution_count": 96,
     "metadata": {},
     "output_type": "execute_result"
    }
   ],
   "source": [
    "df_uber['Payment Method'].value_counts()"
   ]
  },
  {
   "cell_type": "code",
   "execution_count": 97,
   "id": "31614225-b790-4668-94bb-b119a569d5a1",
   "metadata": {},
   "outputs": [
    {
     "data": {
      "text/plain": [
       "Date                                  object\n",
       "Time                                  object\n",
       "Booking ID                            object\n",
       "Booking Status                        object\n",
       "Customer ID                           object\n",
       "Vehicle Type                          object\n",
       "Pickup Location                       object\n",
       "Drop Location                         object\n",
       "Avg VTAT                             float64\n",
       "Avg CTAT                             float64\n",
       "Cancelled Rides by Customer          float64\n",
       "Reason for cancelling by Customer     object\n",
       "Cancelled Rides by Driver            float64\n",
       "Driver Cancellation Reason            object\n",
       "Incomplete Rides                     float64\n",
       "Incomplete Rides Reason               object\n",
       "Booking Value                        float64\n",
       "Ride Distance                        float64\n",
       "Driver Ratings                       float64\n",
       "Customer Rating                      float64\n",
       "Payment Method                        object\n",
       "dtype: object"
      ]
     },
     "execution_count": 97,
     "metadata": {},
     "output_type": "execute_result"
    }
   ],
   "source": [
    "df_uber.dtypes\n",
    "# Date\tDate of the booking\n",
    "# Time\tTime of the booking\n",
    "# Booking ID\tUnique identifier for each ride booking\n",
    "# Booking Status\tStatus of booking (Completed, Cancelled by Customer, Cancelled by Driver, etc.)\n",
    "# Customer ID\tUnique identifier for customers\n",
    "# Vehicle Type\tType of vehicle (Go Mini, Go Sedan, Auto, eBike/Bike, UberXL, Premier Sedan)\n",
    "# Pickup Location\tStarting location of the ride\n",
    "# Drop Location\tDestination location of the ride\n",
    "# Avg VTAT\tAverage Vehicle Time at Arrival\n",
    "# Avg CTAT\tAverage Customer Time at Arrival\n",
    "# Cancelled Rides by Customer\tCustomer-initiated cancellation flag\n",
    "# Reason for cancelling by Customer\tReason for customer cancellation\n",
    "# Cancelled Rides by Driver\tDriver-initiated cancellation flag\n",
    "# Driver Cancellation Reason\tReason for driver cancellation\n",
    "# Incomplete Rides\tIncomplete ride flag\n",
    "# Incomplete Rides Reason\tReason for incomplete rides\n",
    "# Booking Value\tTotal fare amount for the ride\n",
    "# Ride Distance\tDistance covered during the ride (in km)\n",
    "# Driver Ratings\tRating given to driver (1-5 scale)\n",
    "# Customer Rating\tRating given by customer (1-5 scale)\n",
    "# Payment Method\tMethod used for payment (UPI, Cash, Credit Card, Uber Wallet, Debit Card)'''\n"
   ]
  },
  {
   "cell_type": "markdown",
   "id": "d92ab775-6984-4d70-9871-68ad3905076f",
   "metadata": {},
   "source": [
    "<!-- Booking ID                            object str\n",
    "Booking Status                        object str\n",
    "Customer ID                           object str\n",
    "Vehicle Type                          object str\n",
    "Pickup Location                       object str\n",
    "Drop Location                         object str\n",
    "Reason for cancelling by Customer     object str\n",
    "Driver Cancellation Reason            objec  str\n",
    "Incomplete Rides Reason                object to str\n",
    "Payment Method                        object   -->\n",
    "<!-- aall this needed to change the dtypes for better datamaipulation -->"
   ]
  },
  {
   "cell_type": "code",
   "execution_count": 98,
   "id": "2737a9e3-7c65-42ee-9176-207fbd2d9abd",
   "metadata": {},
   "outputs": [],
   "source": [
    "df_uber['Booking Status'] = df_uber['Booking Status'].astype('string')"
   ]
  },
  {
   "cell_type": "code",
   "execution_count": 99,
   "id": "d1528cc3-591a-4db4-b414-6f2903b67f8f",
   "metadata": {},
   "outputs": [],
   "source": [
    "df_uber['Booking ID'] = df_uber['Booking ID'].astype('string')"
   ]
  },
  {
   "cell_type": "code",
   "execution_count": 100,
   "id": "64153fc9-c3ce-4a3a-837a-496b21209867",
   "metadata": {},
   "outputs": [],
   "source": [
    "df_uber['Customer ID'] = df_uber['Customer ID'].astype('string')"
   ]
  },
  {
   "cell_type": "code",
   "execution_count": 101,
   "id": "5f792022-44a1-4d2c-82f4-7474331c4b0a",
   "metadata": {},
   "outputs": [],
   "source": [
    "df_uber['Vehicle Type'] = df_uber['Vehicle Type'].astype('string')"
   ]
  },
  {
   "cell_type": "code",
   "execution_count": 102,
   "id": "8b6a2b00-f509-4807-8d34-acc9cac3d0e3",
   "metadata": {},
   "outputs": [],
   "source": [
    "df_uber['Pickup Location'] = df_uber['Pickup Location'].astype('string')"
   ]
  },
  {
   "cell_type": "code",
   "execution_count": 103,
   "id": "a6b07701-9d3f-4f33-97a0-6ee165d339e7",
   "metadata": {},
   "outputs": [],
   "source": [
    "df_uber['Drop Location'] = df_uber['Drop Location'].astype('string')"
   ]
  },
  {
   "cell_type": "code",
   "execution_count": 104,
   "id": "73b30f6b-5084-4e27-8df8-976b1ca7ab91",
   "metadata": {},
   "outputs": [],
   "source": [
    "df_uber['Reason for cancelling by Customer'] = df_uber['Reason for cancelling by Customer'].astype('string')"
   ]
  },
  {
   "cell_type": "code",
   "execution_count": 105,
   "id": "af6eef68-ee92-4b4f-8045-cccf5eba6290",
   "metadata": {},
   "outputs": [],
   "source": [
    "df_uber['Driver Cancellation Reason'] = df_uber['Driver Cancellation Reason'].astype('string')"
   ]
  },
  {
   "cell_type": "code",
   "execution_count": 106,
   "id": "c49cd5bf-f32b-4e7a-9233-f9905fdc2150",
   "metadata": {},
   "outputs": [],
   "source": [
    "df_uber['Incomplete Rides Reason'] = df_uber['Incomplete Rides Reason'].astype('string')"
   ]
  },
  {
   "cell_type": "code",
   "execution_count": 107,
   "id": "d1a307d2-d6c7-467c-b89d-77dad740cbb4",
   "metadata": {},
   "outputs": [],
   "source": [
    "df_uber['Payment Method'] = df_uber['Payment Method'].astype('string')"
   ]
  },
  {
   "cell_type": "markdown",
   "id": "d56c8258-d343-4bf1-adf5-28350d8cb0de",
   "metadata": {},
   "source": [
    "### we manipulated the datatypes of the columns"
   ]
  },
  {
   "cell_type": "code",
   "execution_count": 108,
   "id": "befdad73-cb88-4f54-9aa4-e8e75626197b",
   "metadata": {},
   "outputs": [
    {
     "data": {
      "text/plain": [
       "Date                                         object\n",
       "Time                                         object\n",
       "Booking ID                           string[python]\n",
       "Booking Status                       string[python]\n",
       "Customer ID                          string[python]\n",
       "Vehicle Type                         string[python]\n",
       "Pickup Location                      string[python]\n",
       "Drop Location                        string[python]\n",
       "Avg VTAT                                    float64\n",
       "Avg CTAT                                    float64\n",
       "Cancelled Rides by Customer                 float64\n",
       "Reason for cancelling by Customer    string[python]\n",
       "Cancelled Rides by Driver                   float64\n",
       "Driver Cancellation Reason           string[python]\n",
       "Incomplete Rides                            float64\n",
       "Incomplete Rides Reason              string[python]\n",
       "Booking Value                               float64\n",
       "Ride Distance                               float64\n",
       "Driver Ratings                              float64\n",
       "Customer Rating                             float64\n",
       "Payment Method                       string[python]\n",
       "dtype: object"
      ]
     },
     "execution_count": 108,
     "metadata": {},
     "output_type": "execute_result"
    }
   ],
   "source": [
    "df_uber.dtypes"
   ]
  },
  {
   "cell_type": "code",
   "execution_count": 109,
   "id": "74b9d800-6e3b-435e-a5aa-c4358b190075",
   "metadata": {},
   "outputs": [
    {
     "data": {
      "text/html": [
       "<div>\n",
       "<style scoped>\n",
       "    .dataframe tbody tr th:only-of-type {\n",
       "        vertical-align: middle;\n",
       "    }\n",
       "\n",
       "    .dataframe tbody tr th {\n",
       "        vertical-align: top;\n",
       "    }\n",
       "\n",
       "    .dataframe thead th {\n",
       "        text-align: right;\n",
       "    }\n",
       "</style>\n",
       "<table border=\"1\" class=\"dataframe\">\n",
       "  <thead>\n",
       "    <tr style=\"text-align: right;\">\n",
       "      <th></th>\n",
       "      <th>Date</th>\n",
       "      <th>Time</th>\n",
       "      <th>Booking ID</th>\n",
       "      <th>Booking Status</th>\n",
       "      <th>Customer ID</th>\n",
       "      <th>Vehicle Type</th>\n",
       "      <th>Pickup Location</th>\n",
       "      <th>Drop Location</th>\n",
       "      <th>Avg VTAT</th>\n",
       "      <th>Avg CTAT</th>\n",
       "      <th>...</th>\n",
       "      <th>Reason for cancelling by Customer</th>\n",
       "      <th>Cancelled Rides by Driver</th>\n",
       "      <th>Driver Cancellation Reason</th>\n",
       "      <th>Incomplete Rides</th>\n",
       "      <th>Incomplete Rides Reason</th>\n",
       "      <th>Booking Value</th>\n",
       "      <th>Ride Distance</th>\n",
       "      <th>Driver Ratings</th>\n",
       "      <th>Customer Rating</th>\n",
       "      <th>Payment Method</th>\n",
       "    </tr>\n",
       "  </thead>\n",
       "  <tbody>\n",
       "    <tr>\n",
       "      <th>0</th>\n",
       "      <td>2024-03-23</td>\n",
       "      <td>12:29:38</td>\n",
       "      <td>\"CNR5884300\"</td>\n",
       "      <td>No Driver Found</td>\n",
       "      <td>\"CID1982111\"</td>\n",
       "      <td>eBike</td>\n",
       "      <td>Palam Vihar</td>\n",
       "      <td>Jhilmil</td>\n",
       "      <td>NaN</td>\n",
       "      <td>NaN</td>\n",
       "      <td>...</td>\n",
       "      <td>&lt;NA&gt;</td>\n",
       "      <td>NaN</td>\n",
       "      <td>&lt;NA&gt;</td>\n",
       "      <td>NaN</td>\n",
       "      <td>&lt;NA&gt;</td>\n",
       "      <td>NaN</td>\n",
       "      <td>NaN</td>\n",
       "      <td>NaN</td>\n",
       "      <td>NaN</td>\n",
       "      <td>&lt;NA&gt;</td>\n",
       "    </tr>\n",
       "    <tr>\n",
       "      <th>1</th>\n",
       "      <td>2024-11-29</td>\n",
       "      <td>18:01:39</td>\n",
       "      <td>\"CNR1326809\"</td>\n",
       "      <td>Incomplete</td>\n",
       "      <td>\"CID4604802\"</td>\n",
       "      <td>Go Sedan</td>\n",
       "      <td>Shastri Nagar</td>\n",
       "      <td>Gurgaon Sector 56</td>\n",
       "      <td>4.9</td>\n",
       "      <td>14.0</td>\n",
       "      <td>...</td>\n",
       "      <td>&lt;NA&gt;</td>\n",
       "      <td>NaN</td>\n",
       "      <td>&lt;NA&gt;</td>\n",
       "      <td>1.0</td>\n",
       "      <td>Vehicle Breakdown</td>\n",
       "      <td>237.0</td>\n",
       "      <td>5.73</td>\n",
       "      <td>NaN</td>\n",
       "      <td>NaN</td>\n",
       "      <td>UPI</td>\n",
       "    </tr>\n",
       "    <tr>\n",
       "      <th>2</th>\n",
       "      <td>2024-08-23</td>\n",
       "      <td>08:56:10</td>\n",
       "      <td>\"CNR8494506\"</td>\n",
       "      <td>Completed</td>\n",
       "      <td>\"CID9202816\"</td>\n",
       "      <td>Auto</td>\n",
       "      <td>Khandsa</td>\n",
       "      <td>Malviya Nagar</td>\n",
       "      <td>13.4</td>\n",
       "      <td>25.8</td>\n",
       "      <td>...</td>\n",
       "      <td>&lt;NA&gt;</td>\n",
       "      <td>NaN</td>\n",
       "      <td>&lt;NA&gt;</td>\n",
       "      <td>NaN</td>\n",
       "      <td>&lt;NA&gt;</td>\n",
       "      <td>627.0</td>\n",
       "      <td>13.58</td>\n",
       "      <td>4.9</td>\n",
       "      <td>4.9</td>\n",
       "      <td>Debit Card</td>\n",
       "    </tr>\n",
       "    <tr>\n",
       "      <th>3</th>\n",
       "      <td>2024-10-21</td>\n",
       "      <td>17:17:25</td>\n",
       "      <td>\"CNR8906825\"</td>\n",
       "      <td>Completed</td>\n",
       "      <td>\"CID2610914\"</td>\n",
       "      <td>Premier Sedan</td>\n",
       "      <td>Central Secretariat</td>\n",
       "      <td>Inderlok</td>\n",
       "      <td>13.1</td>\n",
       "      <td>28.5</td>\n",
       "      <td>...</td>\n",
       "      <td>&lt;NA&gt;</td>\n",
       "      <td>NaN</td>\n",
       "      <td>&lt;NA&gt;</td>\n",
       "      <td>NaN</td>\n",
       "      <td>&lt;NA&gt;</td>\n",
       "      <td>416.0</td>\n",
       "      <td>34.02</td>\n",
       "      <td>4.6</td>\n",
       "      <td>5.0</td>\n",
       "      <td>UPI</td>\n",
       "    </tr>\n",
       "    <tr>\n",
       "      <th>4</th>\n",
       "      <td>2024-09-16</td>\n",
       "      <td>22:08:00</td>\n",
       "      <td>\"CNR1950162\"</td>\n",
       "      <td>Completed</td>\n",
       "      <td>\"CID9933542\"</td>\n",
       "      <td>Bike</td>\n",
       "      <td>Ghitorni Village</td>\n",
       "      <td>Khan Market</td>\n",
       "      <td>5.3</td>\n",
       "      <td>19.6</td>\n",
       "      <td>...</td>\n",
       "      <td>&lt;NA&gt;</td>\n",
       "      <td>NaN</td>\n",
       "      <td>&lt;NA&gt;</td>\n",
       "      <td>NaN</td>\n",
       "      <td>&lt;NA&gt;</td>\n",
       "      <td>737.0</td>\n",
       "      <td>48.21</td>\n",
       "      <td>4.1</td>\n",
       "      <td>4.3</td>\n",
       "      <td>UPI</td>\n",
       "    </tr>\n",
       "    <tr>\n",
       "      <th>5</th>\n",
       "      <td>2024-02-06</td>\n",
       "      <td>09:44:56</td>\n",
       "      <td>\"CNR4096693\"</td>\n",
       "      <td>Completed</td>\n",
       "      <td>\"CID4670564\"</td>\n",
       "      <td>Auto</td>\n",
       "      <td>AIIMS</td>\n",
       "      <td>Narsinghpur</td>\n",
       "      <td>5.1</td>\n",
       "      <td>18.1</td>\n",
       "      <td>...</td>\n",
       "      <td>&lt;NA&gt;</td>\n",
       "      <td>NaN</td>\n",
       "      <td>&lt;NA&gt;</td>\n",
       "      <td>NaN</td>\n",
       "      <td>&lt;NA&gt;</td>\n",
       "      <td>316.0</td>\n",
       "      <td>4.85</td>\n",
       "      <td>4.1</td>\n",
       "      <td>4.6</td>\n",
       "      <td>UPI</td>\n",
       "    </tr>\n",
       "    <tr>\n",
       "      <th>6</th>\n",
       "      <td>2024-06-17</td>\n",
       "      <td>15:45:58</td>\n",
       "      <td>\"CNR2002539\"</td>\n",
       "      <td>Completed</td>\n",
       "      <td>\"CID6800553\"</td>\n",
       "      <td>Go Mini</td>\n",
       "      <td>Vaishali</td>\n",
       "      <td>Punjabi Bagh</td>\n",
       "      <td>7.1</td>\n",
       "      <td>20.4</td>\n",
       "      <td>...</td>\n",
       "      <td>&lt;NA&gt;</td>\n",
       "      <td>NaN</td>\n",
       "      <td>&lt;NA&gt;</td>\n",
       "      <td>NaN</td>\n",
       "      <td>&lt;NA&gt;</td>\n",
       "      <td>640.0</td>\n",
       "      <td>41.24</td>\n",
       "      <td>4.0</td>\n",
       "      <td>4.1</td>\n",
       "      <td>UPI</td>\n",
       "    </tr>\n",
       "    <tr>\n",
       "      <th>7</th>\n",
       "      <td>2024-03-19</td>\n",
       "      <td>17:37:37</td>\n",
       "      <td>\"CNR6568000\"</td>\n",
       "      <td>Completed</td>\n",
       "      <td>\"CID8610436\"</td>\n",
       "      <td>Auto</td>\n",
       "      <td>Mayur Vihar</td>\n",
       "      <td>Cyber Hub</td>\n",
       "      <td>12.1</td>\n",
       "      <td>16.5</td>\n",
       "      <td>...</td>\n",
       "      <td>&lt;NA&gt;</td>\n",
       "      <td>NaN</td>\n",
       "      <td>&lt;NA&gt;</td>\n",
       "      <td>NaN</td>\n",
       "      <td>&lt;NA&gt;</td>\n",
       "      <td>136.0</td>\n",
       "      <td>6.56</td>\n",
       "      <td>4.4</td>\n",
       "      <td>4.2</td>\n",
       "      <td>UPI</td>\n",
       "    </tr>\n",
       "    <tr>\n",
       "      <th>8</th>\n",
       "      <td>2024-09-14</td>\n",
       "      <td>12:49:09</td>\n",
       "      <td>\"CNR4510807\"</td>\n",
       "      <td>No Driver Found</td>\n",
       "      <td>\"CID7873618\"</td>\n",
       "      <td>Go Sedan</td>\n",
       "      <td>Noida Sector 62</td>\n",
       "      <td>Noida Sector 18</td>\n",
       "      <td>NaN</td>\n",
       "      <td>NaN</td>\n",
       "      <td>...</td>\n",
       "      <td>&lt;NA&gt;</td>\n",
       "      <td>NaN</td>\n",
       "      <td>&lt;NA&gt;</td>\n",
       "      <td>NaN</td>\n",
       "      <td>&lt;NA&gt;</td>\n",
       "      <td>NaN</td>\n",
       "      <td>NaN</td>\n",
       "      <td>NaN</td>\n",
       "      <td>NaN</td>\n",
       "      <td>&lt;NA&gt;</td>\n",
       "    </tr>\n",
       "    <tr>\n",
       "      <th>9</th>\n",
       "      <td>2024-12-16</td>\n",
       "      <td>19:06:48</td>\n",
       "      <td>\"CNR7721892\"</td>\n",
       "      <td>Incomplete</td>\n",
       "      <td>\"CID5214275\"</td>\n",
       "      <td>Auto</td>\n",
       "      <td>Rohini</td>\n",
       "      <td>Adarsh Nagar</td>\n",
       "      <td>6.1</td>\n",
       "      <td>26.0</td>\n",
       "      <td>...</td>\n",
       "      <td>&lt;NA&gt;</td>\n",
       "      <td>NaN</td>\n",
       "      <td>&lt;NA&gt;</td>\n",
       "      <td>1.0</td>\n",
       "      <td>Other Issue</td>\n",
       "      <td>135.0</td>\n",
       "      <td>10.36</td>\n",
       "      <td>NaN</td>\n",
       "      <td>NaN</td>\n",
       "      <td>Cash</td>\n",
       "    </tr>\n",
       "  </tbody>\n",
       "</table>\n",
       "<p>10 rows × 21 columns</p>\n",
       "</div>"
      ],
      "text/plain": [
       "         Date      Time    Booking ID   Booking Status   Customer ID  \\\n",
       "0  2024-03-23  12:29:38  \"CNR5884300\"  No Driver Found  \"CID1982111\"   \n",
       "1  2024-11-29  18:01:39  \"CNR1326809\"       Incomplete  \"CID4604802\"   \n",
       "2  2024-08-23  08:56:10  \"CNR8494506\"        Completed  \"CID9202816\"   \n",
       "3  2024-10-21  17:17:25  \"CNR8906825\"        Completed  \"CID2610914\"   \n",
       "4  2024-09-16  22:08:00  \"CNR1950162\"        Completed  \"CID9933542\"   \n",
       "5  2024-02-06  09:44:56  \"CNR4096693\"        Completed  \"CID4670564\"   \n",
       "6  2024-06-17  15:45:58  \"CNR2002539\"        Completed  \"CID6800553\"   \n",
       "7  2024-03-19  17:37:37  \"CNR6568000\"        Completed  \"CID8610436\"   \n",
       "8  2024-09-14  12:49:09  \"CNR4510807\"  No Driver Found  \"CID7873618\"   \n",
       "9  2024-12-16  19:06:48  \"CNR7721892\"       Incomplete  \"CID5214275\"   \n",
       "\n",
       "    Vehicle Type      Pickup Location      Drop Location  Avg VTAT  Avg CTAT  \\\n",
       "0          eBike          Palam Vihar            Jhilmil       NaN       NaN   \n",
       "1       Go Sedan        Shastri Nagar  Gurgaon Sector 56       4.9      14.0   \n",
       "2           Auto              Khandsa      Malviya Nagar      13.4      25.8   \n",
       "3  Premier Sedan  Central Secretariat           Inderlok      13.1      28.5   \n",
       "4           Bike     Ghitorni Village        Khan Market       5.3      19.6   \n",
       "5           Auto                AIIMS        Narsinghpur       5.1      18.1   \n",
       "6        Go Mini             Vaishali       Punjabi Bagh       7.1      20.4   \n",
       "7           Auto          Mayur Vihar          Cyber Hub      12.1      16.5   \n",
       "8       Go Sedan      Noida Sector 62    Noida Sector 18       NaN       NaN   \n",
       "9           Auto               Rohini       Adarsh Nagar       6.1      26.0   \n",
       "\n",
       "   ...  Reason for cancelling by Customer Cancelled Rides by Driver  \\\n",
       "0  ...                               <NA>                       NaN   \n",
       "1  ...                               <NA>                       NaN   \n",
       "2  ...                               <NA>                       NaN   \n",
       "3  ...                               <NA>                       NaN   \n",
       "4  ...                               <NA>                       NaN   \n",
       "5  ...                               <NA>                       NaN   \n",
       "6  ...                               <NA>                       NaN   \n",
       "7  ...                               <NA>                       NaN   \n",
       "8  ...                               <NA>                       NaN   \n",
       "9  ...                               <NA>                       NaN   \n",
       "\n",
       "   Driver Cancellation Reason Incomplete Rides  Incomplete Rides Reason  \\\n",
       "0                        <NA>              NaN                     <NA>   \n",
       "1                        <NA>              1.0        Vehicle Breakdown   \n",
       "2                        <NA>              NaN                     <NA>   \n",
       "3                        <NA>              NaN                     <NA>   \n",
       "4                        <NA>              NaN                     <NA>   \n",
       "5                        <NA>              NaN                     <NA>   \n",
       "6                        <NA>              NaN                     <NA>   \n",
       "7                        <NA>              NaN                     <NA>   \n",
       "8                        <NA>              NaN                     <NA>   \n",
       "9                        <NA>              1.0              Other Issue   \n",
       "\n",
       "  Booking Value  Ride Distance  Driver Ratings  Customer Rating  \\\n",
       "0           NaN            NaN             NaN              NaN   \n",
       "1         237.0           5.73             NaN              NaN   \n",
       "2         627.0          13.58             4.9              4.9   \n",
       "3         416.0          34.02             4.6              5.0   \n",
       "4         737.0          48.21             4.1              4.3   \n",
       "5         316.0           4.85             4.1              4.6   \n",
       "6         640.0          41.24             4.0              4.1   \n",
       "7         136.0           6.56             4.4              4.2   \n",
       "8           NaN            NaN             NaN              NaN   \n",
       "9         135.0          10.36             NaN              NaN   \n",
       "\n",
       "   Payment Method  \n",
       "0            <NA>  \n",
       "1             UPI  \n",
       "2      Debit Card  \n",
       "3             UPI  \n",
       "4             UPI  \n",
       "5             UPI  \n",
       "6             UPI  \n",
       "7             UPI  \n",
       "8            <NA>  \n",
       "9            Cash  \n",
       "\n",
       "[10 rows x 21 columns]"
      ]
     },
     "execution_count": 109,
     "metadata": {},
     "output_type": "execute_result"
    }
   ],
   "source": [
    "df_uber.head(10)"
   ]
  },
  {
   "cell_type": "code",
   "execution_count": 110,
   "id": "3161acea-b6aa-4902-a057-5acf81df5541",
   "metadata": {
    "scrolled": true
   },
   "outputs": [
    {
     "data": {
      "text/plain": [
       "Incomplete Rides Reason              94.0\n",
       "Incomplete Rides                     94.0\n",
       "Reason for cancelling by Customer    93.0\n",
       "Cancelled Rides by Customer          93.0\n",
       "Cancelled Rides by Driver            82.0\n",
       "Driver Cancellation Reason           82.0\n",
       "Driver Ratings                       38.0\n",
       "Customer Rating                      38.0\n",
       "Avg CTAT                             32.0\n",
       "Ride Distance                        32.0\n",
       "Booking Value                        32.0\n",
       "Payment Method                       32.0\n",
       "Avg VTAT                              7.0\n",
       "Customer ID                           0.0\n",
       "Booking Status                        0.0\n",
       "Booking ID                            0.0\n",
       "Time                                  0.0\n",
       "Date                                  0.0\n",
       "Pickup Location                       0.0\n",
       "Drop Location                         0.0\n",
       "Vehicle Type                          0.0\n",
       "dtype: float64"
      ]
     },
     "execution_count": 110,
     "metadata": {},
     "output_type": "execute_result"
    }
   ],
   "source": [
    "(df_uber.isnull().mean()*100).sort_values(ascending=False)"
   ]
  },
  {
   "cell_type": "markdown",
   "id": "7dbb6aad-2895-43f7-88c7-6699ba97ffce",
   "metadata": {},
   "source": [
    "### making subsets of columns with 10% non null values for sake of visualization\n",
    "### making main df too for analysis"
   ]
  },
  {
   "cell_type": "code",
   "execution_count": 111,
   "id": "fcc97eb2-9f84-48f3-9b1f-8f1366af30d7",
   "metadata": {},
   "outputs": [],
   "source": [
    "Incomplete_Rides_Reason_subset =  df_uber['Incomplete Rides Reason'].dropna() "
   ]
  },
  {
   "cell_type": "code",
   "execution_count": 112,
   "id": "5265a9be-16cc-4e91-af9c-70eed7304568",
   "metadata": {},
   "outputs": [
    {
     "data": {
      "text/plain": [
       "Incomplete Rides Reason\n",
       "Customer Demand      3040\n",
       "Vehicle Breakdown    3012\n",
       "Other Issue          2948\n",
       "Name: count, dtype: Int64"
      ]
     },
     "execution_count": 112,
     "metadata": {},
     "output_type": "execute_result"
    },
    {
     "data": {
      "image/png": "[encoded data removed]",
      "text/plain": [
       "<Figure size 640x480 with 1 Axes>"
      ]
     },
     "metadata": {},
     "output_type": "display_data"
    }
   ],
   "source": [
    "sns.countplot( x= Incomplete_Rides_Reason_subset)\n",
    "Incomplete_Rides_Reason_subset.value_counts()\n",
    "# clearly customerDemand is higher fo incompletes rides resason"
   ]
  },
  {
   "cell_type": "code",
   "execution_count": null,
   "id": "057e6b21-4e23-454e-b0d7-09351c5318f4",
   "metadata": {},
   "outputs": [],
   "source": []
  },
  {
   "cell_type": "code",
   "execution_count": 113,
   "id": "0890b249-0e4d-44f9-87c4-b6d7def165f9",
   "metadata": {},
   "outputs": [],
   "source": [
    "Incomplete_Rides_subset =  df_uber['Incomplete Rides'].dropna() "
   ]
  },
  {
   "cell_type": "code",
   "execution_count": 114,
   "id": "85a60e56-b7b3-4f69-aba6-e1c4145b5925",
   "metadata": {},
   "outputs": [
    {
     "name": "stderr",
     "output_type": "stream",
     "text": [
      "C:\\Users\\sudha\\AppData\\Local\\Temp\\ipykernel_28364\\3119251202.py:1: UserWarning: \n",
      "\n",
      "`distplot` is a deprecated function and will be removed in seaborn v0.14.0.\n",
      "\n",
      "Please adapt your code to use either `displot` (a figure-level function with\n",
      "similar flexibility) or `histplot` (an axes-level function for histograms).\n",
      "\n",
      "For a guide to updating your code to use the new functions, please see\n",
      "https://gist.github.com/mwaskom/de44147ed2974457ad6372750bbe5751\n",
      "\n",
      "  sns.distplot( x= Incomplete_Rides_subset)\n",
      "C:\\Users\\sudha\\anaconda3\\Lib\\site-packages\\seaborn\\distributions.py:2496: UserWarning: Dataset has 0 variance; skipping density estimate. Pass `warn_singular=False` to disable this warning.\n",
      "  kdeplot(**{axis: a}, ax=ax, color=kde_color, **kde_kws)\n"
     ]
    },
    {
     "data": {
      "text/plain": [
       "Incomplete Rides\n",
       "1.0    9000\n",
       "Name: count, dtype: int64"
      ]
     },
     "execution_count": 114,
     "metadata": {},
     "output_type": "execute_result"
    },
    {
     "data": {
      "image/png": "[encoded data removed]",
      "text/plain": [
       "<Figure size 640x480 with 1 Axes>"
      ]
     },
     "metadata": {},
     "output_type": "display_data"
    }
   ],
   "source": [
    "sns.distplot( x= Incomplete_Rides_subset)\n",
    "Incomplete_Rides_subset.value_counts()\n",
    "# clearly 1.0 has more "
   ]
  },
  {
   "cell_type": "code",
   "execution_count": 115,
   "id": "eb2f0d60-b4cc-4ead-ad31-d01182db53b1",
   "metadata": {},
   "outputs": [],
   "source": [
    "Reason_for_cancelling_by_Customer_subset =  df_uber['Reason for cancelling by Customer'].dropna() "
   ]
  },
  {
   "cell_type": "code",
   "execution_count": 116,
   "id": "26126856-35bc-4b22-b671-af7faa2b04ed",
   "metadata": {},
   "outputs": [
    {
     "data": {
      "text/plain": [
       "Reason for cancelling by Customer\n",
       "Wrong Address                                   2362\n",
       "Change of plans                                 2353\n",
       "Driver is not moving towards pickup location    2335\n",
       "Driver asked to cancel                          2295\n",
       "AC is not working                               1155\n",
       "Name: count, dtype: Int64"
      ]
     },
     "execution_count": 116,
     "metadata": {},
     "output_type": "execute_result"
    },
    {
     "data": {
      "image/png": "[encoded data removed]",
      "text/plain": [
       "<Figure size 511.111x500 with 1 Axes>"
      ]
     },
     "metadata": {},
     "output_type": "display_data"
    }
   ],
   "source": [
    "sns.set_style('whitegrid')\n",
    "sns.catplot( x=Reason_for_cancelling_by_Customer_subset,kind = 'count'   )\n",
    "plt.xticks(rotation = 86)\n",
    "Reason_for_cancelling_by_Customer_subset.value_counts()\n",
    "# clearly wrongaddres and changeofplans are most repetly reasons for cancelling rides by customer"
   ]
  },
  {
   "cell_type": "code",
   "execution_count": 117,
   "id": "e0cfb363-c625-46c9-a266-8a972c7303bb",
   "metadata": {},
   "outputs": [],
   "source": [
    "Cancelled_Rides_by_Customer_subset =  df_uber['Cancelled Rides by Customer'].dropna() "
   ]
  },
  {
   "cell_type": "code",
   "execution_count": 118,
   "id": "71e68eb0-9d48-4fbb-ba90-788f69453103",
   "metadata": {},
   "outputs": [
    {
     "name": "stderr",
     "output_type": "stream",
     "text": [
      "C:\\Users\\sudha\\AppData\\Local\\Temp\\ipykernel_28364\\890603647.py:2: UserWarning: \n",
      "\n",
      "`distplot` is a deprecated function and will be removed in seaborn v0.14.0.\n",
      "\n",
      "Please adapt your code to use either `displot` (a figure-level function with\n",
      "similar flexibility) or `histplot` (an axes-level function for histograms).\n",
      "\n",
      "For a guide to updating your code to use the new functions, please see\n",
      "https://gist.github.com/mwaskom/de44147ed2974457ad6372750bbe5751\n",
      "\n",
      "  sns.distplot( x=Cancelled_Rides_by_Customer_subset  )\n",
      "C:\\Users\\sudha\\anaconda3\\Lib\\site-packages\\seaborn\\distributions.py:2496: UserWarning: Dataset has 0 variance; skipping density estimate. Pass `warn_singular=False` to disable this warning.\n",
      "  kdeplot(**{axis: a}, ax=ax, color=kde_color, **kde_kws)\n"
     ]
    },
    {
     "data": {
      "text/plain": [
       "Cancelled Rides by Customer\n",
       "1.0    10500\n",
       "Name: count, dtype: int64"
      ]
     },
     "execution_count": 118,
     "metadata": {},
     "output_type": "execute_result"
    },
    {
     "data": {
      "image/png": "[encoded data removed]",
      "text/plain": [
       "<Figure size 640x480 with 1 Axes>"
      ]
     },
     "metadata": {},
     "output_type": "display_data"
    }
   ],
   "source": [
    "sns.set_style('darkgrid')\n",
    "sns.distplot( x=Cancelled_Rides_by_Customer_subset  )\n",
    "plt.xticks(rotation = 86)\n",
    "Cancelled_Rides_by_Customer_subset.value_counts()"
   ]
  },
  {
   "cell_type": "code",
   "execution_count": 119,
   "id": "18b99901-9018-496e-9d67-00e02c58b3f5",
   "metadata": {},
   "outputs": [],
   "source": [
    "Cancelled_Rides_by_Driver_subset =  df_uber['Cancelled Rides by Driver'].dropna() "
   ]
  },
  {
   "cell_type": "code",
   "execution_count": 120,
   "id": "40a80568-25c7-4490-b79c-395f738ffe85",
   "metadata": {},
   "outputs": [
    {
     "name": "stderr",
     "output_type": "stream",
     "text": [
      "C:\\Users\\sudha\\AppData\\Local\\Temp\\ipykernel_28364\\3591414788.py:1: UserWarning: \n",
      "\n",
      "`distplot` is a deprecated function and will be removed in seaborn v0.14.0.\n",
      "\n",
      "Please adapt your code to use either `displot` (a figure-level function with\n",
      "similar flexibility) or `histplot` (an axes-level function for histograms).\n",
      "\n",
      "For a guide to updating your code to use the new functions, please see\n",
      "https://gist.github.com/mwaskom/de44147ed2974457ad6372750bbe5751\n",
      "\n",
      "  sns.distplot(x = Cancelled_Rides_by_Driver_subset)\n",
      "C:\\Users\\sudha\\anaconda3\\Lib\\site-packages\\seaborn\\distributions.py:2496: UserWarning: Dataset has 0 variance; skipping density estimate. Pass `warn_singular=False` to disable this warning.\n",
      "  kdeplot(**{axis: a}, ax=ax, color=kde_color, **kde_kws)\n"
     ]
    },
    {
     "data": {
      "text/plain": [
       "<Axes: ylabel='Density'>"
      ]
     },
     "execution_count": 120,
     "metadata": {},
     "output_type": "execute_result"
    },
    {
     "data": {
      "image/png": "[encoded data removed]",
      "text/plain": [
       "<Figure size 640x480 with 1 Axes>"
      ]
     },
     "metadata": {},
     "output_type": "display_data"
    }
   ],
   "source": [
    "sns.distplot(x = Cancelled_Rides_by_Driver_subset)"
   ]
  },
  {
   "cell_type": "code",
   "execution_count": 121,
   "id": "61b9600d-1e1e-4ada-a7bc-596960d87b85",
   "metadata": {},
   "outputs": [],
   "source": [
    "Driver_Cancellation_Reason_subset =  df_uber['Driver Cancellation Reason'].dropna()"
   ]
  },
  {
   "cell_type": "code",
   "execution_count": 122,
   "id": "b5075e00-540a-4133-8315-cdb60c5663b6",
   "metadata": {},
   "outputs": [
    {
     "data": {
      "text/plain": [
       "Driver Cancellation Reason\n",
       "Customer related issue                 6837\n",
       "The customer was coughing/sick         6751\n",
       "Personal & Car related issues          6726\n",
       "More than permitted people in there    6686\n",
       "Name: count, dtype: Int64"
      ]
     },
     "execution_count": 122,
     "metadata": {},
     "output_type": "execute_result"
    },
    {
     "data": {
      "image/png": "[encoded data removed]",
      "text/plain": [
       "<Figure size 1644.44x700 with 1 Axes>"
      ]
     },
     "metadata": {},
     "output_type": "display_data"
    }
   ],
   "source": [
    "# from this plot we can see customerrelated issue and customer was sick are the main reasons for driver cancellation \n",
    "sns.catplot(y =Driver_Cancellation_Reason_subset ,kind = 'count',height =7 ,aspect=7/3)\n",
    "Driver_Cancellation_Reason_subset.value_counts()"
   ]
  },
  {
   "cell_type": "code",
   "execution_count": 123,
   "id": "40fcda97-ddcd-4de4-a202-7d9b02679d2e",
   "metadata": {},
   "outputs": [],
   "source": [
    "# reason_counts = Driver_Cancellation_Reason_subset.value_counts()\n",
    "# sns.barplot(\n",
    "#     y=reason_counts.index,\n",
    "#     x=reason_counts.values\n",
    "   \n",
    "# ) gpt\n",
    "# Driver_Cancellation_Re"
   ]
  },
  {
   "cell_type": "markdown",
   "id": "6cfbeffb-7da7-468d-9e10-bbd55989e660",
   "metadata": {},
   "source": [
    "##### filling the null values with mode"
   ]
  },
  {
   "cell_type": "code",
   "execution_count": 124,
   "id": "cd5cf4d2-6f47-4a1b-a6e7-72a956c1fd51",
   "metadata": {},
   "outputs": [],
   "source": [
    "df_uber['Driver Ratings'] = df_uber['Driver Ratings'].fillna(df_uber['Driver Ratings'].mode()[0])"
   ]
  },
  {
   "cell_type": "code",
   "execution_count": 125,
   "id": "2a181c00-7657-4762-b0d8-e78e70e36924",
   "metadata": {},
   "outputs": [
    {
     "data": {
      "text/plain": [
       "Driver Ratings\n",
       "4.3    71081\n",
       "4.2    13841\n",
       "4.6     9368\n",
       "4.4     7018\n",
       "4.1     6966\n",
       "4.9     4705\n",
       "4.7     4678\n",
       "4.5     4634\n",
       "3.9     3915\n",
       "3.8     3848\n",
       "3.7     3790\n",
       "5.0     2365\n",
       "4.8     2328\n",
       "3.6     2026\n",
       "4.0     1995\n",
       "3.2     1538\n",
       "3.4     1491\n",
       "3.3     1461\n",
       "3.1     1459\n",
       "3.5      748\n",
       "3.0      745\n",
       "Name: count, dtype: int64"
      ]
     },
     "execution_count": 125,
     "metadata": {},
     "output_type": "execute_result"
    },
    {
     "data": {
      "image/png": "[encoded data removed]",
      "text/plain": [
       "<Figure size 511.111x500 with 1 Axes>"
      ]
     },
     "metadata": {},
     "output_type": "display_data"
    }
   ],
   "source": [
    "sns.catplot(x = df_uber['Driver Ratings'],kind = 'box' )\n",
    "df_uber['Driver Ratings'].value_counts()\n",
    "# from this boxplot the iqr (most avg )rating is  4.25 \n",
    "# # from thsi plot the outliesrs are 3 to 3.75 and  4.5 to 5 ratings"
   ]
  },
  {
   "cell_type": "code",
   "execution_count": 126,
   "id": "31f2087d-d6f2-419e-9b98-349240d90842",
   "metadata": {},
   "outputs": [
    {
     "data": {
      "text/plain": [
       "np.int64(0)"
      ]
     },
     "execution_count": 126,
     "metadata": {},
     "output_type": "execute_result"
    },
    {
     "data": {
      "image/png": "[encoded data removed]",
      "text/plain": [
       "<Figure size 1000.02x600 with 1 Axes>"
      ]
     },
     "metadata": {},
     "output_type": "display_data"
    }
   ],
   "source": [
    "sns.catplot(x = df_uber['Driver Ratings'],kind = 'count',hue = df_uber_main['Vehicle Type'],height = 6,aspect= 10/7 )\n",
    "df_uber['Driver Ratings'].isna().sum()\n",
    "# mostdrivers are  rated  4.3 where auto has more ratings than any other vehicletype it followed by the gominin and go sedan\n",
    "\n"
   ]
  },
  {
   "cell_type": "code",
   "execution_count": 127,
   "id": "6a24c744-45ad-4bd8-8d41-a6cac05cb699",
   "metadata": {},
   "outputs": [],
   "source": [
    "df_uber['Customer Rating'] = df_uber['Customer Rating'].fillna(df_uber['Customer Rating'].mode()[0])"
   ]
  },
  {
   "cell_type": "code",
   "execution_count": 128,
   "id": "329e47e2-8924-4b75-a121-3aa184b8e59a",
   "metadata": {},
   "outputs": [
    {
     "data": {
      "text/plain": [
       "np.int64(0)"
      ]
     },
     "execution_count": 128,
     "metadata": {},
     "output_type": "execute_result"
    },
    {
     "data": {
      "image/png": "[encoded data removed]",
      "text/plain": [
       "<Figure size 1717.88x900 with 1 Axes>"
      ]
     },
     "metadata": {},
     "output_type": "display_data"
    }
   ],
   "source": [
    "sns.catplot(x = df_uber['Customer Rating'],kind = 'count',hue = df_uber_main['Vehicle Type'],height = 9,aspect= 14/8)\n",
    "df_uber['Customer Rating'].isna().sum()\n",
    "# clearly from thsi plot most of the customer gave 4.9 ,4.6 rating with often vehiclestypes like auto,gomini,gosedan,bike etcc..\n",
    "# this indicates customer are happy whith the driver's and experience\n",
    "# ratings like 3.0 to 3.5 are treated as outliers"
   ]
  },
  {
   "cell_type": "code",
   "execution_count": 129,
   "id": "d67b2edf-749b-4ce1-a1b2-2958594108da",
   "metadata": {},
   "outputs": [
    {
     "data": {
      "text/plain": [
       "Avg CTAT\n",
       "29.149636    48000\n",
       "24.800000      401\n",
       "25.900000      389\n",
       "28.100000      388\n",
       "20.500000      386\n",
       "             ...  \n",
       "11.600000       34\n",
       "11.100000       34\n",
       "14.500000       32\n",
       "13.800000       27\n",
       "10.000000       23\n",
       "Name: count, Length: 352, dtype: int64"
      ]
     },
     "execution_count": 129,
     "metadata": {},
     "output_type": "execute_result"
    }
   ],
   "source": [
    "df_uber['Avg CTAT'] = df_uber['Avg CTAT'].fillna(df_uber['Avg CTAT'].mean())\n",
    "df_uber['Avg CTAT'].value_counts()"
   ]
  },
  {
   "cell_type": "code",
   "execution_count": 130,
   "id": "2542c0ef-8523-4a62-a50f-dc55c0cbd6e7",
   "metadata": {},
   "outputs": [
    {
     "name": "stderr",
     "output_type": "stream",
     "text": [
      "C:\\Users\\sudha\\AppData\\Local\\Temp\\ipykernel_28364\\3393779016.py:1: FutureWarning: \n",
      "\n",
      "The `ci` parameter is deprecated. Use `errorbar=('ci', False)` for the same effect.\n",
      "\n",
      "  sns.catplot(y= df_uber['Avg CTAT'], x= df_uber_main['Vehicle Type'].values,kind  = 'violin',ci=False)\n"
     ]
    },
    {
     "data": {
      "text/plain": [
       "<seaborn.axisgrid.FacetGrid at 0x29204372e90>"
      ]
     },
     "execution_count": 130,
     "metadata": {},
     "output_type": "execute_result"
    },
    {
     "data": {
      "image/png": "[encoded data removed]",
      "text/plain": [
       "<Figure size 511.111x500 with 1 Axes>"
      ]
     },
     "metadata": {},
     "output_type": "display_data"
    }
   ],
   "source": [
    "sns.catplot(y= df_uber['Avg CTAT'], x= df_uber_main['Vehicle Type'].values,kind  = 'violin',ci=False)"
   ]
  },
  {
   "cell_type": "code",
   "execution_count": 131,
   "id": "47056bef-142f-4568-9a70-93a94bee3ff0",
   "metadata": {},
   "outputs": [],
   "source": [
    "df_uber['Ride Distance'] = df_uber['Ride Distance'].fillna(df_uber['Ride Distance'].mean())"
   ]
  },
  {
   "cell_type": "code",
   "execution_count": 132,
   "id": "795f2f42-55a1-4c58-823d-63f9a7f0a48b",
   "metadata": {},
   "outputs": [],
   "source": [
    "df_uber['Booking Value'] = df_uber['Booking Value'].fillna(df_uber['Booking Value'].mean())"
   ]
  },
  {
   "cell_type": "code",
   "execution_count": 133,
   "id": "f33013a6-a868-41ef-b60f-ca8c5e2b74a6",
   "metadata": {},
   "outputs": [],
   "source": [
    "df_uber['Payment Method'] = df_uber['Payment Method'].fillna(df_uber['Payment Method'].mode()[0])"
   ]
  },
  {
   "cell_type": "code",
   "execution_count": 134,
   "id": "a80e9188-dc5a-480e-9e2a-37fc45842953",
   "metadata": {},
   "outputs": [
    {
     "data": {
      "text/plain": [
       "<Axes: xlabel='Payment Method', ylabel='count'>"
      ]
     },
     "execution_count": 134,
     "metadata": {},
     "output_type": "execute_result"
    },
    {
     "data": {
      "image/png": "[encoded data removed]",
      "text/plain": [
       "<Figure size 640x480 with 1 Axes>"
      ]
     },
     "metadata": {},
     "output_type": "display_data"
    }
   ],
   "source": [
    "sns.countplot(x =df_uber['Payment Method'] )\n",
    "# clearly we can see upi is the most used payment metod and then cash,uber wallet"
   ]
  },
  {
   "cell_type": "code",
   "execution_count": 135,
   "id": "31270ffd-4844-4506-a779-d62ff4ced703",
   "metadata": {},
   "outputs": [
    {
     "data": {
      "text/plain": [
       "Incomplete Rides Reason              94.0\n",
       "Incomplete Rides                     94.0\n",
       "Reason for cancelling by Customer    93.0\n",
       "Cancelled Rides by Customer          93.0\n",
       "Cancelled Rides by Driver            82.0\n",
       "Driver Cancellation Reason           82.0\n",
       "Avg VTAT                              7.0\n",
       "Customer ID                           0.0\n",
       "Time                                  0.0\n",
       "Date                                  0.0\n",
       "Booking Status                        0.0\n",
       "Booking ID                            0.0\n",
       "Drop Location                         0.0\n",
       "Avg CTAT                              0.0\n",
       "Vehicle Type                          0.0\n",
       "Pickup Location                       0.0\n",
       "Booking Value                         0.0\n",
       "Ride Distance                         0.0\n",
       "Driver Ratings                        0.0\n",
       "Customer Rating                       0.0\n",
       "Payment Method                        0.0\n",
       "dtype: float64"
      ]
     },
     "execution_count": 135,
     "metadata": {},
     "output_type": "execute_result"
    }
   ],
   "source": [
    "(df_uber.isnull().mean()*100).sort_values(ascending=False)"
   ]
  },
  {
   "cell_type": "markdown",
   "id": "07fcadda-ff17-4734-a271-d5e5c030de15",
   "metadata": {},
   "source": [
    "### making the df_uber_main dataframe with specific columns "
   ]
  },
  {
   "cell_type": "code",
   "execution_count": 136,
   "id": "40fd6aa7-40ea-4313-b2c8-f9e22816e01b",
   "metadata": {},
   "outputs": [
    {
     "data": {
      "text/plain": [
       "Index(['Date', 'Time', 'Booking ID', 'Booking Status', 'Customer ID',\n",
       "       'Vehicle Type', 'Pickup Location', 'Drop Location', 'Avg VTAT',\n",
       "       'Avg CTAT', 'Cancelled Rides by Customer',\n",
       "       'Reason for cancelling by Customer', 'Cancelled Rides by Driver',\n",
       "       'Driver Cancellation Reason', 'Incomplete Rides',\n",
       "       'Incomplete Rides Reason', 'Booking Value', 'Ride Distance',\n",
       "       'Driver Ratings', 'Customer Rating', 'Payment Method'],\n",
       "      dtype='object')"
      ]
     },
     "execution_count": 136,
     "metadata": {},
     "output_type": "execute_result"
    }
   ],
   "source": [
    "df_uber.head().columns"
   ]
  },
  {
   "cell_type": "code",
   "execution_count": 137,
   "id": "a5c75783-c797-4308-8a19-6c73610a43d6",
   "metadata": {},
   "outputs": [],
   "source": [
    "df_uber_main  = df_uber[['Date','Time','Booking ID','Booking Status','Customer ID','Vehicle Type','Pickup Location','Drop Location','Booking Value','Ride Distance','Payment Method']]"
   ]
  },
  {
   "cell_type": "code",
   "execution_count": 138,
   "id": "8b5d3caf-5fab-4fab-9fca-3400f858d101",
   "metadata": {},
   "outputs": [
    {
     "data": {
      "text/plain": [
       "(150000, 11)"
      ]
     },
     "execution_count": 138,
     "metadata": {},
     "output_type": "execute_result"
    }
   ],
   "source": [
    "df_uber_main.shape"
   ]
  },
  {
   "cell_type": "code",
   "execution_count": 139,
   "id": "12cbb59d-6819-4a5d-b07c-c00a7b95be6b",
   "metadata": {},
   "outputs": [
    {
     "data": {
      "text/plain": [
       "Date               0\n",
       "Time               0\n",
       "Booking ID         0\n",
       "Booking Status     0\n",
       "Customer ID        0\n",
       "Vehicle Type       0\n",
       "Pickup Location    0\n",
       "Drop Location      0\n",
       "Booking Value      0\n",
       "Ride Distance      0\n",
       "Payment Method     0\n",
       "dtype: int64"
      ]
     },
     "execution_count": 139,
     "metadata": {},
     "output_type": "execute_result"
    }
   ],
   "source": [
    "df_uber_main.isna().sum()"
   ]
  },
  {
   "cell_type": "code",
   "execution_count": 140,
   "id": "c7b0892e-2c37-4adc-a12e-ea0138265662",
   "metadata": {},
   "outputs": [
    {
     "data": {
      "text/plain": [
       "Date                       object\n",
       "Time                       object\n",
       "Booking ID         string[python]\n",
       "Booking Status     string[python]\n",
       "Customer ID        string[python]\n",
       "Vehicle Type       string[python]\n",
       "Pickup Location    string[python]\n",
       "Drop Location      string[python]\n",
       "Booking Value             float64\n",
       "Ride Distance             float64\n",
       "Payment Method     string[python]\n",
       "dtype: object"
      ]
     },
     "execution_count": 140,
     "metadata": {},
     "output_type": "execute_result"
    }
   ],
   "source": [
    "df_uber_main.dtypes"
   ]
  },
  {
   "cell_type": "code",
   "execution_count": 141,
   "id": "4d0104bb-ad5b-4e71-b20c-0a588ce5a999",
   "metadata": {},
   "outputs": [
    {
     "data": {
      "text/html": [
       "<div>\n",
       "<style scoped>\n",
       "    .dataframe tbody tr th:only-of-type {\n",
       "        vertical-align: middle;\n",
       "    }\n",
       "\n",
       "    .dataframe tbody tr th {\n",
       "        vertical-align: top;\n",
       "    }\n",
       "\n",
       "    .dataframe thead th {\n",
       "        text-align: right;\n",
       "    }\n",
       "</style>\n",
       "<table border=\"1\" class=\"dataframe\">\n",
       "  <thead>\n",
       "    <tr style=\"text-align: right;\">\n",
       "      <th></th>\n",
       "      <th>Date</th>\n",
       "      <th>Time</th>\n",
       "      <th>Booking ID</th>\n",
       "      <th>Booking Status</th>\n",
       "      <th>Customer ID</th>\n",
       "      <th>Vehicle Type</th>\n",
       "      <th>Pickup Location</th>\n",
       "      <th>Drop Location</th>\n",
       "      <th>Booking Value</th>\n",
       "      <th>Ride Distance</th>\n",
       "      <th>Payment Method</th>\n",
       "    </tr>\n",
       "  </thead>\n",
       "  <tbody>\n",
       "    <tr>\n",
       "      <th>0</th>\n",
       "      <td>2024-03-23</td>\n",
       "      <td>12:29:38</td>\n",
       "      <td>\"CNR5884300\"</td>\n",
       "      <td>No Driver Found</td>\n",
       "      <td>\"CID1982111\"</td>\n",
       "      <td>eBike</td>\n",
       "      <td>Palam Vihar</td>\n",
       "      <td>Jhilmil</td>\n",
       "      <td>508.295912</td>\n",
       "      <td>24.637012</td>\n",
       "      <td>UPI</td>\n",
       "    </tr>\n",
       "    <tr>\n",
       "      <th>1</th>\n",
       "      <td>2024-11-29</td>\n",
       "      <td>18:01:39</td>\n",
       "      <td>\"CNR1326809\"</td>\n",
       "      <td>Incomplete</td>\n",
       "      <td>\"CID4604802\"</td>\n",
       "      <td>Go Sedan</td>\n",
       "      <td>Shastri Nagar</td>\n",
       "      <td>Gurgaon Sector 56</td>\n",
       "      <td>237.000000</td>\n",
       "      <td>5.730000</td>\n",
       "      <td>UPI</td>\n",
       "    </tr>\n",
       "    <tr>\n",
       "      <th>2</th>\n",
       "      <td>2024-08-23</td>\n",
       "      <td>08:56:10</td>\n",
       "      <td>\"CNR8494506\"</td>\n",
       "      <td>Completed</td>\n",
       "      <td>\"CID9202816\"</td>\n",
       "      <td>Auto</td>\n",
       "      <td>Khandsa</td>\n",
       "      <td>Malviya Nagar</td>\n",
       "      <td>627.000000</td>\n",
       "      <td>13.580000</td>\n",
       "      <td>Debit Card</td>\n",
       "    </tr>\n",
       "    <tr>\n",
       "      <th>3</th>\n",
       "      <td>2024-10-21</td>\n",
       "      <td>17:17:25</td>\n",
       "      <td>\"CNR8906825\"</td>\n",
       "      <td>Completed</td>\n",
       "      <td>\"CID2610914\"</td>\n",
       "      <td>Premier Sedan</td>\n",
       "      <td>Central Secretariat</td>\n",
       "      <td>Inderlok</td>\n",
       "      <td>416.000000</td>\n",
       "      <td>34.020000</td>\n",
       "      <td>UPI</td>\n",
       "    </tr>\n",
       "    <tr>\n",
       "      <th>4</th>\n",
       "      <td>2024-09-16</td>\n",
       "      <td>22:08:00</td>\n",
       "      <td>\"CNR1950162\"</td>\n",
       "      <td>Completed</td>\n",
       "      <td>\"CID9933542\"</td>\n",
       "      <td>Bike</td>\n",
       "      <td>Ghitorni Village</td>\n",
       "      <td>Khan Market</td>\n",
       "      <td>737.000000</td>\n",
       "      <td>48.210000</td>\n",
       "      <td>UPI</td>\n",
       "    </tr>\n",
       "    <tr>\n",
       "      <th>...</th>\n",
       "      <td>...</td>\n",
       "      <td>...</td>\n",
       "      <td>...</td>\n",
       "      <td>...</td>\n",
       "      <td>...</td>\n",
       "      <td>...</td>\n",
       "      <td>...</td>\n",
       "      <td>...</td>\n",
       "      <td>...</td>\n",
       "      <td>...</td>\n",
       "      <td>...</td>\n",
       "    </tr>\n",
       "    <tr>\n",
       "      <th>149995</th>\n",
       "      <td>2024-11-11</td>\n",
       "      <td>19:34:01</td>\n",
       "      <td>\"CNR6500631\"</td>\n",
       "      <td>Completed</td>\n",
       "      <td>\"CID4337371\"</td>\n",
       "      <td>Go Mini</td>\n",
       "      <td>MG Road</td>\n",
       "      <td>Ghitorni</td>\n",
       "      <td>475.000000</td>\n",
       "      <td>40.080000</td>\n",
       "      <td>Uber Wallet</td>\n",
       "    </tr>\n",
       "    <tr>\n",
       "      <th>149996</th>\n",
       "      <td>2024-11-24</td>\n",
       "      <td>15:55:09</td>\n",
       "      <td>\"CNR2468611\"</td>\n",
       "      <td>Completed</td>\n",
       "      <td>\"CID2325623\"</td>\n",
       "      <td>Go Mini</td>\n",
       "      <td>Golf Course Road</td>\n",
       "      <td>Akshardham</td>\n",
       "      <td>1093.000000</td>\n",
       "      <td>21.310000</td>\n",
       "      <td>UPI</td>\n",
       "    </tr>\n",
       "    <tr>\n",
       "      <th>149997</th>\n",
       "      <td>2024-09-18</td>\n",
       "      <td>10:55:15</td>\n",
       "      <td>\"CNR6358306\"</td>\n",
       "      <td>Completed</td>\n",
       "      <td>\"CID9925486\"</td>\n",
       "      <td>Go Sedan</td>\n",
       "      <td>Satguru Ram Singh Marg</td>\n",
       "      <td>Jor Bagh</td>\n",
       "      <td>852.000000</td>\n",
       "      <td>15.930000</td>\n",
       "      <td>Cash</td>\n",
       "    </tr>\n",
       "    <tr>\n",
       "      <th>149998</th>\n",
       "      <td>2024-10-05</td>\n",
       "      <td>07:53:34</td>\n",
       "      <td>\"CNR3030099\"</td>\n",
       "      <td>Completed</td>\n",
       "      <td>\"CID9415487\"</td>\n",
       "      <td>Auto</td>\n",
       "      <td>Ghaziabad</td>\n",
       "      <td>Saidulajab</td>\n",
       "      <td>333.000000</td>\n",
       "      <td>45.540000</td>\n",
       "      <td>UPI</td>\n",
       "    </tr>\n",
       "    <tr>\n",
       "      <th>149999</th>\n",
       "      <td>2024-03-10</td>\n",
       "      <td>15:38:03</td>\n",
       "      <td>\"CNR3447390\"</td>\n",
       "      <td>Completed</td>\n",
       "      <td>\"CID4108667\"</td>\n",
       "      <td>Premier Sedan</td>\n",
       "      <td>Ashok Park Main</td>\n",
       "      <td>Gurgaon Sector 29</td>\n",
       "      <td>806.000000</td>\n",
       "      <td>21.190000</td>\n",
       "      <td>Credit Card</td>\n",
       "    </tr>\n",
       "  </tbody>\n",
       "</table>\n",
       "<p>150000 rows × 11 columns</p>\n",
       "</div>"
      ],
      "text/plain": [
       "              Date      Time    Booking ID   Booking Status   Customer ID  \\\n",
       "0       2024-03-23  12:29:38  \"CNR5884300\"  No Driver Found  \"CID1982111\"   \n",
       "1       2024-11-29  18:01:39  \"CNR1326809\"       Incomplete  \"CID4604802\"   \n",
       "2       2024-08-23  08:56:10  \"CNR8494506\"        Completed  \"CID9202816\"   \n",
       "3       2024-10-21  17:17:25  \"CNR8906825\"        Completed  \"CID2610914\"   \n",
       "4       2024-09-16  22:08:00  \"CNR1950162\"        Completed  \"CID9933542\"   \n",
       "...            ...       ...           ...              ...           ...   \n",
       "149995  2024-11-11  19:34:01  \"CNR6500631\"        Completed  \"CID4337371\"   \n",
       "149996  2024-11-24  15:55:09  \"CNR2468611\"        Completed  \"CID2325623\"   \n",
       "149997  2024-09-18  10:55:15  \"CNR6358306\"        Completed  \"CID9925486\"   \n",
       "149998  2024-10-05  07:53:34  \"CNR3030099\"        Completed  \"CID9415487\"   \n",
       "149999  2024-03-10  15:38:03  \"CNR3447390\"        Completed  \"CID4108667\"   \n",
       "\n",
       "         Vehicle Type         Pickup Location      Drop Location  \\\n",
       "0               eBike             Palam Vihar            Jhilmil   \n",
       "1            Go Sedan           Shastri Nagar  Gurgaon Sector 56   \n",
       "2                Auto                 Khandsa      Malviya Nagar   \n",
       "3       Premier Sedan     Central Secretariat           Inderlok   \n",
       "4                Bike        Ghitorni Village        Khan Market   \n",
       "...               ...                     ...                ...   \n",
       "149995        Go Mini                 MG Road           Ghitorni   \n",
       "149996        Go Mini        Golf Course Road         Akshardham   \n",
       "149997       Go Sedan  Satguru Ram Singh Marg           Jor Bagh   \n",
       "149998           Auto               Ghaziabad         Saidulajab   \n",
       "149999  Premier Sedan         Ashok Park Main  Gurgaon Sector 29   \n",
       "\n",
       "        Booking Value  Ride Distance Payment Method  \n",
       "0          508.295912      24.637012            UPI  \n",
       "1          237.000000       5.730000            UPI  \n",
       "2          627.000000      13.580000     Debit Card  \n",
       "3          416.000000      34.020000            UPI  \n",
       "4          737.000000      48.210000            UPI  \n",
       "...               ...            ...            ...  \n",
       "149995     475.000000      40.080000    Uber Wallet  \n",
       "149996    1093.000000      21.310000            UPI  \n",
       "149997     852.000000      15.930000           Cash  \n",
       "149998     333.000000      45.540000            UPI  \n",
       "149999     806.000000      21.190000    Credit Card  \n",
       "\n",
       "[150000 rows x 11 columns]"
      ]
     },
     "execution_count": 141,
     "metadata": {},
     "output_type": "execute_result"
    }
   ],
   "source": [
    "df_uber_main"
   ]
  },
  {
   "cell_type": "code",
   "execution_count": 142,
   "id": "367bad88-f9fc-4b95-94f5-7ae3ee1ae79c",
   "metadata": {},
   "outputs": [],
   "source": [
    "df_uber_main_vehicletotal =  df_uber_main.groupby('Vehicle Type').agg( countt = ('Vehicle Type', 'count')).sort_values('countt' ,ascending=False)\n",
    "# clearly we can see most used vehicle are auto and gomini gosedan etcc"
   ]
  },
  {
   "cell_type": "code",
   "execution_count": 143,
   "id": "fad9af2d-b4e6-4dd8-97c2-00948d2a0545",
   "metadata": {},
   "outputs": [
    {
     "data": {
      "text/html": [
       "<div>\n",
       "<style scoped>\n",
       "    .dataframe tbody tr th:only-of-type {\n",
       "        vertical-align: middle;\n",
       "    }\n",
       "\n",
       "    .dataframe tbody tr th {\n",
       "        vertical-align: top;\n",
       "    }\n",
       "\n",
       "    .dataframe thead th {\n",
       "        text-align: right;\n",
       "    }\n",
       "</style>\n",
       "<table border=\"1\" class=\"dataframe\">\n",
       "  <thead>\n",
       "    <tr style=\"text-align: right;\">\n",
       "      <th></th>\n",
       "      <th>countt</th>\n",
       "    </tr>\n",
       "    <tr>\n",
       "      <th>Vehicle Type</th>\n",
       "      <th></th>\n",
       "    </tr>\n",
       "  </thead>\n",
       "  <tbody>\n",
       "    <tr>\n",
       "      <th>Auto</th>\n",
       "      <td>37419</td>\n",
       "    </tr>\n",
       "    <tr>\n",
       "      <th>Go Mini</th>\n",
       "      <td>29806</td>\n",
       "    </tr>\n",
       "    <tr>\n",
       "      <th>Go Sedan</th>\n",
       "      <td>27141</td>\n",
       "    </tr>\n",
       "    <tr>\n",
       "      <th>Bike</th>\n",
       "      <td>22517</td>\n",
       "    </tr>\n",
       "    <tr>\n",
       "      <th>Premier Sedan</th>\n",
       "      <td>18111</td>\n",
       "    </tr>\n",
       "    <tr>\n",
       "      <th>eBike</th>\n",
       "      <td>10557</td>\n",
       "    </tr>\n",
       "    <tr>\n",
       "      <th>Uber XL</th>\n",
       "      <td>4449</td>\n",
       "    </tr>\n",
       "  </tbody>\n",
       "</table>\n",
       "</div>"
      ],
      "text/plain": [
       "               countt\n",
       "Vehicle Type         \n",
       "Auto            37419\n",
       "Go Mini         29806\n",
       "Go Sedan        27141\n",
       "Bike            22517\n",
       "Premier Sedan   18111\n",
       "eBike           10557\n",
       "Uber XL          4449"
      ]
     },
     "execution_count": 143,
     "metadata": {},
     "output_type": "execute_result"
    },
    {
     "data": {
      "image/png": "[encoded data removed]",
      "text/plain": [
       "<Figure size 640x480 with 1 Axes>"
      ]
     },
     "metadata": {},
     "output_type": "display_data"
    }
   ],
   "source": [
    "sns.barplot(data = df_uber_main_vehicletotal ,x = 'Vehicle Type' , y = 'countt')\n",
    "df_uber_main_vehicletotal"
   ]
  },
  {
   "cell_type": "code",
   "execution_count": 144,
   "id": "a8195121-a7b6-44e1-ba0b-5690d5321676",
   "metadata": {},
   "outputs": [],
   "source": [
    "df_uber_main_vehicle_payment = (\n",
    "    df_uber_main.groupby(['Vehicle Type','Payment Method'])\n",
    "    .agg( total = ('Payment Method', 'count'))\n",
    "    .sort_values(['Vehicle Type','total'],ascending=[True,False]))"
   ]
  },
  {
   "cell_type": "code",
   "execution_count": 145,
   "id": "cae019e6-de67-4eb5-9a7b-ea081f99637b",
   "metadata": {},
   "outputs": [
    {
     "data": {
      "text/html": [
       "<div>\n",
       "<style scoped>\n",
       "    .dataframe tbody tr th:only-of-type {\n",
       "        vertical-align: middle;\n",
       "    }\n",
       "\n",
       "    .dataframe tbody tr th {\n",
       "        vertical-align: top;\n",
       "    }\n",
       "\n",
       "    .dataframe thead th {\n",
       "        text-align: right;\n",
       "    }\n",
       "</style>\n",
       "<table border=\"1\" class=\"dataframe\">\n",
       "  <thead>\n",
       "    <tr style=\"text-align: right;\">\n",
       "      <th></th>\n",
       "      <th></th>\n",
       "      <th>total</th>\n",
       "    </tr>\n",
       "    <tr>\n",
       "      <th>Vehicle Type</th>\n",
       "      <th>Payment Method</th>\n",
       "      <th></th>\n",
       "    </tr>\n",
       "  </thead>\n",
       "  <tbody>\n",
       "    <tr>\n",
       "      <th rowspan=\"5\" valign=\"top\">Auto</th>\n",
       "      <th>UPI</th>\n",
       "      <td>23340</td>\n",
       "    </tr>\n",
       "    <tr>\n",
       "      <th>Cash</th>\n",
       "      <td>6252</td>\n",
       "    </tr>\n",
       "    <tr>\n",
       "      <th>Uber Wallet</th>\n",
       "      <td>3162</td>\n",
       "    </tr>\n",
       "    <tr>\n",
       "      <th>Credit Card</th>\n",
       "      <td>2568</td>\n",
       "    </tr>\n",
       "    <tr>\n",
       "      <th>Debit Card</th>\n",
       "      <td>2097</td>\n",
       "    </tr>\n",
       "    <tr>\n",
       "      <th rowspan=\"5\" valign=\"top\">Bike</th>\n",
       "      <th>UPI</th>\n",
       "      <td>14121</td>\n",
       "    </tr>\n",
       "    <tr>\n",
       "      <th>Cash</th>\n",
       "      <td>3854</td>\n",
       "    </tr>\n",
       "    <tr>\n",
       "      <th>Uber Wallet</th>\n",
       "      <td>1793</td>\n",
       "    </tr>\n",
       "    <tr>\n",
       "      <th>Credit Card</th>\n",
       "      <td>1527</td>\n",
       "    </tr>\n",
       "    <tr>\n",
       "      <th>Debit Card</th>\n",
       "      <td>1222</td>\n",
       "    </tr>\n",
       "    <tr>\n",
       "      <th rowspan=\"5\" valign=\"top\">Go Mini</th>\n",
       "      <th>UPI</th>\n",
       "      <td>18698</td>\n",
       "    </tr>\n",
       "    <tr>\n",
       "      <th>Cash</th>\n",
       "      <td>5137</td>\n",
       "    </tr>\n",
       "    <tr>\n",
       "      <th>Uber Wallet</th>\n",
       "      <td>2357</td>\n",
       "    </tr>\n",
       "    <tr>\n",
       "      <th>Credit Card</th>\n",
       "      <td>2006</td>\n",
       "    </tr>\n",
       "    <tr>\n",
       "      <th>Debit Card</th>\n",
       "      <td>1608</td>\n",
       "    </tr>\n",
       "    <tr>\n",
       "      <th rowspan=\"5\" valign=\"top\">Go Sedan</th>\n",
       "      <th>UPI</th>\n",
       "      <td>16976</td>\n",
       "    </tr>\n",
       "    <tr>\n",
       "      <th>Cash</th>\n",
       "      <td>4643</td>\n",
       "    </tr>\n",
       "    <tr>\n",
       "      <th>Uber Wallet</th>\n",
       "      <td>2168</td>\n",
       "    </tr>\n",
       "    <tr>\n",
       "      <th>Credit Card</th>\n",
       "      <td>1884</td>\n",
       "    </tr>\n",
       "    <tr>\n",
       "      <th>Debit Card</th>\n",
       "      <td>1470</td>\n",
       "    </tr>\n",
       "    <tr>\n",
       "      <th rowspan=\"5\" valign=\"top\">Premier Sedan</th>\n",
       "      <th>UPI</th>\n",
       "      <td>11370</td>\n",
       "    </tr>\n",
       "    <tr>\n",
       "      <th>Cash</th>\n",
       "      <td>2990</td>\n",
       "    </tr>\n",
       "    <tr>\n",
       "      <th>Uber Wallet</th>\n",
       "      <td>1504</td>\n",
       "    </tr>\n",
       "    <tr>\n",
       "      <th>Credit Card</th>\n",
       "      <td>1240</td>\n",
       "    </tr>\n",
       "    <tr>\n",
       "      <th>Debit Card</th>\n",
       "      <td>1007</td>\n",
       "    </tr>\n",
       "    <tr>\n",
       "      <th rowspan=\"5\" valign=\"top\">Uber XL</th>\n",
       "      <th>UPI</th>\n",
       "      <td>2733</td>\n",
       "    </tr>\n",
       "    <tr>\n",
       "      <th>Cash</th>\n",
       "      <td>784</td>\n",
       "    </tr>\n",
       "    <tr>\n",
       "      <th>Uber Wallet</th>\n",
       "      <td>387</td>\n",
       "    </tr>\n",
       "    <tr>\n",
       "      <th>Credit Card</th>\n",
       "      <td>278</td>\n",
       "    </tr>\n",
       "    <tr>\n",
       "      <th>Debit Card</th>\n",
       "      <td>267</td>\n",
       "    </tr>\n",
       "    <tr>\n",
       "      <th rowspan=\"5\" valign=\"top\">eBike</th>\n",
       "      <th>UPI</th>\n",
       "      <td>6671</td>\n",
       "    </tr>\n",
       "    <tr>\n",
       "      <th>Cash</th>\n",
       "      <td>1707</td>\n",
       "    </tr>\n",
       "    <tr>\n",
       "      <th>Uber Wallet</th>\n",
       "      <td>905</td>\n",
       "    </tr>\n",
       "    <tr>\n",
       "      <th>Credit Card</th>\n",
       "      <td>706</td>\n",
       "    </tr>\n",
       "    <tr>\n",
       "      <th>Debit Card</th>\n",
       "      <td>568</td>\n",
       "    </tr>\n",
       "  </tbody>\n",
       "</table>\n",
       "</div>"
      ],
      "text/plain": [
       "                              total\n",
       "Vehicle Type  Payment Method       \n",
       "Auto          UPI             23340\n",
       "              Cash             6252\n",
       "              Uber Wallet      3162\n",
       "              Credit Card      2568\n",
       "              Debit Card       2097\n",
       "Bike          UPI             14121\n",
       "              Cash             3854\n",
       "              Uber Wallet      1793\n",
       "              Credit Card      1527\n",
       "              Debit Card       1222\n",
       "Go Mini       UPI             18698\n",
       "              Cash             5137\n",
       "              Uber Wallet      2357\n",
       "              Credit Card      2006\n",
       "              Debit Card       1608\n",
       "Go Sedan      UPI             16976\n",
       "              Cash             4643\n",
       "              Uber Wallet      2168\n",
       "              Credit Card      1884\n",
       "              Debit Card       1470\n",
       "Premier Sedan UPI             11370\n",
       "              Cash             2990\n",
       "              Uber Wallet      1504\n",
       "              Credit Card      1240\n",
       "              Debit Card       1007\n",
       "Uber XL       UPI              2733\n",
       "              Cash              784\n",
       "              Uber Wallet       387\n",
       "              Credit Card       278\n",
       "              Debit Card        267\n",
       "eBike         UPI              6671\n",
       "              Cash             1707\n",
       "              Uber Wallet       905\n",
       "              Credit Card       706\n",
       "              Debit Card        568"
      ]
     },
     "execution_count": 145,
     "metadata": {},
     "output_type": "execute_result"
    },
    {
     "data": {
      "image/png": "[encoded data removed]",
      "text/plain": [
       "<Figure size 640x480 with 1 Axes>"
      ]
     },
     "metadata": {},
     "output_type": "display_data"
    }
   ],
   "source": [
    "sns.barplot(data = df_uber_main_vehicle_payment , x = 'Vehicle Type' , hue = 'Payment Method' , y = 'total' )\n",
    "df_uber_main_vehicle_payment\n",
    "# for all vehicleType  mostly used  upi then cash ,uber wallet\n",
    "# with upi mostly use auto ,gomini,bike ./\n",
    "# with cash mostly auto, gomini,gosedan"
   ]
  },
  {
   "cell_type": "code",
   "execution_count": 146,
   "id": "a223f0ee-15e5-4fdc-9f2b-ca7c057f50f2",
   "metadata": {},
   "outputs": [
    {
     "data": {
      "text/plain": [
       "Date                       object\n",
       "Time                       object\n",
       "Booking ID         string[python]\n",
       "Booking Status     string[python]\n",
       "Customer ID        string[python]\n",
       "Vehicle Type       string[python]\n",
       "Pickup Location    string[python]\n",
       "Drop Location      string[python]\n",
       "Booking Value             float64\n",
       "Ride Distance             float64\n",
       "Payment Method     string[python]\n",
       "dtype: object"
      ]
     },
     "execution_count": 146,
     "metadata": {},
     "output_type": "execute_result"
    }
   ],
   "source": [
    "# Booking Value\tRide Distance\tPayment Method\n",
    "df_uber_main.dtypes"
   ]
  },
  {
   "cell_type": "code",
   "execution_count": 147,
   "id": "a16304ba-8090-4526-bc10-5a922590de65",
   "metadata": {},
   "outputs": [],
   "source": [
    "df_uber_main_book_minridedist =  df_uber_main.groupby(['Booking Value']).agg(min_ridedistance =('Ride Distance','min')).sort_values(['Booking Value','min_ridedistance'])"
   ]
  },
  {
   "cell_type": "code",
   "execution_count": 148,
   "id": "abaac4c5-7d97-4242-8eed-88a1914cb7b0",
   "metadata": {},
   "outputs": [
    {
     "data": {
      "text/html": [
       "<div>\n",
       "<style scoped>\n",
       "    .dataframe tbody tr th:only-of-type {\n",
       "        vertical-align: middle;\n",
       "    }\n",
       "\n",
       "    .dataframe tbody tr th {\n",
       "        vertical-align: top;\n",
       "    }\n",
       "\n",
       "    .dataframe thead th {\n",
       "        text-align: right;\n",
       "    }\n",
       "</style>\n",
       "<table border=\"1\" class=\"dataframe\">\n",
       "  <thead>\n",
       "    <tr style=\"text-align: right;\">\n",
       "      <th></th>\n",
       "      <th>min_ridedistance</th>\n",
       "    </tr>\n",
       "    <tr>\n",
       "      <th>Booking Value</th>\n",
       "      <th></th>\n",
       "    </tr>\n",
       "  </thead>\n",
       "  <tbody>\n",
       "    <tr>\n",
       "      <th>50.0</th>\n",
       "      <td>2.27</td>\n",
       "    </tr>\n",
       "    <tr>\n",
       "      <th>51.0</th>\n",
       "      <td>2.48</td>\n",
       "    </tr>\n",
       "    <tr>\n",
       "      <th>52.0</th>\n",
       "      <td>1.46</td>\n",
       "    </tr>\n",
       "    <tr>\n",
       "      <th>53.0</th>\n",
       "      <td>2.13</td>\n",
       "    </tr>\n",
       "    <tr>\n",
       "      <th>54.0</th>\n",
       "      <td>2.03</td>\n",
       "    </tr>\n",
       "    <tr>\n",
       "      <th>...</th>\n",
       "      <td>...</td>\n",
       "    </tr>\n",
       "    <tr>\n",
       "      <th>4133.0</th>\n",
       "      <td>25.66</td>\n",
       "    </tr>\n",
       "    <tr>\n",
       "      <th>4202.0</th>\n",
       "      <td>4.62</td>\n",
       "    </tr>\n",
       "    <tr>\n",
       "      <th>4220.0</th>\n",
       "      <td>10.11</td>\n",
       "    </tr>\n",
       "    <tr>\n",
       "      <th>4228.0</th>\n",
       "      <td>11.73</td>\n",
       "    </tr>\n",
       "    <tr>\n",
       "      <th>4277.0</th>\n",
       "      <td>8.66</td>\n",
       "    </tr>\n",
       "  </tbody>\n",
       "</table>\n",
       "<p>2567 rows × 1 columns</p>\n",
       "</div>"
      ],
      "text/plain": [
       "               min_ridedistance\n",
       "Booking Value                  \n",
       "50.0                       2.27\n",
       "51.0                       2.48\n",
       "52.0                       1.46\n",
       "53.0                       2.13\n",
       "54.0                       2.03\n",
       "...                         ...\n",
       "4133.0                    25.66\n",
       "4202.0                     4.62\n",
       "4220.0                    10.11\n",
       "4228.0                    11.73\n",
       "4277.0                     8.66\n",
       "\n",
       "[2567 rows x 1 columns]"
      ]
     },
     "execution_count": 148,
     "metadata": {},
     "output_type": "execute_result"
    },
    {
     "data": {
      "image/png": "[encoded data removed]",
      "text/plain": [
       "<Figure size 600x600 with 3 Axes>"
      ]
     },
     "metadata": {},
     "output_type": "display_data"
    }
   ],
   "source": [
    "sns.jointplot( data =df_uber_main_book_minridedist  , x = 'Booking Value' , y ='min_ridedistance' ,kind = 'hex' ,gridsize=14, cmap=\"Accent\")\n",
    "df_uber_main_book_minridedist\n",
    "# from this we can say that minimum ₹50 req for min_ridedistance of 2.27km"
   ]
  },
  {
   "cell_type": "code",
   "execution_count": 149,
   "id": "c6b1a0bb-bf0f-49a8-b610-184227a38611",
   "metadata": {},
   "outputs": [
    {
     "data": {
      "text/plain": [
       "<Axes: xlabel='Booking Value', ylabel='min_ridedistance'>"
      ]
     },
     "execution_count": 149,
     "metadata": {},
     "output_type": "execute_result"
    },
    {
     "data": {
      "image/png": "[encoded data removed]",
      "text/plain": [
       "<Figure size 640x480 with 1 Axes>"
      ]
     },
     "metadata": {},
     "output_type": "display_data"
    }
   ],
   "source": [
    "sns.lineplot( data =df_uber_main_book_minridedist.sample(200)  , x = 'Booking Value' , y ='min_ridedistance')"
   ]
  },
  {
   "cell_type": "code",
   "execution_count": 150,
   "id": "a18f2b5f-2dca-4229-912a-fed8e1c19739",
   "metadata": {},
   "outputs": [],
   "source": [
    "df_uber_main_book_maxridedist =  df_uber_main.groupby(['Booking Value']).agg(max_ridedistance =('Ride Distance','max')).sort_values(['Booking Value','max_ridedistance'],ascending=[True,False])"
   ]
  },
  {
   "cell_type": "code",
   "execution_count": 151,
   "id": "22f12d8c-c81d-48c7-a82d-a7f16556e26e",
   "metadata": {},
   "outputs": [
    {
     "data": {
      "text/html": [
       "<div>\n",
       "<style scoped>\n",
       "    .dataframe tbody tr th:only-of-type {\n",
       "        vertical-align: middle;\n",
       "    }\n",
       "\n",
       "    .dataframe tbody tr th {\n",
       "        vertical-align: top;\n",
       "    }\n",
       "\n",
       "    .dataframe thead th {\n",
       "        text-align: right;\n",
       "    }\n",
       "</style>\n",
       "<table border=\"1\" class=\"dataframe\">\n",
       "  <thead>\n",
       "    <tr style=\"text-align: right;\">\n",
       "      <th></th>\n",
       "      <th>max_ridedistance</th>\n",
       "    </tr>\n",
       "    <tr>\n",
       "      <th>Booking Value</th>\n",
       "      <th></th>\n",
       "    </tr>\n",
       "  </thead>\n",
       "  <tbody>\n",
       "    <tr>\n",
       "      <th>50.0</th>\n",
       "      <td>49.60</td>\n",
       "    </tr>\n",
       "    <tr>\n",
       "      <th>51.0</th>\n",
       "      <td>49.87</td>\n",
       "    </tr>\n",
       "    <tr>\n",
       "      <th>52.0</th>\n",
       "      <td>49.96</td>\n",
       "    </tr>\n",
       "    <tr>\n",
       "      <th>53.0</th>\n",
       "      <td>49.67</td>\n",
       "    </tr>\n",
       "    <tr>\n",
       "      <th>54.0</th>\n",
       "      <td>49.59</td>\n",
       "    </tr>\n",
       "    <tr>\n",
       "      <th>...</th>\n",
       "      <td>...</td>\n",
       "    </tr>\n",
       "    <tr>\n",
       "      <th>4133.0</th>\n",
       "      <td>25.66</td>\n",
       "    </tr>\n",
       "    <tr>\n",
       "      <th>4202.0</th>\n",
       "      <td>4.62</td>\n",
       "    </tr>\n",
       "    <tr>\n",
       "      <th>4220.0</th>\n",
       "      <td>10.11</td>\n",
       "    </tr>\n",
       "    <tr>\n",
       "      <th>4228.0</th>\n",
       "      <td>11.73</td>\n",
       "    </tr>\n",
       "    <tr>\n",
       "      <th>4277.0</th>\n",
       "      <td>8.66</td>\n",
       "    </tr>\n",
       "  </tbody>\n",
       "</table>\n",
       "<p>2567 rows × 1 columns</p>\n",
       "</div>"
      ],
      "text/plain": [
       "               max_ridedistance\n",
       "Booking Value                  \n",
       "50.0                      49.60\n",
       "51.0                      49.87\n",
       "52.0                      49.96\n",
       "53.0                      49.67\n",
       "54.0                      49.59\n",
       "...                         ...\n",
       "4133.0                    25.66\n",
       "4202.0                     4.62\n",
       "4220.0                    10.11\n",
       "4228.0                    11.73\n",
       "4277.0                     8.66\n",
       "\n",
       "[2567 rows x 1 columns]"
      ]
     },
     "execution_count": 151,
     "metadata": {},
     "output_type": "execute_result"
    }
   ],
   "source": [
    "df_uber_main_book_maxridedist\n",
    "# from this max_ridedistance can be avail at 50.0 too"
   ]
  },
  {
   "cell_type": "code",
   "execution_count": 152,
   "id": "4f300dd5-7f4a-4d45-9a45-a36bae9e3cc2",
   "metadata": {},
   "outputs": [],
   "source": [
    "# Booking Status   Booking Value   Ride Distance"
   ]
  },
  {
   "cell_type": "code",
   "execution_count": 153,
   "id": "2513511d-143e-4295-ae10-7fdd57897f2b",
   "metadata": {},
   "outputs": [],
   "source": [
    "# df_uber_main.groupby(['Booking Status','Booking Value']).agg(book = ('Booking Status',lambda x :x.mode()[0]))"
   ]
  },
  {
   "cell_type": "code",
   "execution_count": 154,
   "id": "27d3251f-38da-43ae-94a2-cc8e00ff8483",
   "metadata": {},
   "outputs": [
    {
     "data": {
      "text/plain": [
       "Booking Status\n",
       "Completed                93000\n",
       "Cancelled by Driver      27000\n",
       "No Driver Found          10500\n",
       "Cancelled by Customer    10500\n",
       "Incomplete                9000\n",
       "Name: count, dtype: Int64"
      ]
     },
     "execution_count": 154,
     "metadata": {},
     "output_type": "execute_result"
    }
   ],
   "source": [
    "df_uber_main['Booking Status'].value_counts()"
   ]
  },
  {
   "cell_type": "code",
   "execution_count": 155,
   "id": "6d2221f1-8d6b-49d0-a0b9-cdd11a714373",
   "metadata": {},
   "outputs": [],
   "source": [
    "df_uber_main_bookingstatustotal  = df_uber_main.groupby(['Booking Status',]).agg(book = ('Booking Status','count'))"
   ]
  },
  {
   "cell_type": "code",
   "execution_count": 156,
   "id": "e8c50b9c-9b4d-4f65-b527-246f73186d29",
   "metadata": {},
   "outputs": [
    {
     "data": {
      "text/html": [
       "<div>\n",
       "<style scoped>\n",
       "    .dataframe tbody tr th:only-of-type {\n",
       "        vertical-align: middle;\n",
       "    }\n",
       "\n",
       "    .dataframe tbody tr th {\n",
       "        vertical-align: top;\n",
       "    }\n",
       "\n",
       "    .dataframe thead th {\n",
       "        text-align: right;\n",
       "    }\n",
       "</style>\n",
       "<table border=\"1\" class=\"dataframe\">\n",
       "  <thead>\n",
       "    <tr style=\"text-align: right;\">\n",
       "      <th></th>\n",
       "      <th>book</th>\n",
       "    </tr>\n",
       "    <tr>\n",
       "      <th>Booking Status</th>\n",
       "      <th></th>\n",
       "    </tr>\n",
       "  </thead>\n",
       "  <tbody>\n",
       "    <tr>\n",
       "      <th>Cancelled by Customer</th>\n",
       "      <td>10500</td>\n",
       "    </tr>\n",
       "    <tr>\n",
       "      <th>Cancelled by Driver</th>\n",
       "      <td>27000</td>\n",
       "    </tr>\n",
       "    <tr>\n",
       "      <th>Completed</th>\n",
       "      <td>93000</td>\n",
       "    </tr>\n",
       "    <tr>\n",
       "      <th>Incomplete</th>\n",
       "      <td>9000</td>\n",
       "    </tr>\n",
       "    <tr>\n",
       "      <th>No Driver Found</th>\n",
       "      <td>10500</td>\n",
       "    </tr>\n",
       "  </tbody>\n",
       "</table>\n",
       "</div>"
      ],
      "text/plain": [
       "                        book\n",
       "Booking Status              \n",
       "Cancelled by Customer  10500\n",
       "Cancelled by Driver    27000\n",
       "Completed              93000\n",
       "Incomplete              9000\n",
       "No Driver Found        10500"
      ]
     },
     "execution_count": 156,
     "metadata": {},
     "output_type": "execute_result"
    }
   ],
   "source": [
    "df_uber_main_bookingstatustotal"
   ]
  },
  {
   "cell_type": "code",
   "execution_count": 157,
   "id": "6689069f-46ee-4620-8a66-6c994affcf76",
   "metadata": {},
   "outputs": [],
   "source": [
    "# df_uber_main_vehicle_bookingtype  = df_uber_main.groupby(['Booking Status','Vehicle Type']).agg(total = ('Booking Status','count')).sort_values('total',ascending=False)"
   ]
  },
  {
   "cell_type": "code",
   "execution_count": 158,
   "id": "65e1faa0-b84d-41ee-a43a-7920ffe08490",
   "metadata": {},
   "outputs": [],
   "source": [
    "df_uber_main_vehicle_bookingtype    = (\n",
    "    df_uber_main\n",
    "    .groupby(['Booking Status','Vehicle Type'])\n",
    "    .agg(t=('Booking Status','count'))  # here is agg\n",
    "    .unstack(fill_value=0)                 # pivot form\n",
    ")"
   ]
  },
  {
   "cell_type": "code",
   "execution_count": 159,
   "id": "89985d6b-833f-4094-b579-193cef33f42b",
   "metadata": {},
   "outputs": [
    {
     "data": {
      "text/html": [
       "<div>\n",
       "<style scoped>\n",
       "    .dataframe tbody tr th:only-of-type {\n",
       "        vertical-align: middle;\n",
       "    }\n",
       "\n",
       "    .dataframe tbody tr th {\n",
       "        vertical-align: top;\n",
       "    }\n",
       "\n",
       "    .dataframe thead tr th {\n",
       "        text-align: left;\n",
       "    }\n",
       "\n",
       "    .dataframe thead tr:last-of-type th {\n",
       "        text-align: right;\n",
       "    }\n",
       "</style>\n",
       "<table border=\"1\" class=\"dataframe\">\n",
       "  <thead>\n",
       "    <tr>\n",
       "      <th></th>\n",
       "      <th colspan=\"7\" halign=\"left\">t</th>\n",
       "    </tr>\n",
       "    <tr>\n",
       "      <th>Vehicle Type</th>\n",
       "      <th>Auto</th>\n",
       "      <th>Bike</th>\n",
       "      <th>Go Mini</th>\n",
       "      <th>Go Sedan</th>\n",
       "      <th>Premier Sedan</th>\n",
       "      <th>Uber XL</th>\n",
       "      <th>eBike</th>\n",
       "    </tr>\n",
       "    <tr>\n",
       "      <th>Booking Status</th>\n",
       "      <th></th>\n",
       "      <th></th>\n",
       "      <th></th>\n",
       "      <th></th>\n",
       "      <th></th>\n",
       "      <th></th>\n",
       "      <th></th>\n",
       "    </tr>\n",
       "  </thead>\n",
       "  <tbody>\n",
       "    <tr>\n",
       "      <th>Cancelled by Customer</th>\n",
       "      <td>2680</td>\n",
       "      <td>1575</td>\n",
       "      <td>2097</td>\n",
       "      <td>1832</td>\n",
       "      <td>1266</td>\n",
       "      <td>327</td>\n",
       "      <td>723</td>\n",
       "    </tr>\n",
       "    <tr>\n",
       "      <th>Cancelled by Driver</th>\n",
       "      <td>6643</td>\n",
       "      <td>4077</td>\n",
       "      <td>5330</td>\n",
       "      <td>5031</td>\n",
       "      <td>3250</td>\n",
       "      <td>762</td>\n",
       "      <td>1907</td>\n",
       "    </tr>\n",
       "    <tr>\n",
       "      <th>Completed</th>\n",
       "      <td>23155</td>\n",
       "      <td>14034</td>\n",
       "      <td>18549</td>\n",
       "      <td>16676</td>\n",
       "      <td>11252</td>\n",
       "      <td>2783</td>\n",
       "      <td>6551</td>\n",
       "    </tr>\n",
       "    <tr>\n",
       "      <th>Incomplete</th>\n",
       "      <td>2260</td>\n",
       "      <td>1328</td>\n",
       "      <td>1815</td>\n",
       "      <td>1642</td>\n",
       "      <td>1063</td>\n",
       "      <td>262</td>\n",
       "      <td>630</td>\n",
       "    </tr>\n",
       "    <tr>\n",
       "      <th>No Driver Found</th>\n",
       "      <td>2681</td>\n",
       "      <td>1503</td>\n",
       "      <td>2015</td>\n",
       "      <td>1960</td>\n",
       "      <td>1280</td>\n",
       "      <td>315</td>\n",
       "      <td>746</td>\n",
       "    </tr>\n",
       "  </tbody>\n",
       "</table>\n",
       "</div>"
      ],
      "text/plain": [
       "                           t                                                \\\n",
       "Vehicle Type            Auto   Bike Go Mini Go Sedan Premier Sedan Uber XL   \n",
       "Booking Status                                                               \n",
       "Cancelled by Customer   2680   1575    2097     1832          1266     327   \n",
       "Cancelled by Driver     6643   4077    5330     5031          3250     762   \n",
       "Completed              23155  14034   18549    16676         11252    2783   \n",
       "Incomplete              2260   1328    1815     1642          1063     262   \n",
       "No Driver Found         2681   1503    2015     1960          1280     315   \n",
       "\n",
       "                             \n",
       "Vehicle Type          eBike  \n",
       "Booking Status               \n",
       "Cancelled by Customer   723  \n",
       "Cancelled by Driver    1907  \n",
       "Completed              6551  \n",
       "Incomplete              630  \n",
       "No Driver Found         746  "
      ]
     },
     "execution_count": 159,
     "metadata": {},
     "output_type": "execute_result"
    }
   ],
   "source": [
    "df_uber_main_vehicle_bookingtype "
   ]
  },
  {
   "cell_type": "code",
   "execution_count": 160,
   "id": "7feda693-7736-4dad-a52c-cb4f3773c98f",
   "metadata": {},
   "outputs": [
    {
     "data": {
      "text/html": [
       "<div>\n",
       "<style scoped>\n",
       "    .dataframe tbody tr th:only-of-type {\n",
       "        vertical-align: middle;\n",
       "    }\n",
       "\n",
       "    .dataframe tbody tr th {\n",
       "        vertical-align: top;\n",
       "    }\n",
       "\n",
       "    .dataframe thead th {\n",
       "        text-align: right;\n",
       "    }\n",
       "</style>\n",
       "<table border=\"1\" class=\"dataframe\">\n",
       "  <thead>\n",
       "    <tr style=\"text-align: right;\">\n",
       "      <th></th>\n",
       "      <th>Date</th>\n",
       "      <th>Time</th>\n",
       "      <th>Booking ID</th>\n",
       "      <th>Booking Status</th>\n",
       "      <th>Customer ID</th>\n",
       "      <th>Vehicle Type</th>\n",
       "      <th>Pickup Location</th>\n",
       "      <th>Drop Location</th>\n",
       "      <th>Booking Value</th>\n",
       "      <th>Ride Distance</th>\n",
       "      <th>Payment Method</th>\n",
       "    </tr>\n",
       "  </thead>\n",
       "  <tbody>\n",
       "    <tr>\n",
       "      <th>0</th>\n",
       "      <td>2024-03-23</td>\n",
       "      <td>12:29:38</td>\n",
       "      <td>\"CNR5884300\"</td>\n",
       "      <td>No Driver Found</td>\n",
       "      <td>\"CID1982111\"</td>\n",
       "      <td>eBike</td>\n",
       "      <td>Palam Vihar</td>\n",
       "      <td>Jhilmil</td>\n",
       "      <td>508.295912</td>\n",
       "      <td>24.637012</td>\n",
       "      <td>UPI</td>\n",
       "    </tr>\n",
       "  </tbody>\n",
       "</table>\n",
       "</div>"
      ],
      "text/plain": [
       "         Date      Time    Booking ID   Booking Status   Customer ID  \\\n",
       "0  2024-03-23  12:29:38  \"CNR5884300\"  No Driver Found  \"CID1982111\"   \n",
       "\n",
       "  Vehicle Type Pickup Location Drop Location  Booking Value  Ride Distance  \\\n",
       "0        eBike     Palam Vihar       Jhilmil     508.295912      24.637012   \n",
       "\n",
       "  Payment Method  \n",
       "0            UPI  "
      ]
     },
     "execution_count": 160,
     "metadata": {},
     "output_type": "execute_result"
    }
   ],
   "source": [
    "df_uber_main.head(1)"
   ]
  },
  {
   "cell_type": "code",
   "execution_count": 161,
   "id": "6201be1e-be1d-48ce-b964-18701cf9feed",
   "metadata": {},
   "outputs": [],
   "source": [
    "df_uber_main_dropcount_pickup_dropmode_vehicletype =  df_uber_main.groupby(['Pickup Location' ,'Vehicle Type']).agg(dropcount = ('Drop Location','count') , dropmode = ('Drop Location',lambda x : x.mode()[0]))"
   ]
  },
  {
   "cell_type": "code",
   "execution_count": 162,
   "id": "0f16ac81-e6b6-4a3d-855d-8242a1fd34cc",
   "metadata": {},
   "outputs": [
    {
     "name": "stdout",
     "output_type": "stream",
     "text": [
      "(1232, 2)\n",
      "                               dropcount         dropmode\n",
      "Pickup Location Vehicle Type                             \n",
      "AIIMS           Auto                 248  Ashok Park Main\n",
      "                Bike                 151    Ambience Mall\n",
      "                Go Mini              173    Subhash Nagar\n",
      "                Go Sedan             152      Bahadurgarh\n",
      "                Premier Sedan        111    Saket A Block\n",
      "...                                  ...              ...\n",
      "Yamuna Bank     Go Mini              162        Ghaziabad\n",
      "                Go Sedan             145       Delhi Gate\n",
      "                Premier Sedan        103     Chirag Delhi\n",
      "                Uber XL               23      Anand Vihar\n",
      "                eBike                 60    Greater Noida\n",
      "\n",
      "[1232 rows x 2 columns]\n"
     ]
    },
    {
     "data": {
      "text/plain": [
       "<Axes: xlabel='dropcount', ylabel='Pickup Location'>"
      ]
     },
     "execution_count": 162,
     "metadata": {},
     "output_type": "execute_result"
    },
    {
     "data": {
      "image/png": "[encoded data removed]",
      "text/plain": [
       "<Figure size 640x480 with 1 Axes>"
      ]
     },
     "metadata": {},
     "output_type": "display_data"
    }
   ],
   "source": [
    "# counts how many Drop Location values exist for each Pickup Location.\n",
    "# applies a custom function → takes the most frequent (mode) Drop Location.\n",
    "print(df_uber_main_dropcount_pickup_dropmode_vehicletype.shape)\n",
    "print(df_uber_main_dropcount_pickup_dropmode_vehicletype)\n",
    "sns.barplot(data =df_uber_main_dropcount_pickup_dropmode_vehicletype.head(200),y = 'Pickup Location',x = 'dropcount' )"
   ]
  },
  {
   "cell_type": "code",
   "execution_count": 163,
   "id": "f2bce735-566d-45ca-905b-b2cb4485403a",
   "metadata": {},
   "outputs": [
    {
     "data": {
      "text/html": [
       "<div>\n",
       "<style scoped>\n",
       "    .dataframe tbody tr th:only-of-type {\n",
       "        vertical-align: middle;\n",
       "    }\n",
       "\n",
       "    .dataframe tbody tr th {\n",
       "        vertical-align: top;\n",
       "    }\n",
       "\n",
       "    .dataframe thead th {\n",
       "        text-align: right;\n",
       "    }\n",
       "</style>\n",
       "<table border=\"1\" class=\"dataframe\">\n",
       "  <thead>\n",
       "    <tr style=\"text-align: right;\">\n",
       "      <th></th>\n",
       "      <th>Date</th>\n",
       "      <th>Time</th>\n",
       "      <th>Booking ID</th>\n",
       "      <th>Booking Status</th>\n",
       "      <th>Customer ID</th>\n",
       "      <th>Vehicle Type</th>\n",
       "      <th>Pickup Location</th>\n",
       "      <th>Drop Location</th>\n",
       "      <th>Booking Value</th>\n",
       "      <th>Ride Distance</th>\n",
       "      <th>Payment Method</th>\n",
       "    </tr>\n",
       "  </thead>\n",
       "  <tbody>\n",
       "    <tr>\n",
       "      <th>0</th>\n",
       "      <td>2024-03-23</td>\n",
       "      <td>12:29:38</td>\n",
       "      <td>\"CNR5884300\"</td>\n",
       "      <td>No Driver Found</td>\n",
       "      <td>\"CID1982111\"</td>\n",
       "      <td>eBike</td>\n",
       "      <td>Palam Vihar</td>\n",
       "      <td>Jhilmil</td>\n",
       "      <td>508.295912</td>\n",
       "      <td>24.637012</td>\n",
       "      <td>UPI</td>\n",
       "    </tr>\n",
       "  </tbody>\n",
       "</table>\n",
       "</div>"
      ],
      "text/plain": [
       "         Date      Time    Booking ID   Booking Status   Customer ID  \\\n",
       "0  2024-03-23  12:29:38  \"CNR5884300\"  No Driver Found  \"CID1982111\"   \n",
       "\n",
       "  Vehicle Type Pickup Location Drop Location  Booking Value  Ride Distance  \\\n",
       "0        eBike     Palam Vihar       Jhilmil     508.295912      24.637012   \n",
       "\n",
       "  Payment Method  \n",
       "0            UPI  "
      ]
     },
     "execution_count": 163,
     "metadata": {},
     "output_type": "execute_result"
    }
   ],
   "source": [
    "df_uber_main.head(1)"
   ]
  },
  {
   "cell_type": "code",
   "execution_count": 164,
   "id": "6878f44d-b479-4192-b50b-a305d0c297c7",
   "metadata": {},
   "outputs": [
    {
     "name": "stderr",
     "output_type": "stream",
     "text": [
      "C:\\Users\\sudha\\AppData\\Local\\Temp\\ipykernel_28364\\90287781.py:1: UserWarning: Could not infer format, so each element will be parsed individually, falling back to `dateutil`. To ensure parsing is consistent and as-expected, please specify a format.\n",
      "  df_uber_main['hour'] = pd.to_datetime(df_uber_main['Time']).dt.hour\n",
      "C:\\Users\\sudha\\AppData\\Local\\Temp\\ipykernel_28364\\90287781.py:1: SettingWithCopyWarning: \n",
      "A value is trying to be set on a copy of a slice from a DataFrame.\n",
      "Try using .loc[row_indexer,col_indexer] = value instead\n",
      "\n",
      "See the caveats in the documentation: https://pandas.pydata.org/pandas-docs/stable/user_guide/indexing.html#returning-a-view-versus-a-copy\n",
      "  df_uber_main['hour'] = pd.to_datetime(df_uber_main['Time']).dt.hour\n"
     ]
    },
    {
     "data": {
      "text/plain": [
       "<Axes: xlabel='hour', ylabel='Count'>"
      ]
     },
     "execution_count": 164,
     "metadata": {},
     "output_type": "execute_result"
    },
    {
     "data": {
      "image/png": "[encoded data removed]",
      "text/plain": [
       "<Figure size 640x480 with 1 Axes>"
      ]
     },
     "metadata": {},
     "output_type": "display_data"
    }
   ],
   "source": [
    "df_uber_main['hour'] = pd.to_datetime(df_uber_main['Time']).dt.hour\n",
    "sns.histplot(data=df_uber_main, x='hour', bins=24, kde=True,hue = 'Vehicle Type' ,)\n",
    "# from this plot from 15 to 20 (3:00pm to 8:00pm ) more of bookings are made by the coustomer\n",
    "# at 10AM bookings of auto are close to the gomini at 8PM\n",
    "# at 12PM the bookings are almost decreased and rasied after the 3PM again"
   ]
  },
  {
   "cell_type": "code",
   "execution_count": 79,
   "id": "fd19d2e7-a617-4963-bf3b-c0e081bbffab",
   "metadata": {},
   "outputs": [
    {
     "name": "stdout",
     "output_type": "stream",
     "text": [
      "hdgd\n"
     ]
    }
   ],
   "source": [
    "print('hdgd')"
   ]
  }
 ],
 "metadata": {
  "kernelspec": {
   "display_name": "Python [conda env:base] *",
   "language": "python",
   "name": "conda-base-py"
  },
  "language_info": {
   "codemirror_mode": {
    "name": "ipython",
    "version": 3
   },
   "file_extension": ".py",
   "mimetype": "text/x-python",
   "name": "python",
   "nbconvert_exporter": "python",
   "pygments_lexer": "ipython3",
   "version": "3.13.5"
  }
 },
 "nbformat": 4,
 "nbformat_minor": 5
}
