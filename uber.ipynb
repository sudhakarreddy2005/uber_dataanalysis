{
 "cells": [
  {
   "cell_type": "markdown",
   "id": "7879152f-99b4-4905-8f6d-b6c8ca0fb071",
   "metadata": {},
   "source": [
    "## 🚗 Uber Ride Analytics Dataset 2024\n",
    "This comprehensive dataset contains detailed ride-sharing data from Uber operations for the year 2024, providing rich insights into booking patterns, vehicle performance, revenue streams, cancellation behaviors, and customer satisfaction metrics.\n",
    "\n"
   ]
  },
  {
   "cell_type": "code",
   "execution_count": 1,
   "id": "06bc8d60-a92f-4ec8-a6d0-e57c7918edee",
   "metadata": {},
   "outputs": [],
   "source": [
    "import numpy as np\n",
    "import pandas as pd\n",
    "import matplotlib.pyplot as plt\n",
    "import seaborn as sns\n"
   ]
  },
  {
   "cell_type": "code",
   "execution_count": 2,
   "id": "25b36d21-92c9-4d5b-ad4a-54d5939b8c3c",
   "metadata": {},
   "outputs": [],
   "source": [
    "sns.set_style('whitegrid')"
   ]
  },
  {
   "cell_type": "code",
   "execution_count": 3,
   "id": "20426fb5-f773-4514-a642-03a63f3a3bd3",
   "metadata": {},
   "outputs": [],
   "source": [
    "df_uber = pd.read_csv('uber_ride_bookings.csv')"
   ]
  },
  {
   "cell_type": "code",
   "execution_count": 4,
   "id": "25dd1fbc-7a17-4ec6-8c32-9a2fdb6645d1",
   "metadata": {},
   "outputs": [
    {
     "data": {
      "text/html": [
       "<div>\n",
       "<style scoped>\n",
       "    .dataframe tbody tr th:only-of-type {\n",
       "        vertical-align: middle;\n",
       "    }\n",
       "\n",
       "    .dataframe tbody tr th {\n",
       "        vertical-align: top;\n",
       "    }\n",
       "\n",
       "    .dataframe thead th {\n",
       "        text-align: right;\n",
       "    }\n",
       "</style>\n",
       "<table border=\"1\" class=\"dataframe\">\n",
       "  <thead>\n",
       "    <tr style=\"text-align: right;\">\n",
       "      <th></th>\n",
       "      <th>Date</th>\n",
       "      <th>Time</th>\n",
       "      <th>Booking ID</th>\n",
       "      <th>Booking Status</th>\n",
       "      <th>Customer ID</th>\n",
       "      <th>Vehicle Type</th>\n",
       "      <th>Pickup Location</th>\n",
       "      <th>Drop Location</th>\n",
       "      <th>Avg VTAT</th>\n",
       "      <th>Avg CTAT</th>\n",
       "      <th>...</th>\n",
       "      <th>Reason for cancelling by Customer</th>\n",
       "      <th>Cancelled Rides by Driver</th>\n",
       "      <th>Driver Cancellation Reason</th>\n",
       "      <th>Incomplete Rides</th>\n",
       "      <th>Incomplete Rides Reason</th>\n",
       "      <th>Booking Value</th>\n",
       "      <th>Ride Distance</th>\n",
       "      <th>Driver Ratings</th>\n",
       "      <th>Customer Rating</th>\n",
       "      <th>Payment Method</th>\n",
       "    </tr>\n",
       "  </thead>\n",
       "  <tbody>\n",
       "    <tr>\n",
       "      <th>0</th>\n",
       "      <td>2024-03-23</td>\n",
       "      <td>12:29:38</td>\n",
       "      <td>\"CNR5884300\"</td>\n",
       "      <td>No Driver Found</td>\n",
       "      <td>\"CID1982111\"</td>\n",
       "      <td>eBike</td>\n",
       "      <td>Palam Vihar</td>\n",
       "      <td>Jhilmil</td>\n",
       "      <td>NaN</td>\n",
       "      <td>NaN</td>\n",
       "      <td>...</td>\n",
       "      <td>NaN</td>\n",
       "      <td>NaN</td>\n",
       "      <td>NaN</td>\n",
       "      <td>NaN</td>\n",
       "      <td>NaN</td>\n",
       "      <td>NaN</td>\n",
       "      <td>NaN</td>\n",
       "      <td>NaN</td>\n",
       "      <td>NaN</td>\n",
       "      <td>NaN</td>\n",
       "    </tr>\n",
       "    <tr>\n",
       "      <th>1</th>\n",
       "      <td>2024-11-29</td>\n",
       "      <td>18:01:39</td>\n",
       "      <td>\"CNR1326809\"</td>\n",
       "      <td>Incomplete</td>\n",
       "      <td>\"CID4604802\"</td>\n",
       "      <td>Go Sedan</td>\n",
       "      <td>Shastri Nagar</td>\n",
       "      <td>Gurgaon Sector 56</td>\n",
       "      <td>4.9</td>\n",
       "      <td>14.0</td>\n",
       "      <td>...</td>\n",
       "      <td>NaN</td>\n",
       "      <td>NaN</td>\n",
       "      <td>NaN</td>\n",
       "      <td>1.0</td>\n",
       "      <td>Vehicle Breakdown</td>\n",
       "      <td>237.0</td>\n",
       "      <td>5.73</td>\n",
       "      <td>NaN</td>\n",
       "      <td>NaN</td>\n",
       "      <td>UPI</td>\n",
       "    </tr>\n",
       "    <tr>\n",
       "      <th>2</th>\n",
       "      <td>2024-08-23</td>\n",
       "      <td>08:56:10</td>\n",
       "      <td>\"CNR8494506\"</td>\n",
       "      <td>Completed</td>\n",
       "      <td>\"CID9202816\"</td>\n",
       "      <td>Auto</td>\n",
       "      <td>Khandsa</td>\n",
       "      <td>Malviya Nagar</td>\n",
       "      <td>13.4</td>\n",
       "      <td>25.8</td>\n",
       "      <td>...</td>\n",
       "      <td>NaN</td>\n",
       "      <td>NaN</td>\n",
       "      <td>NaN</td>\n",
       "      <td>NaN</td>\n",
       "      <td>NaN</td>\n",
       "      <td>627.0</td>\n",
       "      <td>13.58</td>\n",
       "      <td>4.9</td>\n",
       "      <td>4.9</td>\n",
       "      <td>Debit Card</td>\n",
       "    </tr>\n",
       "    <tr>\n",
       "      <th>3</th>\n",
       "      <td>2024-10-21</td>\n",
       "      <td>17:17:25</td>\n",
       "      <td>\"CNR8906825\"</td>\n",
       "      <td>Completed</td>\n",
       "      <td>\"CID2610914\"</td>\n",
       "      <td>Premier Sedan</td>\n",
       "      <td>Central Secretariat</td>\n",
       "      <td>Inderlok</td>\n",
       "      <td>13.1</td>\n",
       "      <td>28.5</td>\n",
       "      <td>...</td>\n",
       "      <td>NaN</td>\n",
       "      <td>NaN</td>\n",
       "      <td>NaN</td>\n",
       "      <td>NaN</td>\n",
       "      <td>NaN</td>\n",
       "      <td>416.0</td>\n",
       "      <td>34.02</td>\n",
       "      <td>4.6</td>\n",
       "      <td>5.0</td>\n",
       "      <td>UPI</td>\n",
       "    </tr>\n",
       "    <tr>\n",
       "      <th>4</th>\n",
       "      <td>2024-09-16</td>\n",
       "      <td>22:08:00</td>\n",
       "      <td>\"CNR1950162\"</td>\n",
       "      <td>Completed</td>\n",
       "      <td>\"CID9933542\"</td>\n",
       "      <td>Bike</td>\n",
       "      <td>Ghitorni Village</td>\n",
       "      <td>Khan Market</td>\n",
       "      <td>5.3</td>\n",
       "      <td>19.6</td>\n",
       "      <td>...</td>\n",
       "      <td>NaN</td>\n",
       "      <td>NaN</td>\n",
       "      <td>NaN</td>\n",
       "      <td>NaN</td>\n",
       "      <td>NaN</td>\n",
       "      <td>737.0</td>\n",
       "      <td>48.21</td>\n",
       "      <td>4.1</td>\n",
       "      <td>4.3</td>\n",
       "      <td>UPI</td>\n",
       "    </tr>\n",
       "    <tr>\n",
       "      <th>...</th>\n",
       "      <td>...</td>\n",
       "      <td>...</td>\n",
       "      <td>...</td>\n",
       "      <td>...</td>\n",
       "      <td>...</td>\n",
       "      <td>...</td>\n",
       "      <td>...</td>\n",
       "      <td>...</td>\n",
       "      <td>...</td>\n",
       "      <td>...</td>\n",
       "      <td>...</td>\n",
       "      <td>...</td>\n",
       "      <td>...</td>\n",
       "      <td>...</td>\n",
       "      <td>...</td>\n",
       "      <td>...</td>\n",
       "      <td>...</td>\n",
       "      <td>...</td>\n",
       "      <td>...</td>\n",
       "      <td>...</td>\n",
       "      <td>...</td>\n",
       "    </tr>\n",
       "    <tr>\n",
       "      <th>149995</th>\n",
       "      <td>2024-11-11</td>\n",
       "      <td>19:34:01</td>\n",
       "      <td>\"CNR6500631\"</td>\n",
       "      <td>Completed</td>\n",
       "      <td>\"CID4337371\"</td>\n",
       "      <td>Go Mini</td>\n",
       "      <td>MG Road</td>\n",
       "      <td>Ghitorni</td>\n",
       "      <td>10.2</td>\n",
       "      <td>44.4</td>\n",
       "      <td>...</td>\n",
       "      <td>NaN</td>\n",
       "      <td>NaN</td>\n",
       "      <td>NaN</td>\n",
       "      <td>NaN</td>\n",
       "      <td>NaN</td>\n",
       "      <td>475.0</td>\n",
       "      <td>40.08</td>\n",
       "      <td>3.7</td>\n",
       "      <td>4.1</td>\n",
       "      <td>Uber Wallet</td>\n",
       "    </tr>\n",
       "    <tr>\n",
       "      <th>149996</th>\n",
       "      <td>2024-11-24</td>\n",
       "      <td>15:55:09</td>\n",
       "      <td>\"CNR2468611\"</td>\n",
       "      <td>Completed</td>\n",
       "      <td>\"CID2325623\"</td>\n",
       "      <td>Go Mini</td>\n",
       "      <td>Golf Course Road</td>\n",
       "      <td>Akshardham</td>\n",
       "      <td>5.1</td>\n",
       "      <td>30.8</td>\n",
       "      <td>...</td>\n",
       "      <td>NaN</td>\n",
       "      <td>NaN</td>\n",
       "      <td>NaN</td>\n",
       "      <td>NaN</td>\n",
       "      <td>NaN</td>\n",
       "      <td>1093.0</td>\n",
       "      <td>21.31</td>\n",
       "      <td>4.8</td>\n",
       "      <td>5.0</td>\n",
       "      <td>UPI</td>\n",
       "    </tr>\n",
       "    <tr>\n",
       "      <th>149997</th>\n",
       "      <td>2024-09-18</td>\n",
       "      <td>10:55:15</td>\n",
       "      <td>\"CNR6358306\"</td>\n",
       "      <td>Completed</td>\n",
       "      <td>\"CID9925486\"</td>\n",
       "      <td>Go Sedan</td>\n",
       "      <td>Satguru Ram Singh Marg</td>\n",
       "      <td>Jor Bagh</td>\n",
       "      <td>2.7</td>\n",
       "      <td>23.4</td>\n",
       "      <td>...</td>\n",
       "      <td>NaN</td>\n",
       "      <td>NaN</td>\n",
       "      <td>NaN</td>\n",
       "      <td>NaN</td>\n",
       "      <td>NaN</td>\n",
       "      <td>852.0</td>\n",
       "      <td>15.93</td>\n",
       "      <td>3.9</td>\n",
       "      <td>4.4</td>\n",
       "      <td>Cash</td>\n",
       "    </tr>\n",
       "    <tr>\n",
       "      <th>149998</th>\n",
       "      <td>2024-10-05</td>\n",
       "      <td>07:53:34</td>\n",
       "      <td>\"CNR3030099\"</td>\n",
       "      <td>Completed</td>\n",
       "      <td>\"CID9415487\"</td>\n",
       "      <td>Auto</td>\n",
       "      <td>Ghaziabad</td>\n",
       "      <td>Saidulajab</td>\n",
       "      <td>6.9</td>\n",
       "      <td>39.6</td>\n",
       "      <td>...</td>\n",
       "      <td>NaN</td>\n",
       "      <td>NaN</td>\n",
       "      <td>NaN</td>\n",
       "      <td>NaN</td>\n",
       "      <td>NaN</td>\n",
       "      <td>333.0</td>\n",
       "      <td>45.54</td>\n",
       "      <td>4.1</td>\n",
       "      <td>3.7</td>\n",
       "      <td>UPI</td>\n",
       "    </tr>\n",
       "    <tr>\n",
       "      <th>149999</th>\n",
       "      <td>2024-03-10</td>\n",
       "      <td>15:38:03</td>\n",
       "      <td>\"CNR3447390\"</td>\n",
       "      <td>Completed</td>\n",
       "      <td>\"CID4108667\"</td>\n",
       "      <td>Premier Sedan</td>\n",
       "      <td>Ashok Park Main</td>\n",
       "      <td>Gurgaon Sector 29</td>\n",
       "      <td>3.5</td>\n",
       "      <td>33.7</td>\n",
       "      <td>...</td>\n",
       "      <td>NaN</td>\n",
       "      <td>NaN</td>\n",
       "      <td>NaN</td>\n",
       "      <td>NaN</td>\n",
       "      <td>NaN</td>\n",
       "      <td>806.0</td>\n",
       "      <td>21.19</td>\n",
       "      <td>4.6</td>\n",
       "      <td>4.9</td>\n",
       "      <td>Credit Card</td>\n",
       "    </tr>\n",
       "  </tbody>\n",
       "</table>\n",
       "<p>150000 rows × 21 columns</p>\n",
       "</div>"
      ],
      "text/plain": [
       "              Date      Time    Booking ID   Booking Status   Customer ID  \\\n",
       "0       2024-03-23  12:29:38  \"CNR5884300\"  No Driver Found  \"CID1982111\"   \n",
       "1       2024-11-29  18:01:39  \"CNR1326809\"       Incomplete  \"CID4604802\"   \n",
       "2       2024-08-23  08:56:10  \"CNR8494506\"        Completed  \"CID9202816\"   \n",
       "3       2024-10-21  17:17:25  \"CNR8906825\"        Completed  \"CID2610914\"   \n",
       "4       2024-09-16  22:08:00  \"CNR1950162\"        Completed  \"CID9933542\"   \n",
       "...            ...       ...           ...              ...           ...   \n",
       "149995  2024-11-11  19:34:01  \"CNR6500631\"        Completed  \"CID4337371\"   \n",
       "149996  2024-11-24  15:55:09  \"CNR2468611\"        Completed  \"CID2325623\"   \n",
       "149997  2024-09-18  10:55:15  \"CNR6358306\"        Completed  \"CID9925486\"   \n",
       "149998  2024-10-05  07:53:34  \"CNR3030099\"        Completed  \"CID9415487\"   \n",
       "149999  2024-03-10  15:38:03  \"CNR3447390\"        Completed  \"CID4108667\"   \n",
       "\n",
       "         Vehicle Type         Pickup Location      Drop Location  Avg VTAT  \\\n",
       "0               eBike             Palam Vihar            Jhilmil       NaN   \n",
       "1            Go Sedan           Shastri Nagar  Gurgaon Sector 56       4.9   \n",
       "2                Auto                 Khandsa      Malviya Nagar      13.4   \n",
       "3       Premier Sedan     Central Secretariat           Inderlok      13.1   \n",
       "4                Bike        Ghitorni Village        Khan Market       5.3   \n",
       "...               ...                     ...                ...       ...   \n",
       "149995        Go Mini                 MG Road           Ghitorni      10.2   \n",
       "149996        Go Mini        Golf Course Road         Akshardham       5.1   \n",
       "149997       Go Sedan  Satguru Ram Singh Marg           Jor Bagh       2.7   \n",
       "149998           Auto               Ghaziabad         Saidulajab       6.9   \n",
       "149999  Premier Sedan         Ashok Park Main  Gurgaon Sector 29       3.5   \n",
       "\n",
       "        Avg CTAT  ...  Reason for cancelling by Customer  \\\n",
       "0            NaN  ...                                NaN   \n",
       "1           14.0  ...                                NaN   \n",
       "2           25.8  ...                                NaN   \n",
       "3           28.5  ...                                NaN   \n",
       "4           19.6  ...                                NaN   \n",
       "...          ...  ...                                ...   \n",
       "149995      44.4  ...                                NaN   \n",
       "149996      30.8  ...                                NaN   \n",
       "149997      23.4  ...                                NaN   \n",
       "149998      39.6  ...                                NaN   \n",
       "149999      33.7  ...                                NaN   \n",
       "\n",
       "       Cancelled Rides by Driver  Driver Cancellation Reason Incomplete Rides  \\\n",
       "0                            NaN                         NaN              NaN   \n",
       "1                            NaN                         NaN              1.0   \n",
       "2                            NaN                         NaN              NaN   \n",
       "3                            NaN                         NaN              NaN   \n",
       "4                            NaN                         NaN              NaN   \n",
       "...                          ...                         ...              ...   \n",
       "149995                       NaN                         NaN              NaN   \n",
       "149996                       NaN                         NaN              NaN   \n",
       "149997                       NaN                         NaN              NaN   \n",
       "149998                       NaN                         NaN              NaN   \n",
       "149999                       NaN                         NaN              NaN   \n",
       "\n",
       "        Incomplete Rides Reason Booking Value  Ride Distance  Driver Ratings  \\\n",
       "0                           NaN           NaN            NaN             NaN   \n",
       "1             Vehicle Breakdown         237.0           5.73             NaN   \n",
       "2                           NaN         627.0          13.58             4.9   \n",
       "3                           NaN         416.0          34.02             4.6   \n",
       "4                           NaN         737.0          48.21             4.1   \n",
       "...                         ...           ...            ...             ...   \n",
       "149995                      NaN         475.0          40.08             3.7   \n",
       "149996                      NaN        1093.0          21.31             4.8   \n",
       "149997                      NaN         852.0          15.93             3.9   \n",
       "149998                      NaN         333.0          45.54             4.1   \n",
       "149999                      NaN         806.0          21.19             4.6   \n",
       "\n",
       "        Customer Rating  Payment Method  \n",
       "0                   NaN             NaN  \n",
       "1                   NaN             UPI  \n",
       "2                   4.9      Debit Card  \n",
       "3                   5.0             UPI  \n",
       "4                   4.3             UPI  \n",
       "...                 ...             ...  \n",
       "149995              4.1     Uber Wallet  \n",
       "149996              5.0             UPI  \n",
       "149997              4.4            Cash  \n",
       "149998              3.7             UPI  \n",
       "149999              4.9     Credit Card  \n",
       "\n",
       "[150000 rows x 21 columns]"
      ]
     },
     "execution_count": 4,
     "metadata": {},
     "output_type": "execute_result"
    }
   ],
   "source": [
    "df_uber"
   ]
  },
  {
   "cell_type": "code",
   "execution_count": 5,
   "id": "d23f135c-9602-4faf-ad6f-9b99d814e1e6",
   "metadata": {},
   "outputs": [
    {
     "data": {
      "text/plain": [
       "(150000, 21)"
      ]
     },
     "execution_count": 5,
     "metadata": {},
     "output_type": "execute_result"
    }
   ],
   "source": [
    "df_uber.shape\n",
    "# 1.5 lak rows,21 columns"
   ]
  },
  {
   "cell_type": "code",
   "execution_count": 6,
   "id": "75339449-d87c-4127-b24a-41b939dec661",
   "metadata": {},
   "outputs": [
    {
     "data": {
      "text/plain": [
       "Incomplete Rides Reason              94.0\n",
       "Incomplete Rides                     94.0\n",
       "Reason for cancelling by Customer    93.0\n",
       "Cancelled Rides by Customer          93.0\n",
       "Cancelled Rides by Driver            82.0\n",
       "Driver Cancellation Reason           82.0\n",
       "Driver Ratings                       38.0\n",
       "Customer Rating                      38.0\n",
       "Avg CTAT                             32.0\n",
       "Ride Distance                        32.0\n",
       "Booking Value                        32.0\n",
       "Payment Method                       32.0\n",
       "Avg VTAT                              7.0\n",
       "Customer ID                           0.0\n",
       "Booking Status                        0.0\n",
       "Booking ID                            0.0\n",
       "Time                                  0.0\n",
       "Date                                  0.0\n",
       "Pickup Location                       0.0\n",
       "Drop Location                         0.0\n",
       "Vehicle Type                          0.0\n",
       "dtype: float64"
      ]
     },
     "execution_count": 6,
     "metadata": {},
     "output_type": "execute_result"
    }
   ],
   "source": [
    "(df_uber.isnull().mean()*100).sort_values(ascending=False)"
   ]
  },
  {
   "cell_type": "code",
   "execution_count": 7,
   "id": "cb9b231b-d7ae-436b-a126-00fd016f359c",
   "metadata": {},
   "outputs": [],
   "source": [
    "#clearly we can see columns like\n",
    "# Incomplete Rides Reason              94.0\n",
    "# Incomplete Rides                     94.0\n",
    "# Reason for cancelling by Customer    93.0\n",
    "# Cancelled Rides by Customer          93.0\n",
    "# Cancelled Rides by Driver            82.0\n",
    "# Driver Cancellation Reason           82.0\n",
    "# Driver Ratings                       38.0\n",
    "# Customer Rating                      38.0\n",
    "# Avg CTAT                             32.0\n",
    "# Ride Distance                        32.0\n",
    "# Booking Value                        32.0\n",
    "# Payment Method                       32.0"
   ]
  },
  {
   "cell_type": "code",
   "execution_count": 8,
   "id": "0219fcb8-7880-4456-ac6c-58d166d1ca3b",
   "metadata": {},
   "outputs": [
    {
     "data": {
      "text/plain": [
       "Incomplete Rides Reason\n",
       "Customer Demand      3040\n",
       "Vehicle Breakdown    3012\n",
       "Other Issue          2948\n",
       "Name: count, dtype: int64"
      ]
     },
     "execution_count": 8,
     "metadata": {},
     "output_type": "execute_result"
    }
   ],
   "source": [
    "df_uber['Incomplete Rides Reason'].value_counts()"
   ]
  },
  {
   "cell_type": "code",
   "execution_count": 9,
   "id": "925e30e3-bdc5-4a07-9988-c489a7f28f91",
   "metadata": {},
   "outputs": [
    {
     "data": {
      "text/plain": [
       "Incomplete Rides\n",
       "1.0    9000\n",
       "Name: count, dtype: int64"
      ]
     },
     "execution_count": 9,
     "metadata": {},
     "output_type": "execute_result"
    }
   ],
   "source": [
    "df_uber['Incomplete Rides'].value_counts()"
   ]
  },
  {
   "cell_type": "code",
   "execution_count": 10,
   "id": "9f9d2fd9-3ff4-4a10-a384-5a0674688ef8",
   "metadata": {},
   "outputs": [
    {
     "data": {
      "text/plain": [
       "Reason for cancelling by Customer\n",
       "Wrong Address                                   2362\n",
       "Change of plans                                 2353\n",
       "Driver is not moving towards pickup location    2335\n",
       "Driver asked to cancel                          2295\n",
       "AC is not working                               1155\n",
       "Name: count, dtype: int64"
      ]
     },
     "execution_count": 10,
     "metadata": {},
     "output_type": "execute_result"
    }
   ],
   "source": [
    "df_uber['Reason for cancelling by Customer'].value_counts()"
   ]
  },
  {
   "cell_type": "code",
   "execution_count": 11,
   "id": "cd641112-e732-4488-a401-2bffdcc635e7",
   "metadata": {},
   "outputs": [
    {
     "data": {
      "text/plain": [
       "Cancelled Rides by Customer\n",
       "1.0    10500\n",
       "Name: count, dtype: int64"
      ]
     },
     "execution_count": 11,
     "metadata": {},
     "output_type": "execute_result"
    }
   ],
   "source": [
    "df_uber['Cancelled Rides by Customer'].value_counts()"
   ]
  },
  {
   "cell_type": "code",
   "execution_count": 12,
   "id": "a5d31fc5-1eb2-4e7c-96b6-e977008f7387",
   "metadata": {},
   "outputs": [
    {
     "data": {
      "text/plain": [
       "Driver Cancellation Reason\n",
       "Customer related issue                 6837\n",
       "The customer was coughing/sick         6751\n",
       "Personal & Car related issues          6726\n",
       "More than permitted people in there    6686\n",
       "Name: count, dtype: int64"
      ]
     },
     "execution_count": 12,
     "metadata": {},
     "output_type": "execute_result"
    }
   ],
   "source": [
    "df_uber['Driver Cancellation Reason'].value_counts()"
   ]
  },
  {
   "cell_type": "code",
   "execution_count": 13,
   "id": "634cd86f-5499-473b-b73a-e20969f37623",
   "metadata": {},
   "outputs": [
    {
     "data": {
      "text/plain": [
       "Driver Ratings\n",
       "4.3    14081\n",
       "4.2    13841\n",
       "4.6     9368\n",
       "4.4     7018\n",
       "4.1     6966\n",
       "4.9     4705\n",
       "4.7     4678\n",
       "4.5     4634\n",
       "3.9     3915\n",
       "3.8     3848\n",
       "3.7     3790\n",
       "5.0     2365\n",
       "4.8     2328\n",
       "3.6     2026\n",
       "4.0     1995\n",
       "3.2     1538\n",
       "3.4     1491\n",
       "3.3     1461\n",
       "3.1     1459\n",
       "3.5      748\n",
       "3.0      745\n",
       "Name: count, dtype: int64"
      ]
     },
     "execution_count": 13,
     "metadata": {},
     "output_type": "execute_result"
    }
   ],
   "source": [
    "df_uber['Driver Ratings'].value_counts()"
   ]
  },
  {
   "cell_type": "code",
   "execution_count": 14,
   "id": "29451404-434b-4953-ad75-38926bd4bb2f",
   "metadata": {},
   "outputs": [
    {
     "data": {
      "text/plain": [
       "Avg CTAT\n",
       "24.8    401\n",
       "25.9    389\n",
       "28.1    388\n",
       "20.5    386\n",
       "25.3    383\n",
       "       ... \n",
       "11.6     34\n",
       "11.1     34\n",
       "14.5     32\n",
       "13.8     27\n",
       "10.0     23\n",
       "Name: count, Length: 351, dtype: int64"
      ]
     },
     "execution_count": 14,
     "metadata": {},
     "output_type": "execute_result"
    }
   ],
   "source": [
    "df_uber['Avg CTAT'].value_counts()"
   ]
  },
  {
   "cell_type": "code",
   "execution_count": 15,
   "id": "dc580c17-1985-4eda-950a-2f07e451f03a",
   "metadata": {},
   "outputs": [
    {
     "data": {
      "text/plain": [
       "Ride Distance\n",
       "9.61     43\n",
       "17.31    43\n",
       "14.47    42\n",
       "3.44     41\n",
       "12.87    41\n",
       "         ..\n",
       "1.20      1\n",
       "1.93      1\n",
       "1.08      1\n",
       "1.55      1\n",
       "1.56      1\n",
       "Name: count, Length: 4901, dtype: int64"
      ]
     },
     "execution_count": 15,
     "metadata": {},
     "output_type": "execute_result"
    }
   ],
   "source": [
    "df_uber['Ride Distance'].value_counts()"
   ]
  },
  {
   "cell_type": "code",
   "execution_count": 16,
   "id": "86a7f037-20c2-42de-ad12-3c4b59001abf",
   "metadata": {},
   "outputs": [
    {
     "data": {
      "text/plain": [
       "Booking Value\n",
       "176.0     177\n",
       "125.0     174\n",
       "200.0     170\n",
       "408.0     169\n",
       "186.0     168\n",
       "         ... \n",
       "3037.0      1\n",
       "2311.0      1\n",
       "2863.0      1\n",
       "2144.0      1\n",
       "1997.0      1\n",
       "Name: count, Length: 2566, dtype: int64"
      ]
     },
     "execution_count": 16,
     "metadata": {},
     "output_type": "execute_result"
    }
   ],
   "source": [
    "df_uber['Booking Value'].value_counts()"
   ]
  },
  {
   "cell_type": "code",
   "execution_count": 17,
   "id": "ffecfcfd-bf59-40e2-b53f-043577978f6c",
   "metadata": {},
   "outputs": [
    {
     "data": {
      "text/plain": [
       "Payment Method\n",
       "UPI            45909\n",
       "Cash           25367\n",
       "Uber Wallet    12276\n",
       "Credit Card    10209\n",
       "Debit Card      8239\n",
       "Name: count, dtype: int64"
      ]
     },
     "execution_count": 17,
     "metadata": {},
     "output_type": "execute_result"
    }
   ],
   "source": [
    "df_uber['Payment Method'].value_counts()"
   ]
  },
  {
   "cell_type": "code",
   "execution_count": 18,
   "id": "31614225-b790-4668-94bb-b119a569d5a1",
   "metadata": {},
   "outputs": [
    {
     "data": {
      "text/plain": [
       "Date                                  object\n",
       "Time                                  object\n",
       "Booking ID                            object\n",
       "Booking Status                        object\n",
       "Customer ID                           object\n",
       "Vehicle Type                          object\n",
       "Pickup Location                       object\n",
       "Drop Location                         object\n",
       "Avg VTAT                             float64\n",
       "Avg CTAT                             float64\n",
       "Cancelled Rides by Customer          float64\n",
       "Reason for cancelling by Customer     object\n",
       "Cancelled Rides by Driver            float64\n",
       "Driver Cancellation Reason            object\n",
       "Incomplete Rides                     float64\n",
       "Incomplete Rides Reason               object\n",
       "Booking Value                        float64\n",
       "Ride Distance                        float64\n",
       "Driver Ratings                       float64\n",
       "Customer Rating                      float64\n",
       "Payment Method                        object\n",
       "dtype: object"
      ]
     },
     "execution_count": 18,
     "metadata": {},
     "output_type": "execute_result"
    }
   ],
   "source": [
    "df_uber.dtypes\n",
    "# Date\tDate of the booking\n",
    "# Time\tTime of the booking\n",
    "# Booking ID\tUnique identifier for each ride booking\n",
    "# Booking Status\tStatus of booking (Completed, Cancelled by Customer, Cancelled by Driver, etc.)\n",
    "# Customer ID\tUnique identifier for customers\n",
    "# Vehicle Type\tType of vehicle (Go Mini, Go Sedan, Auto, eBike/Bike, UberXL, Premier Sedan)\n",
    "# Pickup Location\tStarting location of the ride\n",
    "# Drop Location\tDestination location of the ride\n",
    "# Avg VTAT\tAverage Vehicle Time at Arrival\n",
    "# Avg CTAT\tAverage Customer Time at Arrival\n",
    "# Cancelled Rides by Customer\tCustomer-initiated cancellation flag\n",
    "# Reason for cancelling by Customer\tReason for customer cancellation\n",
    "# Cancelled Rides by Driver\tDriver-initiated cancellation flag\n",
    "# Driver Cancellation Reason\tReason for driver cancellation\n",
    "# Incomplete Rides\tIncomplete ride flag\n",
    "# Incomplete Rides Reason\tReason for incomplete rides\n",
    "# Booking Value\tTotal fare amount for the ride\n",
    "# Ride Distance\tDistance covered during the ride (in km)\n",
    "# Driver Ratings\tRating given to driver (1-5 scale)\n",
    "# Customer Rating\tRating given by customer (1-5 scale)\n",
    "# Payment Method\tMethod used for payment (UPI, Cash, Credit Card, Uber Wallet, Debit Card)'''\n"
   ]
  },
  {
   "cell_type": "markdown",
   "id": "d92ab775-6984-4d70-9871-68ad3905076f",
   "metadata": {},
   "source": [
    "<!-- Booking ID                            object str\n",
    "Booking Status                        object str\n",
    "Customer ID                           object str\n",
    "Vehicle Type                          object str\n",
    "Pickup Location                       object str\n",
    "Drop Location                         object str\n",
    "Reason for cancelling by Customer     object str\n",
    "Driver Cancellation Reason            objec  str\n",
    "Incomplete Rides Reason                object to str\n",
    "Payment Method                        object   -->\n",
    "<!-- aall this needed to change the dtypes for better datamaipulation -->"
   ]
  },
  {
   "cell_type": "code",
   "execution_count": 19,
   "id": "2737a9e3-7c65-42ee-9176-207fbd2d9abd",
   "metadata": {},
   "outputs": [],
   "source": [
    "df_uber['Booking Status'] = df_uber['Booking Status'].astype('string')"
   ]
  },
  {
   "cell_type": "code",
   "execution_count": 20,
   "id": "d1528cc3-591a-4db4-b414-6f2903b67f8f",
   "metadata": {},
   "outputs": [],
   "source": [
    "df_uber['Booking ID'] = df_uber['Booking ID'].astype('string')"
   ]
  },
  {
   "cell_type": "code",
   "execution_count": 21,
   "id": "64153fc9-c3ce-4a3a-837a-496b21209867",
   "metadata": {},
   "outputs": [],
   "source": [
    "df_uber['Customer ID'] = df_uber['Customer ID'].astype('string')"
   ]
  },
  {
   "cell_type": "code",
   "execution_count": 22,
   "id": "5f792022-44a1-4d2c-82f4-7474331c4b0a",
   "metadata": {},
   "outputs": [],
   "source": [
    "df_uber['Vehicle Type'] = df_uber['Vehicle Type'].astype('string')"
   ]
  },
  {
   "cell_type": "code",
   "execution_count": 23,
   "id": "8b6a2b00-f509-4807-8d34-acc9cac3d0e3",
   "metadata": {},
   "outputs": [],
   "source": [
    "df_uber['Pickup Location'] = df_uber['Pickup Location'].astype('string')"
   ]
  },
  {
   "cell_type": "code",
   "execution_count": 24,
   "id": "a6b07701-9d3f-4f33-97a0-6ee165d339e7",
   "metadata": {},
   "outputs": [],
   "source": [
    "df_uber['Drop Location'] = df_uber['Drop Location'].astype('string')"
   ]
  },
  {
   "cell_type": "code",
   "execution_count": 25,
   "id": "73b30f6b-5084-4e27-8df8-976b1ca7ab91",
   "metadata": {},
   "outputs": [],
   "source": [
    "df_uber['Reason for cancelling by Customer'] = df_uber['Reason for cancelling by Customer'].astype('string')"
   ]
  },
  {
   "cell_type": "code",
   "execution_count": 26,
   "id": "af6eef68-ee92-4b4f-8045-cccf5eba6290",
   "metadata": {},
   "outputs": [],
   "source": [
    "df_uber['Driver Cancellation Reason'] = df_uber['Driver Cancellation Reason'].astype('string')"
   ]
  },
  {
   "cell_type": "code",
   "execution_count": 27,
   "id": "c49cd5bf-f32b-4e7a-9233-f9905fdc2150",
   "metadata": {},
   "outputs": [],
   "source": [
    "df_uber['Incomplete Rides Reason'] = df_uber['Incomplete Rides Reason'].astype('string')"
   ]
  },
  {
   "cell_type": "code",
   "execution_count": 28,
   "id": "d1a307d2-d6c7-467c-b89d-77dad740cbb4",
   "metadata": {},
   "outputs": [],
   "source": [
    "df_uber['Payment Method'] = df_uber['Payment Method'].astype('string')"
   ]
  },
  {
   "cell_type": "markdown",
   "id": "d56c8258-d343-4bf1-adf5-28350d8cb0de",
   "metadata": {},
   "source": [
    "### we manipulated the datatypes of the columns"
   ]
  },
  {
   "cell_type": "code",
   "execution_count": 29,
   "id": "befdad73-cb88-4f54-9aa4-e8e75626197b",
   "metadata": {},
   "outputs": [
    {
     "data": {
      "text/plain": [
       "Date                                         object\n",
       "Time                                         object\n",
       "Booking ID                           string[python]\n",
       "Booking Status                       string[python]\n",
       "Customer ID                          string[python]\n",
       "Vehicle Type                         string[python]\n",
       "Pickup Location                      string[python]\n",
       "Drop Location                        string[python]\n",
       "Avg VTAT                                    float64\n",
       "Avg CTAT                                    float64\n",
       "Cancelled Rides by Customer                 float64\n",
       "Reason for cancelling by Customer    string[python]\n",
       "Cancelled Rides by Driver                   float64\n",
       "Driver Cancellation Reason           string[python]\n",
       "Incomplete Rides                            float64\n",
       "Incomplete Rides Reason              string[python]\n",
       "Booking Value                               float64\n",
       "Ride Distance                               float64\n",
       "Driver Ratings                              float64\n",
       "Customer Rating                             float64\n",
       "Payment Method                       string[python]\n",
       "dtype: object"
      ]
     },
     "execution_count": 29,
     "metadata": {},
     "output_type": "execute_result"
    }
   ],
   "source": [
    "df_uber.dtypes"
   ]
  },
  {
   "cell_type": "code",
   "execution_count": 30,
   "id": "74b9d800-6e3b-435e-a5aa-c4358b190075",
   "metadata": {},
   "outputs": [
    {
     "data": {
      "text/html": [
       "<div>\n",
       "<style scoped>\n",
       "    .dataframe tbody tr th:only-of-type {\n",
       "        vertical-align: middle;\n",
       "    }\n",
       "\n",
       "    .dataframe tbody tr th {\n",
       "        vertical-align: top;\n",
       "    }\n",
       "\n",
       "    .dataframe thead th {\n",
       "        text-align: right;\n",
       "    }\n",
       "</style>\n",
       "<table border=\"1\" class=\"dataframe\">\n",
       "  <thead>\n",
       "    <tr style=\"text-align: right;\">\n",
       "      <th></th>\n",
       "      <th>Date</th>\n",
       "      <th>Time</th>\n",
       "      <th>Booking ID</th>\n",
       "      <th>Booking Status</th>\n",
       "      <th>Customer ID</th>\n",
       "      <th>Vehicle Type</th>\n",
       "      <th>Pickup Location</th>\n",
       "      <th>Drop Location</th>\n",
       "      <th>Avg VTAT</th>\n",
       "      <th>Avg CTAT</th>\n",
       "      <th>...</th>\n",
       "      <th>Reason for cancelling by Customer</th>\n",
       "      <th>Cancelled Rides by Driver</th>\n",
       "      <th>Driver Cancellation Reason</th>\n",
       "      <th>Incomplete Rides</th>\n",
       "      <th>Incomplete Rides Reason</th>\n",
       "      <th>Booking Value</th>\n",
       "      <th>Ride Distance</th>\n",
       "      <th>Driver Ratings</th>\n",
       "      <th>Customer Rating</th>\n",
       "      <th>Payment Method</th>\n",
       "    </tr>\n",
       "  </thead>\n",
       "  <tbody>\n",
       "    <tr>\n",
       "      <th>0</th>\n",
       "      <td>2024-03-23</td>\n",
       "      <td>12:29:38</td>\n",
       "      <td>\"CNR5884300\"</td>\n",
       "      <td>No Driver Found</td>\n",
       "      <td>\"CID1982111\"</td>\n",
       "      <td>eBike</td>\n",
       "      <td>Palam Vihar</td>\n",
       "      <td>Jhilmil</td>\n",
       "      <td>NaN</td>\n",
       "      <td>NaN</td>\n",
       "      <td>...</td>\n",
       "      <td>&lt;NA&gt;</td>\n",
       "      <td>NaN</td>\n",
       "      <td>&lt;NA&gt;</td>\n",
       "      <td>NaN</td>\n",
       "      <td>&lt;NA&gt;</td>\n",
       "      <td>NaN</td>\n",
       "      <td>NaN</td>\n",
       "      <td>NaN</td>\n",
       "      <td>NaN</td>\n",
       "      <td>&lt;NA&gt;</td>\n",
       "    </tr>\n",
       "    <tr>\n",
       "      <th>1</th>\n",
       "      <td>2024-11-29</td>\n",
       "      <td>18:01:39</td>\n",
       "      <td>\"CNR1326809\"</td>\n",
       "      <td>Incomplete</td>\n",
       "      <td>\"CID4604802\"</td>\n",
       "      <td>Go Sedan</td>\n",
       "      <td>Shastri Nagar</td>\n",
       "      <td>Gurgaon Sector 56</td>\n",
       "      <td>4.9</td>\n",
       "      <td>14.0</td>\n",
       "      <td>...</td>\n",
       "      <td>&lt;NA&gt;</td>\n",
       "      <td>NaN</td>\n",
       "      <td>&lt;NA&gt;</td>\n",
       "      <td>1.0</td>\n",
       "      <td>Vehicle Breakdown</td>\n",
       "      <td>237.0</td>\n",
       "      <td>5.73</td>\n",
       "      <td>NaN</td>\n",
       "      <td>NaN</td>\n",
       "      <td>UPI</td>\n",
       "    </tr>\n",
       "    <tr>\n",
       "      <th>2</th>\n",
       "      <td>2024-08-23</td>\n",
       "      <td>08:56:10</td>\n",
       "      <td>\"CNR8494506\"</td>\n",
       "      <td>Completed</td>\n",
       "      <td>\"CID9202816\"</td>\n",
       "      <td>Auto</td>\n",
       "      <td>Khandsa</td>\n",
       "      <td>Malviya Nagar</td>\n",
       "      <td>13.4</td>\n",
       "      <td>25.8</td>\n",
       "      <td>...</td>\n",
       "      <td>&lt;NA&gt;</td>\n",
       "      <td>NaN</td>\n",
       "      <td>&lt;NA&gt;</td>\n",
       "      <td>NaN</td>\n",
       "      <td>&lt;NA&gt;</td>\n",
       "      <td>627.0</td>\n",
       "      <td>13.58</td>\n",
       "      <td>4.9</td>\n",
       "      <td>4.9</td>\n",
       "      <td>Debit Card</td>\n",
       "    </tr>\n",
       "    <tr>\n",
       "      <th>3</th>\n",
       "      <td>2024-10-21</td>\n",
       "      <td>17:17:25</td>\n",
       "      <td>\"CNR8906825\"</td>\n",
       "      <td>Completed</td>\n",
       "      <td>\"CID2610914\"</td>\n",
       "      <td>Premier Sedan</td>\n",
       "      <td>Central Secretariat</td>\n",
       "      <td>Inderlok</td>\n",
       "      <td>13.1</td>\n",
       "      <td>28.5</td>\n",
       "      <td>...</td>\n",
       "      <td>&lt;NA&gt;</td>\n",
       "      <td>NaN</td>\n",
       "      <td>&lt;NA&gt;</td>\n",
       "      <td>NaN</td>\n",
       "      <td>&lt;NA&gt;</td>\n",
       "      <td>416.0</td>\n",
       "      <td>34.02</td>\n",
       "      <td>4.6</td>\n",
       "      <td>5.0</td>\n",
       "      <td>UPI</td>\n",
       "    </tr>\n",
       "    <tr>\n",
       "      <th>4</th>\n",
       "      <td>2024-09-16</td>\n",
       "      <td>22:08:00</td>\n",
       "      <td>\"CNR1950162\"</td>\n",
       "      <td>Completed</td>\n",
       "      <td>\"CID9933542\"</td>\n",
       "      <td>Bike</td>\n",
       "      <td>Ghitorni Village</td>\n",
       "      <td>Khan Market</td>\n",
       "      <td>5.3</td>\n",
       "      <td>19.6</td>\n",
       "      <td>...</td>\n",
       "      <td>&lt;NA&gt;</td>\n",
       "      <td>NaN</td>\n",
       "      <td>&lt;NA&gt;</td>\n",
       "      <td>NaN</td>\n",
       "      <td>&lt;NA&gt;</td>\n",
       "      <td>737.0</td>\n",
       "      <td>48.21</td>\n",
       "      <td>4.1</td>\n",
       "      <td>4.3</td>\n",
       "      <td>UPI</td>\n",
       "    </tr>\n",
       "    <tr>\n",
       "      <th>5</th>\n",
       "      <td>2024-02-06</td>\n",
       "      <td>09:44:56</td>\n",
       "      <td>\"CNR4096693\"</td>\n",
       "      <td>Completed</td>\n",
       "      <td>\"CID4670564\"</td>\n",
       "      <td>Auto</td>\n",
       "      <td>AIIMS</td>\n",
       "      <td>Narsinghpur</td>\n",
       "      <td>5.1</td>\n",
       "      <td>18.1</td>\n",
       "      <td>...</td>\n",
       "      <td>&lt;NA&gt;</td>\n",
       "      <td>NaN</td>\n",
       "      <td>&lt;NA&gt;</td>\n",
       "      <td>NaN</td>\n",
       "      <td>&lt;NA&gt;</td>\n",
       "      <td>316.0</td>\n",
       "      <td>4.85</td>\n",
       "      <td>4.1</td>\n",
       "      <td>4.6</td>\n",
       "      <td>UPI</td>\n",
       "    </tr>\n",
       "    <tr>\n",
       "      <th>6</th>\n",
       "      <td>2024-06-17</td>\n",
       "      <td>15:45:58</td>\n",
       "      <td>\"CNR2002539\"</td>\n",
       "      <td>Completed</td>\n",
       "      <td>\"CID6800553\"</td>\n",
       "      <td>Go Mini</td>\n",
       "      <td>Vaishali</td>\n",
       "      <td>Punjabi Bagh</td>\n",
       "      <td>7.1</td>\n",
       "      <td>20.4</td>\n",
       "      <td>...</td>\n",
       "      <td>&lt;NA&gt;</td>\n",
       "      <td>NaN</td>\n",
       "      <td>&lt;NA&gt;</td>\n",
       "      <td>NaN</td>\n",
       "      <td>&lt;NA&gt;</td>\n",
       "      <td>640.0</td>\n",
       "      <td>41.24</td>\n",
       "      <td>4.0</td>\n",
       "      <td>4.1</td>\n",
       "      <td>UPI</td>\n",
       "    </tr>\n",
       "    <tr>\n",
       "      <th>7</th>\n",
       "      <td>2024-03-19</td>\n",
       "      <td>17:37:37</td>\n",
       "      <td>\"CNR6568000\"</td>\n",
       "      <td>Completed</td>\n",
       "      <td>\"CID8610436\"</td>\n",
       "      <td>Auto</td>\n",
       "      <td>Mayur Vihar</td>\n",
       "      <td>Cyber Hub</td>\n",
       "      <td>12.1</td>\n",
       "      <td>16.5</td>\n",
       "      <td>...</td>\n",
       "      <td>&lt;NA&gt;</td>\n",
       "      <td>NaN</td>\n",
       "      <td>&lt;NA&gt;</td>\n",
       "      <td>NaN</td>\n",
       "      <td>&lt;NA&gt;</td>\n",
       "      <td>136.0</td>\n",
       "      <td>6.56</td>\n",
       "      <td>4.4</td>\n",
       "      <td>4.2</td>\n",
       "      <td>UPI</td>\n",
       "    </tr>\n",
       "    <tr>\n",
       "      <th>8</th>\n",
       "      <td>2024-09-14</td>\n",
       "      <td>12:49:09</td>\n",
       "      <td>\"CNR4510807\"</td>\n",
       "      <td>No Driver Found</td>\n",
       "      <td>\"CID7873618\"</td>\n",
       "      <td>Go Sedan</td>\n",
       "      <td>Noida Sector 62</td>\n",
       "      <td>Noida Sector 18</td>\n",
       "      <td>NaN</td>\n",
       "      <td>NaN</td>\n",
       "      <td>...</td>\n",
       "      <td>&lt;NA&gt;</td>\n",
       "      <td>NaN</td>\n",
       "      <td>&lt;NA&gt;</td>\n",
       "      <td>NaN</td>\n",
       "      <td>&lt;NA&gt;</td>\n",
       "      <td>NaN</td>\n",
       "      <td>NaN</td>\n",
       "      <td>NaN</td>\n",
       "      <td>NaN</td>\n",
       "      <td>&lt;NA&gt;</td>\n",
       "    </tr>\n",
       "    <tr>\n",
       "      <th>9</th>\n",
       "      <td>2024-12-16</td>\n",
       "      <td>19:06:48</td>\n",
       "      <td>\"CNR7721892\"</td>\n",
       "      <td>Incomplete</td>\n",
       "      <td>\"CID5214275\"</td>\n",
       "      <td>Auto</td>\n",
       "      <td>Rohini</td>\n",
       "      <td>Adarsh Nagar</td>\n",
       "      <td>6.1</td>\n",
       "      <td>26.0</td>\n",
       "      <td>...</td>\n",
       "      <td>&lt;NA&gt;</td>\n",
       "      <td>NaN</td>\n",
       "      <td>&lt;NA&gt;</td>\n",
       "      <td>1.0</td>\n",
       "      <td>Other Issue</td>\n",
       "      <td>135.0</td>\n",
       "      <td>10.36</td>\n",
       "      <td>NaN</td>\n",
       "      <td>NaN</td>\n",
       "      <td>Cash</td>\n",
       "    </tr>\n",
       "  </tbody>\n",
       "</table>\n",
       "<p>10 rows × 21 columns</p>\n",
       "</div>"
      ],
      "text/plain": [
       "         Date      Time    Booking ID   Booking Status   Customer ID  \\\n",
       "0  2024-03-23  12:29:38  \"CNR5884300\"  No Driver Found  \"CID1982111\"   \n",
       "1  2024-11-29  18:01:39  \"CNR1326809\"       Incomplete  \"CID4604802\"   \n",
       "2  2024-08-23  08:56:10  \"CNR8494506\"        Completed  \"CID9202816\"   \n",
       "3  2024-10-21  17:17:25  \"CNR8906825\"        Completed  \"CID2610914\"   \n",
       "4  2024-09-16  22:08:00  \"CNR1950162\"        Completed  \"CID9933542\"   \n",
       "5  2024-02-06  09:44:56  \"CNR4096693\"        Completed  \"CID4670564\"   \n",
       "6  2024-06-17  15:45:58  \"CNR2002539\"        Completed  \"CID6800553\"   \n",
       "7  2024-03-19  17:37:37  \"CNR6568000\"        Completed  \"CID8610436\"   \n",
       "8  2024-09-14  12:49:09  \"CNR4510807\"  No Driver Found  \"CID7873618\"   \n",
       "9  2024-12-16  19:06:48  \"CNR7721892\"       Incomplete  \"CID5214275\"   \n",
       "\n",
       "    Vehicle Type      Pickup Location      Drop Location  Avg VTAT  Avg CTAT  \\\n",
       "0          eBike          Palam Vihar            Jhilmil       NaN       NaN   \n",
       "1       Go Sedan        Shastri Nagar  Gurgaon Sector 56       4.9      14.0   \n",
       "2           Auto              Khandsa      Malviya Nagar      13.4      25.8   \n",
       "3  Premier Sedan  Central Secretariat           Inderlok      13.1      28.5   \n",
       "4           Bike     Ghitorni Village        Khan Market       5.3      19.6   \n",
       "5           Auto                AIIMS        Narsinghpur       5.1      18.1   \n",
       "6        Go Mini             Vaishali       Punjabi Bagh       7.1      20.4   \n",
       "7           Auto          Mayur Vihar          Cyber Hub      12.1      16.5   \n",
       "8       Go Sedan      Noida Sector 62    Noida Sector 18       NaN       NaN   \n",
       "9           Auto               Rohini       Adarsh Nagar       6.1      26.0   \n",
       "\n",
       "   ...  Reason for cancelling by Customer Cancelled Rides by Driver  \\\n",
       "0  ...                               <NA>                       NaN   \n",
       "1  ...                               <NA>                       NaN   \n",
       "2  ...                               <NA>                       NaN   \n",
       "3  ...                               <NA>                       NaN   \n",
       "4  ...                               <NA>                       NaN   \n",
       "5  ...                               <NA>                       NaN   \n",
       "6  ...                               <NA>                       NaN   \n",
       "7  ...                               <NA>                       NaN   \n",
       "8  ...                               <NA>                       NaN   \n",
       "9  ...                               <NA>                       NaN   \n",
       "\n",
       "   Driver Cancellation Reason Incomplete Rides  Incomplete Rides Reason  \\\n",
       "0                        <NA>              NaN                     <NA>   \n",
       "1                        <NA>              1.0        Vehicle Breakdown   \n",
       "2                        <NA>              NaN                     <NA>   \n",
       "3                        <NA>              NaN                     <NA>   \n",
       "4                        <NA>              NaN                     <NA>   \n",
       "5                        <NA>              NaN                     <NA>   \n",
       "6                        <NA>              NaN                     <NA>   \n",
       "7                        <NA>              NaN                     <NA>   \n",
       "8                        <NA>              NaN                     <NA>   \n",
       "9                        <NA>              1.0              Other Issue   \n",
       "\n",
       "  Booking Value  Ride Distance  Driver Ratings  Customer Rating  \\\n",
       "0           NaN            NaN             NaN              NaN   \n",
       "1         237.0           5.73             NaN              NaN   \n",
       "2         627.0          13.58             4.9              4.9   \n",
       "3         416.0          34.02             4.6              5.0   \n",
       "4         737.0          48.21             4.1              4.3   \n",
       "5         316.0           4.85             4.1              4.6   \n",
       "6         640.0          41.24             4.0              4.1   \n",
       "7         136.0           6.56             4.4              4.2   \n",
       "8           NaN            NaN             NaN              NaN   \n",
       "9         135.0          10.36             NaN              NaN   \n",
       "\n",
       "   Payment Method  \n",
       "0            <NA>  \n",
       "1             UPI  \n",
       "2      Debit Card  \n",
       "3             UPI  \n",
       "4             UPI  \n",
       "5             UPI  \n",
       "6             UPI  \n",
       "7             UPI  \n",
       "8            <NA>  \n",
       "9            Cash  \n",
       "\n",
       "[10 rows x 21 columns]"
      ]
     },
     "execution_count": 30,
     "metadata": {},
     "output_type": "execute_result"
    }
   ],
   "source": [
    "df_uber.head(10)"
   ]
  },
  {
   "cell_type": "code",
   "execution_count": 31,
   "id": "3161acea-b6aa-4902-a057-5acf81df5541",
   "metadata": {
    "scrolled": true
   },
   "outputs": [
    {
     "data": {
      "text/plain": [
       "Incomplete Rides Reason              94.0\n",
       "Incomplete Rides                     94.0\n",
       "Reason for cancelling by Customer    93.0\n",
       "Cancelled Rides by Customer          93.0\n",
       "Cancelled Rides by Driver            82.0\n",
       "Driver Cancellation Reason           82.0\n",
       "Driver Ratings                       38.0\n",
       "Customer Rating                      38.0\n",
       "Avg CTAT                             32.0\n",
       "Ride Distance                        32.0\n",
       "Booking Value                        32.0\n",
       "Payment Method                       32.0\n",
       "Avg VTAT                              7.0\n",
       "Customer ID                           0.0\n",
       "Booking Status                        0.0\n",
       "Booking ID                            0.0\n",
       "Time                                  0.0\n",
       "Date                                  0.0\n",
       "Pickup Location                       0.0\n",
       "Drop Location                         0.0\n",
       "Vehicle Type                          0.0\n",
       "dtype: float64"
      ]
     },
     "execution_count": 31,
     "metadata": {},
     "output_type": "execute_result"
    }
   ],
   "source": [
    "(df_uber.isnull().mean()*100).sort_values(ascending=False)"
   ]
  },
  {
   "cell_type": "markdown",
   "id": "7dbb6aad-2895-43f7-88c7-6699ba97ffce",
   "metadata": {},
   "source": [
    "### making subsets of columns with 10% non null values for sake of visualization\n",
    "### making main df too for analysis"
   ]
  },
  {
   "cell_type": "code",
   "execution_count": 32,
   "id": "fcc97eb2-9f84-48f3-9b1f-8f1366af30d7",
   "metadata": {},
   "outputs": [],
   "source": [
    "Incomplete_Rides_Reason_subset =  df_uber['Incomplete Rides Reason'].dropna() "
   ]
  },
  {
   "cell_type": "code",
   "execution_count": 33,
   "id": "5265a9be-16cc-4e91-af9c-70eed7304568",
   "metadata": {},
   "outputs": [
    {
     "data": {
      "text/plain": [
       "Incomplete Rides Reason\n",
       "Customer Demand      3040\n",
       "Vehicle Breakdown    3012\n",
       "Other Issue          2948\n",
       "Name: count, dtype: Int64"
      ]
     },
     "execution_count": 33,
     "metadata": {},
     "output_type": "execute_result"
    },
    {
     "data": {
      "image/png": "[encoded data removed]",
      "text/plain": [
       "<Figure size 640x480 with 1 Axes>"
      ]
     },
     "metadata": {},
     "output_type": "display_data"
    }
   ],
   "source": [
    "sns.countplot( x= Incomplete_Rides_Reason_subset)\n",
    "Incomplete_Rides_Reason_subset.value_counts()\n",
    "# clearly customerDemand is higher fo incompletes rides resason"
   ]
  },
  {
   "cell_type": "code",
   "execution_count": null,
   "id": "057e6b21-4e23-454e-b0d7-09351c5318f4",
   "metadata": {},
   "outputs": [],
   "source": []
  },
  {
   "cell_type": "code",
   "execution_count": 34,
   "id": "0890b249-0e4d-44f9-87c4-b6d7def165f9",
   "metadata": {},
   "outputs": [],
   "source": [
    "Incomplete_Rides_subset =  df_uber['Incomplete Rides'].dropna() "
   ]
  },
  {
   "cell_type": "code",
   "execution_count": 35,
   "id": "85a60e56-b7b3-4f69-aba6-e1c4145b5925",
   "metadata": {},
   "outputs": [
    {
     "name": "stderr",
     "output_type": "stream",
     "text": [
      "C:\\Users\\sudha\\AppData\\Local\\Temp\\ipykernel_29132\\3119251202.py:1: UserWarning: \n",
      "\n",
      "`distplot` is a deprecated function and will be removed in seaborn v0.14.0.\n",
      "\n",
      "Please adapt your code to use either `displot` (a figure-level function with\n",
      "similar flexibility) or `histplot` (an axes-level function for histograms).\n",
      "\n",
      "For a guide to updating your code to use the new functions, please see\n",
      "https://gist.github.com/mwaskom/de44147ed2974457ad6372750bbe5751\n",
      "\n",
      "  sns.distplot( x= Incomplete_Rides_subset)\n",
      "C:\\Users\\sudha\\anaconda3\\Lib\\site-packages\\seaborn\\distributions.py:2496: UserWarning: Dataset has 0 variance; skipping density estimate. Pass `warn_singular=False` to disable this warning.\n",
      "  kdeplot(**{axis: a}, ax=ax, color=kde_color, **kde_kws)\n"
     ]
    },
    {
     "data": {
      "text/plain": [
       "Incomplete Rides\n",
       "1.0    9000\n",
       "Name: count, dtype: int64"
      ]
     },
     "execution_count": 35,
     "metadata": {},
     "output_type": "execute_result"
    },
    {
     "data": {
      "image/png": "[encoded data removed]",
      "text/plain": [
       "<Figure size 640x480 with 1 Axes>"
      ]
     },
     "metadata": {},
     "output_type": "display_data"
    }
   ],
   "source": [
    "sns.distplot( x= Incomplete_Rides_subset)\n",
    "Incomplete_Rides_subset.value_counts()\n",
    "# clearly 1.0 has more "
   ]
  },
  {
   "cell_type": "code",
   "execution_count": 36,
   "id": "eb2f0d60-b4cc-4ead-ad31-d01182db53b1",
   "metadata": {},
   "outputs": [],
   "source": [
    "Reason_for_cancelling_by_Customer_subset =  df_uber['Reason for cancelling by Customer'].dropna() "
   ]
  },
  {
   "cell_type": "code",
   "execution_count": 37,
   "id": "26126856-35bc-4b22-b671-af7faa2b04ed",
   "metadata": {},
   "outputs": [
    {
     "data": {
      "text/plain": [
       "Reason for cancelling by Customer\n",
       "Wrong Address                                   2362\n",
       "Change of plans                                 2353\n",
       "Driver is not moving towards pickup location    2335\n",
       "Driver asked to cancel                          2295\n",
       "AC is not working                               1155\n",
       "Name: count, dtype: Int64"
      ]
     },
     "execution_count": 37,
     "metadata": {},
     "output_type": "execute_result"
    },
    {
     "data": {
      "image/png": "[encoded data removed]",
      "text/plain": [
       "<Figure size 511.111x500 with 1 Axes>"
      ]
     },
     "metadata": {},
     "output_type": "display_data"
    }
   ],
   "source": [
    "sns.set_style('whitegrid')\n",
    "sns.catplot( x=Reason_for_cancelling_by_Customer_subset,kind = 'count'   )\n",
    "plt.xticks(rotation = 86)\n",
    "Reason_for_cancelling_by_Customer_subset.value_counts()\n",
    "# clearly wrongaddres and changeofplans are most repetly reasons for cancelling rides by customer"
   ]
  },
  {
   "cell_type": "code",
   "execution_count": 38,
   "id": "e0cfb363-c625-46c9-a266-8a972c7303bb",
   "metadata": {},
   "outputs": [],
   "source": [
    "Cancelled_Rides_by_Customer_subset =  df_uber['Cancelled Rides by Customer'].dropna() "
   ]
  },
  {
   "cell_type": "code",
   "execution_count": 39,
   "id": "71e68eb0-9d48-4fbb-ba90-788f69453103",
   "metadata": {},
   "outputs": [
    {
     "name": "stderr",
     "output_type": "stream",
     "text": [
      "C:\\Users\\sudha\\AppData\\Local\\Temp\\ipykernel_29132\\890603647.py:2: UserWarning: \n",
      "\n",
      "`distplot` is a deprecated function and will be removed in seaborn v0.14.0.\n",
      "\n",
      "Please adapt your code to use either `displot` (a figure-level function with\n",
      "similar flexibility) or `histplot` (an axes-level function for histograms).\n",
      "\n",
      "For a guide to updating your code to use the new functions, please see\n",
      "https://gist.github.com/mwaskom/de44147ed2974457ad6372750bbe5751\n",
      "\n",
      "  sns.distplot( x=Cancelled_Rides_by_Customer_subset  )\n",
      "C:\\Users\\sudha\\anaconda3\\Lib\\site-packages\\seaborn\\distributions.py:2496: UserWarning: Dataset has 0 variance; skipping density estimate. Pass `warn_singular=False` to disable this warning.\n",
      "  kdeplot(**{axis: a}, ax=ax, color=kde_color, **kde_kws)\n"
     ]
    },
    {
     "data": {
      "text/plain": [
       "Cancelled Rides by Customer\n",
       "1.0    10500\n",
       "Name: count, dtype: int64"
      ]
     },
     "execution_count": 39,
     "metadata": {},
     "output_type": "execute_result"
    },
    {
     "data": {
      "image/png": "[encoded data removed]",
      "text/plain": [
       "<Figure size 640x480 with 1 Axes>"
      ]
     },
     "metadata": {},
     "output_type": "display_data"
    }
   ],
   "source": [
    "sns.set_style('darkgrid')\n",
    "sns.distplot( x=Cancelled_Rides_by_Customer_subset  )\n",
    "plt.xticks(rotation = 86)\n",
    "Cancelled_Rides_by_Customer_subset.value_counts()"
   ]
  },
  {
   "cell_type": "code",
   "execution_count": 40,
   "id": "18b99901-9018-496e-9d67-00e02c58b3f5",
   "metadata": {},
   "outputs": [],
   "source": [
    "Cancelled_Rides_by_Driver_subset =  df_uber['Cancelled Rides by Driver'].dropna() "
   ]
  },
  {
   "cell_type": "code",
   "execution_count": 41,
   "id": "40a80568-25c7-4490-b79c-395f738ffe85",
   "metadata": {},
   "outputs": [
    {
     "name": "stderr",
     "output_type": "stream",
     "text": [
      "C:\\Users\\sudha\\AppData\\Local\\Temp\\ipykernel_29132\\3591414788.py:1: UserWarning: \n",
      "\n",
      "`distplot` is a deprecated function and will be removed in seaborn v0.14.0.\n",
      "\n",
      "Please adapt your code to use either `displot` (a figure-level function with\n",
      "similar flexibility) or `histplot` (an axes-level function for histograms).\n",
      "\n",
      "For a guide to updating your code to use the new functions, please see\n",
      "https://gist.github.com/mwaskom/de44147ed2974457ad6372750bbe5751\n",
      "\n",
      "  sns.distplot(x = Cancelled_Rides_by_Driver_subset)\n",
      "C:\\Users\\sudha\\anaconda3\\Lib\\site-packages\\seaborn\\distributions.py:2496: UserWarning: Dataset has 0 variance; skipping density estimate. Pass `warn_singular=False` to disable this warning.\n",
      "  kdeplot(**{axis: a}, ax=ax, color=kde_color, **kde_kws)\n"
     ]
    },
    {
     "data": {
      "text/plain": [
       "<Axes: ylabel='Density'>"
      ]
     },
     "execution_count": 41,
     "metadata": {},
     "output_type": "execute_result"
    },
    {
     "data": {
      "image/png": "[encoded data removed]",
      "text/plain": [
       "<Figure size 640x480 with 1 Axes>"
      ]
     },
     "metadata": {},
     "output_type": "display_data"
    }
   ],
   "source": [
    "sns.distplot(x = Cancelled_Rides_by_Driver_subset)"
   ]
  },
  {
   "cell_type": "code",
   "execution_count": 42,
   "id": "61b9600d-1e1e-4ada-a7bc-596960d87b85",
   "metadata": {},
   "outputs": [],
   "source": [
    "Driver_Cancellation_Reason_subset =  df_uber['Driver Cancellation Reason'].dropna()"
   ]
  },
  {
   "cell_type": "code",
   "execution_count": 43,
   "id": "b5075e00-540a-4133-8315-cdb60c5663b6",
   "metadata": {},
   "outputs": [
    {
     "data": {
      "text/plain": [
       "Driver Cancellation Reason\n",
       "Customer related issue                 6837\n",
       "The customer was coughing/sick         6751\n",
       "Personal & Car related issues          6726\n",
       "More than permitted people in there    6686\n",
       "Name: count, dtype: Int64"
      ]
     },
     "execution_count": 43,
     "metadata": {},
     "output_type": "execute_result"
    },
    {
     "data": {
      "image/png": "[encoded data removed]",
      "text/plain": [
       "<Figure size 1644.44x700 with 1 Axes>"
      ]
     },
     "metadata": {},
     "output_type": "display_data"
    }
   ],
   "source": [
    "# from this plot we can see customerrelated issue and customer was sick are the main reasons for driver cancellation \n",
    "sns.catplot(y =Driver_Cancellation_Reason_subset ,kind = 'count',height =7 ,aspect=7/3)\n",
    "Driver_Cancellation_Reason_subset.value_counts()"
   ]
  },
  {
   "cell_type": "code",
   "execution_count": 44,
   "id": "40fcda97-ddcd-4de4-a202-7d9b02679d2e",
   "metadata": {},
   "outputs": [],
   "source": [
    "# reason_counts = Driver_Cancellation_Reason_subset.value_counts()\n",
    "# sns.barplot(\n",
    "#     y=reason_counts.index,\n",
    "#     x=reason_counts.values\n",
    "   \n",
    "# ) gpt\n",
    "# Driver_Cancellation_Re"
   ]
  },
  {
   "cell_type": "markdown",
   "id": "6cfbeffb-7da7-468d-9e10-bbd55989e660",
   "metadata": {},
   "source": [
    "##### filling the null values with mode"
   ]
  },
  {
   "cell_type": "code",
   "execution_count": 45,
   "id": "cd5cf4d2-6f47-4a1b-a6e7-72a956c1fd51",
   "metadata": {},
   "outputs": [],
   "source": [
    "df_uber['Driver Ratings'] = df_uber['Driver Ratings'].fillna(df_uber['Driver Ratings'].mode()[0])"
   ]
  },
  {
   "cell_type": "code",
   "execution_count": 46,
   "id": "2a181c00-7657-4762-b0d8-e78e70e36924",
   "metadata": {},
   "outputs": [
    {
     "data": {
      "text/plain": [
       "Driver Ratings\n",
       "4.3    71081\n",
       "4.2    13841\n",
       "4.6     9368\n",
       "4.4     7018\n",
       "4.1     6966\n",
       "4.9     4705\n",
       "4.7     4678\n",
       "4.5     4634\n",
       "3.9     3915\n",
       "3.8     3848\n",
       "3.7     3790\n",
       "5.0     2365\n",
       "4.8     2328\n",
       "3.6     2026\n",
       "4.0     1995\n",
       "3.2     1538\n",
       "3.4     1491\n",
       "3.3     1461\n",
       "3.1     1459\n",
       "3.5      748\n",
       "3.0      745\n",
       "Name: count, dtype: int64"
      ]
     },
     "execution_count": 46,
     "metadata": {},
     "output_type": "execute_result"
    },
    {
     "data": {
      "image/png": "[encoded data removed]",
      "text/plain": [
       "<Figure size 511.111x500 with 1 Axes>"
      ]
     },
     "metadata": {},
     "output_type": "display_data"
    }
   ],
   "source": [
    "sns.catplot(x = df_uber['Driver Ratings'],kind = 'box' )\n",
    "df_uber['Driver Ratings'].value_counts()\n",
    "# from this boxplot the iqr (most avg )rating is  4.25 \n",
    "# # from thsi plot the outliesrs are 3 to 3.75 and  4.5 to 5 ratings"
   ]
  },
  {
   "cell_type": "code",
   "execution_count": 59,
   "id": "31f2087d-d6f2-419e-9b98-349240d90842",
   "metadata": {},
   "outputs": [
    {
     "data": {
      "text/plain": [
       "np.int64(0)"
      ]
     },
     "execution_count": 59,
     "metadata": {},
     "output_type": "execute_result"
    },
    {
     "data": {
      "image/png": "[encoded data removed]",
      "text/plain": [
       "<Figure size 1000.02x600 with 1 Axes>"
      ]
     },
     "metadata": {},
     "output_type": "display_data"
    }
   ],
   "source": [
    "sns.catplot(x = df_uber['Driver Ratings'],kind = 'count',hue = df_uber_main['Vehicle Type'],height = 6,aspect= 10/7 )\n",
    "df_uber['Driver Ratings'].isna().sum()\n",
    "# mostdrivers are  rated  4.3 where auto has more ratings than any other vehicletype it followed by the gominin and go sedan\n",
    "\n"
   ]
  },
  {
   "cell_type": "code",
   "execution_count": 57,
   "id": "6a24c744-45ad-4bd8-8d41-a6cac05cb699",
   "metadata": {},
   "outputs": [],
   "source": [
    "df_uber['Customer Rating'] = df_uber['Customer Rating'].fillna(df_uber['Customer Rating'].mode()[0])"
   ]
  },
  {
   "cell_type": "code",
   "execution_count": 58,
   "id": "329e47e2-8924-4b75-a121-3aa184b8e59a",
   "metadata": {},
   "outputs": [
    {
     "data": {
      "text/plain": [
       "np.int64(0)"
      ]
     },
     "execution_count": 58,
     "metadata": {},
     "output_type": "execute_result"
    },
    {
     "data": {
      "image/png": "[encoded data removed]",
      "text/plain": [
       "<Figure size 1717.88x900 with 1 Axes>"
      ]
     },
     "metadata": {},
     "output_type": "display_data"
    }
   ],
   "source": [
    "sns.catplot(x = df_uber['Customer Rating'],kind = 'count',hue = df_uber_main['Vehicle Type'],height = 9,aspect= 14/8)\n",
    "df_uber['Customer Rating'].isna().sum()\n",
    "# clearly from thsi plot most of the customer gave 4.9 ,4.6 rating with often vehiclestypes like auto,gomini,gosedan,bike etcc..\n",
    "# this indicates customer are happy whith the driver's and experience\n",
    "# ratings like 3.0 to 3.5 are treated as outliers"
   ]
  },
  {
   "cell_type": "code",
   "execution_count": null,
   "id": "d67b2edf-749b-4ce1-a1b2-2958594108da",
   "metadata": {},
   "outputs": [],
   "source": [
    "df_uber['Avg CTAT'] = df_uber['Avg CTAT'].fillna(df_uber['Avg CTAT'].mean())\n",
    "df_uber['Avg CTAT'].value_counts()"
   ]
  },
  {
   "cell_type": "code",
   "execution_count": null,
   "id": "2542c0ef-8523-4a62-a50f-dc55c0cbd6e7",
   "metadata": {},
   "outputs": [],
   "source": [
    "sns.catplot(y= df_uber['Avg CTAT'], x= df_uber_main['Vehicle Type'].values,kind  = 'violin',ci=False)"
   ]
  },
  {
   "cell_type": "code",
   "execution_count": null,
   "id": "47056bef-142f-4568-9a70-93a94bee3ff0",
   "metadata": {},
   "outputs": [],
   "source": [
    "df_uber['Ride Distance'] = df_uber['Ride Distance'].fillna(df_uber['Ride Distance'].mean())"
   ]
  },
  {
   "cell_type": "code",
   "execution_count": null,
   "id": "795f2f42-55a1-4c58-823d-63f9a7f0a48b",
   "metadata": {},
   "outputs": [],
   "source": [
    "df_uber['Booking Value'] = df_uber['Booking Value'].fillna(df_uber['Booking Value'].mean())"
   ]
  },
  {
   "cell_type": "code",
   "execution_count": null,
   "id": "f33013a6-a868-41ef-b60f-ca8c5e2b74a6",
   "metadata": {},
   "outputs": [],
   "source": [
    "df_uber['Payment Method'] = df_uber['Payment Method'].fillna(df_uber['Payment Method'].mode()[0])"
   ]
  },
  {
   "cell_type": "code",
   "execution_count": null,
   "id": "a80e9188-dc5a-480e-9e2a-37fc45842953",
   "metadata": {},
   "outputs": [],
   "source": [
    "sns.countplot(x =df_uber['Payment Method'] )\n",
    "# clearly we can see upi is the most used payment metod and then cash,uber wallet"
   ]
  },
  {
   "cell_type": "code",
   "execution_count": null,
   "id": "31270ffd-4844-4506-a779-d62ff4ced703",
   "metadata": {},
   "outputs": [],
   "source": [
    "(df_uber.isnull().mean()*100).sort_values(ascending=False)"
   ]
  },
  {
   "cell_type": "markdown",
   "id": "07fcadda-ff17-4734-a271-d5e5c030de15",
   "metadata": {},
   "source": [
    "### making the df_uber_main dataframe with specific columns "
   ]
  },
  {
   "cell_type": "code",
   "execution_count": null,
   "id": "40fd6aa7-40ea-4313-b2c8-f9e22816e01b",
   "metadata": {},
   "outputs": [],
   "source": [
    "df_uber.head().columns"
   ]
  },
  {
   "cell_type": "code",
   "execution_count": 54,
   "id": "a5c75783-c797-4308-8a19-6c73610a43d6",
   "metadata": {},
   "outputs": [],
   "source": [
    "df_uber_main  = df_uber[['Date','Time','Booking ID','Booking Status','Customer ID','Vehicle Type','Pickup Location','Drop Location','Booking Value','Ride Distance','Payment Method']]"
   ]
  },
  {
   "cell_type": "code",
   "execution_count": 55,
   "id": "8b5d3caf-5fab-4fab-9fca-3400f858d101",
   "metadata": {},
   "outputs": [
    {
     "data": {
      "text/plain": [
       "(150000, 11)"
      ]
     },
     "execution_count": 55,
     "metadata": {},
     "output_type": "execute_result"
    }
   ],
   "source": [
    "df_uber_main.shape"
   ]
  },
  {
   "cell_type": "code",
   "execution_count": null,
   "id": "12cbb59d-6819-4a5d-b07c-c00a7b95be6b",
   "metadata": {},
   "outputs": [],
   "source": [
    "df_uber_main.isna().sum()"
   ]
  },
  {
   "cell_type": "code",
   "execution_count": null,
   "id": "c7b0892e-2c37-4adc-a12e-ea0138265662",
   "metadata": {},
   "outputs": [],
   "source": [
    "df_uber_main.dtypes"
   ]
  },
  {
   "cell_type": "code",
   "execution_count": null,
   "id": "4d0104bb-ad5b-4e71-b20c-0a588ce5a999",
   "metadata": {},
   "outputs": [],
   "source": [
    "df_uber_main"
   ]
  },
  {
   "cell_type": "code",
   "execution_count": null,
   "id": "367bad88-f9fc-4b95-94f5-7ae3ee1ae79c",
   "metadata": {},
   "outputs": [],
   "source": [
    "df_uber_main_vehicletotal =  df_uber_main.groupby('Vehicle Type').agg( countt = ('Vehicle Type', 'count')).sort_values('countt' ,ascending=False)\n",
    "# clearly we can see most used vehicle are auto and gomini gosedan etcc"
   ]
  },
  {
   "cell_type": "code",
   "execution_count": null,
   "id": "fad9af2d-b4e6-4dd8-97c2-00948d2a0545",
   "metadata": {},
   "outputs": [],
   "source": [
    "sns.barplot(data = df_uber_main_vehicletotal ,x = 'Vehicle Type' , y = 'countt')\n",
    "df_uber_main_vehicletotal"
   ]
  },
  {
   "cell_type": "code",
   "execution_count": null,
   "id": "a8195121-a7b6-44e1-ba0b-5690d5321676",
   "metadata": {},
   "outputs": [],
   "source": [
    "df_uber_main_vehicle_payment = (\n",
    "    df_uber_main.groupby(['Vehicle Type','Payment Method'])\n",
    "    .agg( total = ('Payment Method', 'count'))\n",
    "    .sort_values(['Vehicle Type','total'],ascending=[True,False]))"
   ]
  },
  {
   "cell_type": "code",
   "execution_count": null,
   "id": "cae019e6-de67-4eb5-9a7b-ea081f99637b",
   "metadata": {},
   "outputs": [],
   "source": [
    "sns.barplot(data = df_uber_main_vehicle_payment , x = 'Vehicle Type' , hue = 'Payment Method' , y = 'total' )\n",
    "df_uber_main_vehicle_payment\n",
    "# for all vehicleType  mostly used  upi then cash ,uber wallet\n",
    "# with upi mostly use auto ,gomini,bike ./\n",
    "# with cash mostly auto, gomini,gosedan"
   ]
  },
  {
   "cell_type": "code",
   "execution_count": null,
   "id": "a223f0ee-15e5-4fdc-9f2b-ca7c057f50f2",
   "metadata": {},
   "outputs": [],
   "source": [
    "# Booking Value\tRide Distance\tPayment Method\n",
    "df_uber_main.dtypes"
   ]
  },
  {
   "cell_type": "code",
   "execution_count": null,
   "id": "a16304ba-8090-4526-bc10-5a922590de65",
   "metadata": {},
   "outputs": [],
   "source": [
    "df_uber_main_book_minridedist =  df_uber_main.groupby(['Booking Value']).agg(min_ridedistance =('Ride Distance','min')).sort_values(['Booking Value','min_ridedistance'])"
   ]
  },
  {
   "cell_type": "code",
   "execution_count": null,
   "id": "abaac4c5-7d97-4242-8eed-88a1914cb7b0",
   "metadata": {},
   "outputs": [],
   "source": [
    "sns.jointplot( data =df_uber_main_book_minridedist  , x = 'Booking Value' , y ='min_ridedistance' ,kind = 'hex' ,gridsize=14, cmap=\"Accent\")\n",
    "df_uber_main_book_minridedist\n",
    "# from this we can say that minimum ₹50 req for min_ridedistance of 2.27km"
   ]
  },
  {
   "cell_type": "code",
   "execution_count": null,
   "id": "c6b1a0bb-bf0f-49a8-b610-184227a38611",
   "metadata": {},
   "outputs": [],
   "source": [
    "sns.lineplot( data =df_uber_main_book_minridedist.sample(200)  , x = 'Booking Value' , y ='min_ridedistance')"
   ]
  },
  {
   "cell_type": "code",
   "execution_count": null,
   "id": "a18f2b5f-2dca-4229-912a-fed8e1c19739",
   "metadata": {},
   "outputs": [],
   "source": [
    "df_uber_main_book_maxridedist =  df_uber_main.groupby(['Booking Value']).agg(max_ridedistance =('Ride Distance','max')).sort_values(['Booking Value','max_ridedistance'],ascending=[True,False])"
   ]
  },
  {
   "cell_type": "code",
   "execution_count": null,
   "id": "22f12d8c-c81d-48c7-a82d-a7f16556e26e",
   "metadata": {},
   "outputs": [],
   "source": [
    "df_uber_main_book_maxridedist\n",
    "# from this max_ridedistance can be avail at 50.0 too"
   ]
  },
  {
   "cell_type": "code",
   "execution_count": null,
   "id": "4f300dd5-7f4a-4d45-9a45-a36bae9e3cc2",
   "metadata": {},
   "outputs": [],
   "source": [
    "# Booking Status   Booking Value   Ride Distance"
   ]
  },
  {
   "cell_type": "code",
   "execution_count": null,
   "id": "2513511d-143e-4295-ae10-7fdd57897f2b",
   "metadata": {},
   "outputs": [],
   "source": [
    "# df_uber_main.groupby(['Booking Status','Booking Value']).agg(book = ('Booking Status',lambda x :x.mode()[0]))"
   ]
  },
  {
   "cell_type": "code",
   "execution_count": null,
   "id": "27d3251f-38da-43ae-94a2-cc8e00ff8483",
   "metadata": {},
   "outputs": [],
   "source": [
    "df_uber_main['Booking Status'].value_counts()"
   ]
  },
  {
   "cell_type": "code",
   "execution_count": null,
   "id": "6d2221f1-8d6b-49d0-a0b9-cdd11a714373",
   "metadata": {},
   "outputs": [],
   "source": [
    "df_uber_main_bookingstatustotal  = df_uber_main.groupby(['Booking Status',]).agg(book = ('Booking Status','count'))"
   ]
  },
  {
   "cell_type": "code",
   "execution_count": null,
   "id": "e8c50b9c-9b4d-4f65-b527-246f73186d29",
   "metadata": {},
   "outputs": [],
   "source": [
    "df_uber_main_bookingstatustotal"
   ]
  },
  {
   "cell_type": "code",
   "execution_count": null,
   "id": "6689069f-46ee-4620-8a66-6c994affcf76",
   "metadata": {},
   "outputs": [],
   "source": [
    "# df_uber_main_vehicle_bookingtype  = df_uber_main.groupby(['Booking Status','Vehicle Type']).agg(total = ('Booking Status','count')).sort_values('total',ascending=False)"
   ]
  },
  {
   "cell_type": "code",
   "execution_count": null,
   "id": "65e1faa0-b84d-41ee-a43a-7920ffe08490",
   "metadata": {},
   "outputs": [],
   "source": [
    "df_uber_main_vehicle_bookingtype    = (\n",
    "    df_uber_main\n",
    "    .groupby(['Booking Status','Vehicle Type'])\n",
    "    .agg(t=('Booking Status','count'))  # here is agg\n",
    "    .unstack(fill_value=0)                 # pivot form\n",
    ")"
   ]
  },
  {
   "cell_type": "code",
   "execution_count": null,
   "id": "89985d6b-833f-4094-b579-193cef33f42b",
   "metadata": {},
   "outputs": [],
   "source": [
    "df_uber_main_vehicle_bookingtype "
   ]
  },
  {
   "cell_type": "code",
   "execution_count": null,
   "id": "7feda693-7736-4dad-a52c-cb4f3773c98f",
   "metadata": {},
   "outputs": [],
   "source": [
    "df_uber_main.head(1)"
   ]
  },
  {
   "cell_type": "code",
   "execution_count": null,
   "id": "6201be1e-be1d-48ce-b964-18701cf9feed",
   "metadata": {},
   "outputs": [],
   "source": [
    "df_uber_main_dropcount_pickup_dropmode_vehicletype =  df_uber_main.groupby(['Pickup Location' ,'Vehicle Type']).agg(dropcount = ('Drop Location','count') , dropmode = ('Drop Location',lambda x : x.mode()[0]))"
   ]
  },
  {
   "cell_type": "code",
   "execution_count": null,
   "id": "0f16ac81-e6b6-4a3d-855d-8242a1fd34cc",
   "metadata": {},
   "outputs": [],
   "source": [
    "# counts how many Drop Location values exist for each Pickup Location.\n",
    "# applies a custom function → takes the most frequent (mode) Drop Location.\n",
    "print(df_uber_main_dropcount_pickup_dropmode_vehicletype.shape)\n",
    "print(df_uber_main_dropcount_pickup_dropmode_vehicletype)\n",
    "sns.barplot(data =df_uber_main_dropcount_pickup_dropmode_vehicletype.head(200),y = 'Pickup Location',x = 'dropcount' )"
   ]
  },
  {
   "cell_type": "code",
   "execution_count": null,
   "id": "f2bce735-566d-45ca-905b-b2cb4485403a",
   "metadata": {},
   "outputs": [],
   "source": [
    "df_uber_main.head(1)"
   ]
  },
  {
   "cell_type": "code",
   "execution_count": null,
   "id": "6878f44d-b479-4192-b50b-a305d0c297c7",
   "metadata": {},
   "outputs": [],
   "source": [
    "df_uber_main['hour'] = pd.to_datetime(df_uber_main['Time']).dt.hour\n",
    "sns.histplot(data=df_uber_main, x='hour', bins=24, kde=True,hue = 'Vehicle Type' ,)\n",
    "# from this plot from 15 to 20 (3:00pm to 8:00pm ) more of bookings are made by the coustomer\n",
    "# at 10AM bookings of auto are close to the gomini at 8PM\n",
    "# at 12PM the bookings are almost decreased and rasied after the 3PM again"
   ]
  },
  {
   "cell_type": "code",
   "execution_count": null,
   "id": "fd19d2e7-a617-4963-bf3b-c0e081bbffab",
   "metadata": {},
   "outputs": [],
   "source": [
    "print('hdgd')"
   ]
  }
 ],
 "metadata": {
  "kernelspec": {
   "display_name": "Python [conda env:base] *",
   "language": "python",
   "name": "conda-base-py"
  },
  "language_info": {
   "codemirror_mode": {
    "name": "ipython",
    "version": 3
   },
   "file_extension": ".py",
   "mimetype": "text/x-python",
   "name": "python",
   "nbconvert_exporter": "python",
   "pygments_lexer": "ipython3",
   "version": "3.13.5"
  }
 },
 "nbformat": 4,
 "nbformat_minor": 5
}
